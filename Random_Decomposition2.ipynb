{
  "nbformat": 4,
  "nbformat_minor": 0,
  "metadata": {
    "colab": {
      "name": "Random Decomposition.ipynb",
      "provenance": [],
      "include_colab_link": true
    },
    "kernelspec": {
      "name": "python3",
      "display_name": "Python 3"
    }
  },
  "cells": [
    {
      "cell_type": "markdown",
      "metadata": {
        "id": "view-in-github",
        "colab_type": "text"
      },
      "source": [
        "<a href=\"https://colab.research.google.com/github/alifele/Simulation-Methods/blob/master/Random_Decomposition2.ipynb\" target=\"_parent\"><img src=\"https://colab.research.google.com/assets/colab-badge.svg\" alt=\"Open In Colab\"/></a>"
      ]
    },
    {
      "cell_type": "code",
      "metadata": {
        "id": "ajREZRKB1Agw",
        "colab_type": "code",
        "colab": {}
      },
      "source": [
        "import numpy as np\n",
        "import matplotlib.pyplot as plt"
      ],
      "execution_count": 0,
      "outputs": []
    },
    {
      "cell_type": "code",
      "metadata": {
        "id": "ir4JYgmLmolf",
        "colab_type": "code",
        "colab": {}
      },
      "source": [
        "def Generator(t,L): # t is the number of particles released and L is the dimension of the lattice\n",
        "  surface = np.zeros((L,))\n",
        "  for i in range(t):\n",
        "    rand = int(np.random.random()*L)\n",
        "    surface[rand] +=1\n",
        "    \n",
        "  return surface\n",
        "    "
      ],
      "execution_count": 0,
      "outputs": []
    },
    {
      "cell_type": "code",
      "metadata": {
        "id": "f5nFN2QZnbew",
        "colab_type": "code",
        "colab": {}
      },
      "source": [
        "def display(subsurface_points, surface, marker):\n",
        "  points = []\n",
        "  for i in range(surface.shape[0]):\n",
        "    \n",
        "    for j in range(int(surface[i])):\n",
        "      points.append((i,j + subsurface_points[subsurface_points[:,0]==i][-1][1] ))\n",
        "    \n",
        "  points = np.array(points)\n",
        "  plt.plot(points[:,0], points[:,1], marker)\n",
        "  return points\n",
        "  "
      ],
      "execution_count": 0,
      "outputs": []
    },
    {
      "cell_type": "code",
      "metadata": {
        "id": "A1fdqCg41QtO",
        "colab_type": "code",
        "colab": {
          "base_uri": "https://localhost:8080/",
          "height": 269
        },
        "outputId": "47981f61-37cf-4100-feeb-807cd54816b3"
      },
      "source": [
        "L = 50\n",
        "t = 1000\n",
        "subsurface_points = np.array([(i,0) for i in range(L)])\n",
        "surface = Generator(t, L)\n",
        "points = display(subsurface_points,surface,'bs')\n",
        "\n",
        "surface=Generator(t, L)\n",
        "subsurface_points = points \n",
        "points = display(subsurface_points, surface, 'rs')\n",
        "\n",
        "\n",
        "surface=Generator(t, L)\n",
        "subsurface_points = points \n",
        "points = display(subsurface_points, surface, 'gs')\n",
        "\n",
        "\n"
      ],
      "execution_count": 274,
      "outputs": [
        {
          "output_type": "display_data",
          "data": {
            "image/png": "[encoded data removed]",
            "text/plain": [
              "<Figure size 432x288 with 1 Axes>"
            ]
          },
          "metadata": {
            "tags": []
          }
        }
      ]
    },
    {
      "cell_type": "markdown",
      "metadata": {
        "id": "_oyXVtNP1dv6",
        "colab_type": "text"
      },
      "source": [
        "# Some useful calculations"
      ]
    },
    {
      "cell_type": "markdown",
      "metadata": {
        "id": "solZs-pV16NE",
        "colab_type": "text"
      },
      "source": [
        "## Simulation of Kenar Neshast"
      ]
    },
    {
      "cell_type": "code",
      "metadata": {
        "id": "iDLQDiUvCuXQ",
        "colab_type": "code",
        "colab": {}
      },
      "source": [
        "L = 100\n",
        "t = 10000"
      ],
      "execution_count": 0,
      "outputs": []
    },
    {
      "cell_type": "code",
      "metadata": {
        "id": "X7BkUTuexHpc",
        "colab_type": "code",
        "colab": {}
      },
      "source": [
        "class Experiment_paeen:\n",
        "  \n",
        "  def __init__(self,L,t):\n",
        "    self.L = L\n",
        "    self.t = t\n",
        "    self.surface = np.zeros((self.L,))\n",
        "  def run_experiment(self,t):\n",
        "    #self.surface = np.zeros((self.L,))\n",
        "    for i in range(t):\n",
        "      \n",
        "      rand = int(np.random.random()*self.L)\n",
        "      shift = np.argmin([self.surface[(rand-1)%L], self.surface[(rand)%L], self.surface[(rand+1)%L]])  # for periodic boundry condition\n",
        "      \n",
        "      if rand + shift -1 == self.L:\n",
        "        self.surface[0]+=1\n",
        "        \n",
        "      else:\n",
        "        #print(shift, rand,shift + rand -1)\n",
        "        self.surface[rand+shift -1]+=1\n",
        "\n",
        "    #return self.surface\n",
        "  \n",
        "  def w(self):\n",
        "    return self.surface.std()\n",
        "  "
      ],
      "execution_count": 0,
      "outputs": []
    },
    {
      "cell_type": "code",
      "metadata": {
        "id": "HXPb_rII_v91",
        "colab_type": "code",
        "colab": {}
      },
      "source": [
        "exp = Experiment_paeen(L,t)\n",
        "exp.run_experiment(t)\n"
      ],
      "execution_count": 0,
      "outputs": []
    },
    {
      "cell_type": "code",
      "metadata": {
        "id": "I3N9vydOCap_",
        "colab_type": "code",
        "colab": {
          "base_uri": "https://localhost:8080/",
          "height": 304
        },
        "outputId": "c866b4e6-c429-4949-c4dd-cb65f876eb14"
      },
      "source": [
        "subsurface_points = np.array([(i,0) for i in range(L)])\n",
        "surface = exp.surface\n",
        "points = display(subsurface_points,surface,'bs')\n",
        "print(t)\n",
        "exp.run_experiment(t)\n",
        "surface = exp.surface\n",
        "subsurface_points = points\n",
        "points = display(subsurface_points, surface, 'rs')\n",
        "\n",
        "print(t)\n",
        "exp.run_experiment(t)\n",
        "surface = exp.surface\n",
        "subsurface_points = points\n",
        "points = display(subsurface_points, surface, 'gs')"
      ],
      "execution_count": 345,
      "outputs": [
        {
          "output_type": "stream",
          "text": [
            "10000\n",
            "10000\n"
          ],
          "name": "stdout"
        },
        {
          "output_type": "display_data",
          "data": {
            "image/png": "[encoded data removed]",
            "text/plain": [
              "<Figure size 432x288 with 1 Axes>"
            ]
          },
          "metadata": {
            "tags": []
          }
        }
      ]
    },
    {
      "cell_type": "markdown",
      "metadata": {
        "id": "kyUIharoDmPt",
        "colab_type": "text"
      },
      "source": [
        "## Data Analysis\n"
      ]
    },
    {
      "cell_type": "code",
      "metadata": {
        "id": "3HtnZlwuD75X",
        "colab_type": "code",
        "colab": {
          "base_uri": "https://localhost:8080/",
          "height": 290
        },
        "outputId": "b65c1a10-0cc9-4f1d-e921-4f41714f5d9a"
      },
      "source": [
        "L = 100\n",
        "n = 10000\n",
        "exp = Experiment_paeen(L,n)\n",
        "w_points = []\n",
        "for t in range(2,n,100):\n",
        "  exp.run_experiment(t)\n",
        "  if np.log10(t) == np.log10(t).ceil\n",
        "  std = exp.w()\n",
        "  w_points.append((t,std))\n",
        "  if t%100 ==0:\n",
        "    print(t/n*100)\n",
        "w_points = np.array(w_points)\n",
        "plt.loglog(w_points[:,0], w_points[:,1],'o')\n",
        "  \n",
        "  \n",
        "  "
      ],
      "execution_count": 301,
      "outputs": [
        {
          "output_type": "execute_result",
          "data": {
            "text/plain": [
              "[<matplotlib.lines.Line2D at 0x7f4dc560b4e0>]"
            ]
          },
          "metadata": {
            "tags": []
          },
          "execution_count": 301
        },
        {
          "output_type": "display_data",
          "data": {
            "image/png": "[encoded data removed]",
            "text/plain": [
              "<Figure size 432x288 with 1 Axes>"
            ]
          },
          "metadata": {
            "tags": []
          }
        }
      ]
    },
    {
      "cell_type": "markdown",
      "metadata": {
        "id": "VRrdc4-0Jupd",
        "colab_type": "text"
      },
      "source": [
        "# Kenar Neshast"
      ]
    },
    {
      "cell_type": "code",
      "metadata": {
        "id": "Dq9JWwANIdX1",
        "colab_type": "code",
        "colab": {}
      },
      "source": [
        "class Experiment_kenar:\n",
        "  \n",
        "  def __init__(self,L,t):\n",
        "    self.L = L\n",
        "    self.t = t\n",
        "  def run_experiment(self,t):\n",
        "    self.surface = np.zeros((self.L,))\n",
        "    for i in range(t):\n",
        "      \n",
        "      rand = int(np.random.random()*self.L)\n",
        "      shift = np.argmax([self.surface[(rand-1)%L], self.surface[(rand)%L], self.surface[(rand+1)%L]])  # for periodic boundry condition\n",
        "      \n",
        "      if rand + shift -1 == self.L:\n",
        "        self.surface[0]+=1\n",
        "        \n",
        "      else:\n",
        "        #print(shift, rand,shift + rand -1)\n",
        "        self.surface[rand+shift -1]+= self.surface\n",
        "\n",
        "    #return self.surface\n",
        "  \n",
        "  def w(self):\n",
        "    return self.surface.std()"
      ],
      "execution_count": 0,
      "outputs": []
    },
    {
      "cell_type": "code",
      "metadata": {
        "id": "g9tDou1MMYJB",
        "colab_type": "code",
        "colab": {
          "base_uri": "https://localhost:8080/",
          "height": 34
        },
        "outputId": "98515c92-2dba-423f-ecc4-1a85316bb8ac"
      },
      "source": [
        "np.log10(100)"
      ],
      "execution_count": 303,
      "outputs": [
        {
          "output_type": "execute_result",
          "data": {
            "text/plain": [
              "2.0"
            ]
          },
          "metadata": {
            "tags": []
          },
          "execution_count": 303
        }
      ]
    },
    {
      "cell_type": "code",
      "metadata": {
        "id": "Gs4vXIeUMZDQ",
        "colab_type": "code",
        "colab": {}
      },
      "source": [
        ""
      ],
      "execution_count": 0,
      "outputs": []
    }
  ]
}