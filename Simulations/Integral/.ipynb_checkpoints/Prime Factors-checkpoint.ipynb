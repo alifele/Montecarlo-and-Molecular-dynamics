{
 "cells": [
  {
   "cell_type": "code",
   "execution_count": 106,
   "metadata": {},
   "outputs": [],
   "source": [
    "def isprime(number):\n",
    "    flag =0\n",
    "    if number ==2:\n",
    "        return 1\n",
    "    for i in range(2,int(number/2)+2):\n",
    "        if number%i==0:\n",
    "            return 0\n",
    "            flag=1\n",
    "    if flag==0:\n",
    "            return 1\n",
    "\n",
    "        "
   ]
  },
  {
   "cell_type": "code",
   "execution_count": null,
   "metadata": {},
   "outputs": [],
   "source": []
  },
  {
   "cell_type": "code",
   "execution_count": 210,
   "metadata": {},
   "outputs": [
    {
     "name": "stdout",
     "output_type": "stream",
     "text": [
      "4\n"
     ]
    }
   ],
   "source": [
    "number = int(input())"
   ]
  },
  {
   "cell_type": "code",
   "execution_count": 211,
   "metadata": {},
   "outputs": [],
   "source": [
    "largest_factor = 0\n",
    "for i in range(int(number/2)+2,1,-1):\n",
    "    if isprime(i)==1 and  number%i ==0:\n",
    "        largest_factor = i\n",
    "        break"
   ]
  },
  {
   "cell_type": "code",
   "execution_count": null,
   "metadata": {},
   "outputs": [],
   "source": []
  },
  {
   "cell_type": "code",
   "execution_count": 213,
   "metadata": {},
   "outputs": [
    {
     "name": "stdout",
     "output_type": "stream",
     "text": [
      "2^2\n"
     ]
    }
   ],
   "source": [
    "original = number\n",
    "result = ''\n",
    "if isprime(number)==1:\n",
    "    print('{}^{}'.format(number,1))\n",
    "else:\n",
    "    for factor in range(2,int(number/2) +3):\n",
    "        factor_count=0\n",
    "        if isprime(factor)==1:\n",
    "            while number %factor==0:\n",
    "                factor_count+=1\n",
    "                number /= factor\n",
    "            #print(factor)\n",
    "        if factor_count != 0 and factor != largest_factor:\n",
    "            print('{}^{} * '.format(factor,factor_count),end='')\n",
    "            #result+='{}^{} * '.format(factor,factor_count)\n",
    "            continue\n",
    "        if factor == largest_factor:\n",
    "            print('{}^{}'.format(factor,factor_count))\n"
   ]
  },
  {
   "cell_type": "code",
   "execution_count": null,
   "metadata": {},
   "outputs": [],
   "source": []
  },
  {
   "cell_type": "code",
   "execution_count": null,
   "metadata": {},
   "outputs": [],
   "source": []
  },
  {
   "cell_type": "code",
   "execution_count": null,
   "metadata": {},
   "outputs": [],
   "source": []
  }
 ],
 "metadata": {
  "kernelspec": {
   "display_name": "Python 3",
   "language": "python",
   "name": "python3"
  },
  "language_info": {
   "codemirror_mode": {
    "name": "ipython",
    "version": 3
   },
   "file_extension": ".py",
   "mimetype": "text/x-python",
   "name": "python",
   "nbconvert_exporter": "python",
   "pygments_lexer": "ipython3",
   "version": "3.7.3"
  }
 },
 "nbformat": 4,
 "nbformat_minor": 2
}
