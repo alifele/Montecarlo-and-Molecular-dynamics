{
 "cells": [
  {
   "cell_type": "code",
   "execution_count": 3,
   "metadata": {},
   "outputs": [
    {
     "name": "stdout",
     "output_type": "stream",
     "text": [
      "Hey There. Welcome to NIM Game\n",
      "Please Select one of the options:\n",
      "1>>>Go To Game\n",
      "2>>>Exit\n",
      "5\n",
      "4\n",
      "7\n",
      "9\n",
      "1\n"
     ]
    }
   ],
   "source": [
    "print('Hey There. Welcome to NIM Game')\n",
    "print('Please Select one of the options:')\n",
    "print('1>>>Go To Game')\n",
    "print('2>>>Exit')\n",
    "while menu_state!=2 or menu_state!=1:\n",
    "    menu_state= int(input())\n",
    "    if menu_state ==2:\n",
    "        exit()\n",
    "    if menu_state==1:\n",
    "        break"
   ]
  },
  {
   "cell_type": "code",
   "execution_count": 31,
   "metadata": {},
   "outputs": [
    {
     "name": "stdout",
     "output_type": "stream",
     "text": [
      "Please Enter the name of the Players\n",
      "ali\n",
      "fele\n",
      "Please Enter the number of Stones\n",
      "12\n"
     ]
    }
   ],
   "source": [
    "print('Please Enter the name of the Players')\n",
    "first_player = input()\n",
    "second_player = input()\n",
    "print('Please Enter the number of Stones')\n",
    "stones = int(input())\n",
    "players = [first_player, second_player]"
   ]
  },
  {
   "cell_type": "code",
   "execution_count": null,
   "metadata": {},
   "outputs": [],
   "source": []
  },
  {
   "cell_type": "code",
   "execution_count": 33,
   "metadata": {},
   "outputs": [
    {
     "name": "stdout",
     "output_type": "stream",
     "text": [
      "fele it is your turn\n",
      "12 Stones are left. enter number of stones you want to choose\n",
      "2\n",
      "ali it is your turn\n",
      "10 Stones are left. enter number of stones you want to choose\n",
      "3\n",
      "fele it is your turn\n",
      "7 Stones are left. enter number of stones you want to choose\n",
      "2\n",
      "ali it is your turn\n",
      "5 Stones are left. enter number of stones you want to choose\n",
      "1\n",
      "fele it is your turn\n",
      "4 Stones are left. enter number of stones you want to choose\n",
      "5\n",
      "2\n",
      "ali it is your turn\n",
      "2 Stones are left. enter number of stones you want to choose\n",
      "2\n",
      "ali!.You are the winner\n"
     ]
    }
   ],
   "source": [
    "i=0\n",
    "while stones != 0:\n",
    "    i+=1\n",
    "    print('{} it is your turn.'.format(players[i%2]))\n",
    "    print(\"{} Stones are left. enter number of stones you want to choose\".format(stones))\n",
    "    choose = 0\n",
    "    while choose != 1 and choose !=2 and choose!=3:\n",
    "        choose = int(input())\n",
    "    if stones - choose ==0:\n",
    "        print('{}!.You are the winner'.format(players[i%2]))\n",
    "        break\n",
    "    else :\n",
    "        stones -= choose\n",
    "    \n",
    "\n",
    "\n"
   ]
  },
  {
   "cell_type": "code",
   "execution_count": null,
   "metadata": {},
   "outputs": [],
   "source": []
  }
 ],
 "metadata": {
  "kernelspec": {
   "display_name": "Python 3",
   "language": "python",
   "name": "python3"
  },
  "language_info": {
   "codemirror_mode": {
    "name": "ipython",
    "version": 3
   },
   "file_extension": ".py",
   "mimetype": "text/x-python",
   "name": "python",
   "nbconvert_exporter": "python",
   "pygments_lexer": "ipython3",
   "version": "3.7.3"
  }
 },
 "nbformat": 4,
 "nbformat_minor": 2
}
