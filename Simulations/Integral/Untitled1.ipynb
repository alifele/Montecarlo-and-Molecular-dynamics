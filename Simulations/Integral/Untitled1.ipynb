{
 "cells": [
  {
   "cell_type": "code",
   "execution_count": 60,
   "metadata": {},
   "outputs": [],
   "source": [
    "def find(exp,op):\n",
    "  start_char = exp[0]\n",
    "  end_char = exp[-1]\n",
    "  amalgar=\"-+*\"\n",
    "  t=1\n",
    "  end=0\n",
    "  start=0\n",
    "  j=exp.index(op)\n",
    "  while exp[j-t] not in amalgar :\n",
    "   # print(j-t)\n",
    "    t=t+1\n",
    "    if exp[j-t]==start_char:\n",
    "      j+=1\n",
    "      break\n",
    "  start=j-t+1\n",
    "  t=1\n",
    "  while exp[j+t] not in amalgar:\n",
    "    #print(j+t)\n",
    "    t=t+1\n",
    "    if exp[j+t]==end_char:\n",
    "      j+=1\n",
    "      break\n",
    "  end=j+t+1\n",
    "\n",
    "  return start,end\n"
   ]
  },
  {
   "cell_type": "code",
   "execution_count": 61,
   "metadata": {},
   "outputs": [],
   "source": [
    "exp = '25+12*10-21+14'"
   ]
  },
  {
   "cell_type": "code",
   "execution_count": 62,
   "metadata": {},
   "outputs": [
    {
     "data": {
      "text/plain": [
       "(3, 9)"
      ]
     },
     "execution_count": 62,
     "metadata": {},
     "output_type": "execute_result"
    }
   ],
   "source": [
    "ind = find(exp,'*')\n",
    "ind"
   ]
  },
  {
   "cell_type": "code",
   "execution_count": 63,
   "metadata": {},
   "outputs": [
    {
     "data": {
      "text/plain": [
       "'12*10-'"
      ]
     },
     "execution_count": 63,
     "metadata": {},
     "output_type": "execute_result"
    }
   ],
   "source": [
    "exp[ind[0]:ind[1]]"
   ]
  },
  {
   "cell_type": "code",
   "execution_count": 19,
   "metadata": {},
   "outputs": [],
   "source": [
    "def calculate (exp):\n",
    "  oplist ='+-*'\n",
    "  for i in range(len(exp)):\n",
    "    if exp[i] in oplist:\n",
    "      op=exp[i]\n",
    "  number1, number2 = exp.split(op)\n",
    "  number1=int(number1)\n",
    "  number2=int(number2)\n",
    "  if op==\"+\":\n",
    "    result=number1+number2\n",
    "  if op==\"-\":\n",
    "    result=number1-number2\n",
    "  if op==\"*\":\n",
    "    result=number1*number2  \n",
    "  return result"
   ]
  },
  {
   "cell_type": "code",
   "execution_count": 20,
   "metadata": {},
   "outputs": [
    {
     "data": {
      "text/plain": [
       "37"
      ]
     },
     "execution_count": 20,
     "metadata": {},
     "output_type": "execute_result"
    }
   ],
   "source": [
    "calculate('25+12')"
   ]
  },
  {
   "cell_type": "code",
   "execution_count": 43,
   "metadata": {},
   "outputs": [],
   "source": [
    "def replace(exp, start, end, result):\n",
    "  s=\"\"\n",
    "  s=exp[:start]+str(result)+exp[end:]\n",
    "  return s"
   ]
  },
  {
   "cell_type": "code",
   "execution_count": 47,
   "metadata": {},
   "outputs": [
    {
     "data": {
      "text/plain": [
       "'237*10-21+14'"
      ]
     },
     "execution_count": 47,
     "metadata": {},
     "output_type": "execute_result"
    }
   ],
   "source": [
    "replace(exp,1,5,37)"
   ]
  },
  {
   "cell_type": "code",
   "execution_count": 42,
   "metadata": {},
   "outputs": [
    {
     "data": {
      "text/plain": [
       "'25+12*10-21+14'"
      ]
     },
     "execution_count": 42,
     "metadata": {},
     "output_type": "execute_result"
    }
   ],
   "source": [
    "exp"
   ]
  },
  {
   "cell_type": "code",
   "execution_count": null,
   "metadata": {},
   "outputs": [],
   "source": []
  }
 ],
 "metadata": {
  "kernelspec": {
   "display_name": "Python 3",
   "language": "python",
   "name": "python3"
  },
  "language_info": {
   "codemirror_mode": {
    "name": "ipython",
    "version": 3
   },
   "file_extension": ".py",
   "mimetype": "text/x-python",
   "name": "python",
   "nbconvert_exporter": "python",
   "pygments_lexer": "ipython3",
   "version": "3.7.3"
  }
 },
 "nbformat": 4,
 "nbformat_minor": 2
}
