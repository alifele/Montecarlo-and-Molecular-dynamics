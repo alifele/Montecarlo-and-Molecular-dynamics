{
 "cells": [
  {
   "cell_type": "code",
   "execution_count": 1,
   "metadata": {},
   "outputs": [],
   "source": [
    "import numpy as np\n",
    "import matplotlib.pyplot as plt"
   ]
  },
  {
   "cell_type": "code",
   "execution_count": 2,
   "metadata": {},
   "outputs": [],
   "source": [
    "def latt_generator(L,p):\n",
    "    lattice = np.zeros((L,L))\n",
    "    for i in range(L):\n",
    "        for j in range(L):\n",
    "            rand = np.random.random()\n",
    "\n",
    "            if rand<p :\n",
    "                lattice[i,j]=1\n",
    "                \n",
    "    return lattice"
   ]
  },
  {
   "cell_type": "code",
   "execution_count": 3,
   "metadata": {},
   "outputs": [],
   "source": [
    "def infinite_cluster_finder(lattice):\n",
    "    \n",
    "    temp_L = L+2\n",
    "    temp_lattice = np.zeros((temp_L, temp_L))\n",
    "    temp_lattice[0,:] = temp_lattice[-1,:] = 0\n",
    "    temp_lattice[:,0] = 1\n",
    "    temp_lattice[:,-1] = 1\n",
    "    temp_lattice[1:-1,1:-1] = lattice\n",
    "    \n",
    "    \n",
    "    color_lattice = np.zeros(temp_lattice.shape)\n",
    "    color_lattice[:,0]=1\n",
    "    color_lattice[:,-1]=-1\n",
    "    \n",
    "    \n",
    "    color=2\n",
    "    for j in range(1,temp_L):\n",
    "        for i in range(1,temp_L-1):\n",
    "            if temp_lattice[i,j]==1:\n",
    "                if temp_lattice[i-1,j] == temp_lattice[i,j-1]==1:\n",
    "                    color_lattice[i,j]= color_lattice[i,j-1]\n",
    "                    color_lattice[color_lattice==color_lattice[i-1,j]]=color_lattice[i,j]\n",
    "\n",
    "                elif temp_lattice[i-1,j]==1:\n",
    "                    color_lattice[i,j] = color_lattice[i-1,j]\n",
    "\n",
    "                elif temp_lattice[i,j-1]==1:\n",
    "                    color_lattice[i,j] = color_lattice[i,j-1]\n",
    "\n",
    "                else:\n",
    "                    color_lattice[i,j]=color\n",
    "                    color+=1\n",
    "            else:\n",
    "                color+=1\n",
    "                \n",
    "     \n",
    "    if color_lattice[0,0] in color_lattice[:,-1]:\n",
    "        state = 1\n",
    "    else:\n",
    "        state=0\n",
    "\n",
    "    return state, color_lattice"
   ]
  },
  {
   "cell_type": "code",
   "execution_count": 4,
   "metadata": {},
   "outputs": [],
   "source": [
    "def clusters_displayer(color_lattice):\n",
    "    color_lattice[color_lattice==0]=color_lattice.max()*3\n",
    "    plt.imshow(color_lattice[1:-1,1:-1],cmap=plt.get_cmap('tab20'))"
   ]
  },
  {
   "cell_type": "code",
   "execution_count": 9,
   "metadata": {},
   "outputs": [
    {
     "name": "stdout",
     "output_type": "stream",
     "text": [
      "there is 0 infinite clusters\n"
     ]
    },
    {
     "data": {
      "image/png": "[encoded data removed]",
      "text/plain": [
       "<Figure size 432x288 with 1 Axes>"
      ]
     },
     "metadata": {
      "needs_background": "light"
     },
     "output_type": "display_data"
    },
    {
     "data": {
      "image/png": "[encoded data removed]",
      "text/plain": [
       "<Figure size 432x288 with 1 Axes>"
      ]
     },
     "metadata": {
      "needs_background": "light"
     },
     "output_type": "display_data"
    }
   ],
   "source": [
    "L = 5\n",
    "p = 0.6\n",
    "\n",
    "lattice = latt_generator(L,p)\n",
    "plt.imshow(lattice)\n",
    "\n",
    "state, color_lattice= infinite_cluster_finder(lattice)\n",
    "print('there is {} infinite clusters'.format(state))\n",
    "\n",
    "plt.figure()\n",
    "clusters_displayer(color_lattice)\n",
    "\n"
   ]
  },
  {
   "cell_type": "code",
   "execution_count": 47,
   "metadata": {},
   "outputs": [
    {
     "name": "stdout",
     "output_type": "stream",
     "text": [
      "0.55\n",
      "0.56\n",
      "0.5700000000000001\n",
      "0.5800000000000001\n",
      "0.5900000000000001\n",
      "0.6000000000000001\n",
      "0.6100000000000001\n",
      "0.6200000000000001\n",
      "0.6300000000000001\n",
      "0.6400000000000001\n"
     ]
    }
   ],
   "source": [
    "P = [i for i in np.arange(0.55,0.65,0.01)]\n",
    "average_data =[]\n",
    "Q = 30\n",
    "L=150\n",
    "iterr=0\n",
    "for p in P:\n",
    "    print(p)\n",
    "    average = 0\n",
    "    for q in range(Q):\n",
    "        \n",
    "        state , trash = infinite_cluster_finder(latt_generator(L,p))\n",
    "        average += state\n",
    "        \n",
    "    average /= Q\n",
    "    average_data.append(average)\n",
    "    "
   ]
  },
  {
   "cell_type": "code",
   "execution_count": 48,
   "metadata": {},
   "outputs": [
    {
     "data": {
      "text/plain": [
       "[<matplotlib.lines.Line2D at 0x7fbf5f037a90>]"
      ]
     },
     "execution_count": 48,
     "metadata": {},
     "output_type": "execute_result"
    },
    {
     "data": {
      "image/png": "[encoded data removed]",
      "text/plain": [
       "<Figure size 432x288 with 1 Axes>"
      ]
     },
     "metadata": {
      "needs_background": "light"
     },
     "output_type": "display_data"
    }
   ],
   "source": [
    "plt.plot(P,average_data)"
   ]
  },
  {
   "cell_type": "markdown",
   "metadata": {},
   "source": [
    "# Hoshen Kopelman"
   ]
  },
  {
   "cell_type": "code",
   "execution_count": 53,
   "metadata": {},
   "outputs": [],
   "source": [
    "L=10\n",
    "p=0.3\n",
    "lattice = latt_generator(L,p)"
   ]
  },
  {
   "cell_type": "code",
   "execution_count": 54,
   "metadata": {},
   "outputs": [
    {
     "data": {
      "text/plain": [
       "<matplotlib.image.AxesImage at 0x7fbf5ef4cd68>"
      ]
     },
     "execution_count": 54,
     "metadata": {},
     "output_type": "execute_result"
    },
    {
     "data": {
      "image/png": "[encoded data removed]",
      "text/plain": [
       "<Figure size 432x288 with 1 Axes>"
      ]
     },
     "metadata": {
      "needs_background": "light"
     },
     "output_type": "display_data"
    }
   ],
   "source": [
    "plt.imshow(lattice)"
   ]
  },
  {
   "cell_type": "code",
   "execution_count": 55,
   "metadata": {},
   "outputs": [],
   "source": [
    "temp_L = L+2\n",
    "temp_lattice = np.zeros((temp_L,temp_L))\n",
    "temp_lattice[:,0]=1\n",
    "temp_lattice[:,-1]=0\n",
    "temp_lattice[1:-1,1:-1]= lattice"
   ]
  },
  {
   "cell_type": "code",
   "execution_count": 62,
   "metadata": {},
   "outputs": [
    {
     "data": {
      "text/plain": [
       "array([[ 1.,  0.,  0.,  0.,  0.,  0.,  0.,  0.,  0.,  0.,  0., -2.],\n",
       "       [ 1.,  0.,  0.,  0.,  0.,  0.,  0.,  0.,  0.,  0.,  0., -2.],\n",
       "       [ 1.,  0.,  0.,  0.,  0.,  0.,  0.,  0.,  0.,  0.,  0., -2.],\n",
       "       [ 1.,  0.,  0.,  0.,  0.,  0.,  0.,  0.,  0.,  0.,  0., -2.],\n",
       "       [ 1.,  0.,  0.,  0.,  0.,  0.,  0.,  0.,  0.,  0.,  0., -2.],\n",
       "       [ 1.,  0.,  0.,  0.,  0.,  0.,  0.,  0.,  0.,  0.,  0., -2.],\n",
       "       [ 1.,  0.,  0.,  0.,  0.,  0.,  0.,  0.,  0.,  0.,  0., -2.],\n",
       "       [ 1.,  0.,  0.,  0.,  0.,  0.,  0.,  0.,  0.,  0.,  0., -2.],\n",
       "       [ 1.,  0.,  0.,  0.,  0.,  0.,  0.,  0.,  0.,  0.,  0., -2.],\n",
       "       [ 1.,  0.,  0.,  0.,  0.,  0.,  0.,  0.,  0.,  0.,  0., -2.],\n",
       "       [ 1.,  0.,  0.,  0.,  0.,  0.,  0.,  0.,  0.,  0.,  0., -2.],\n",
       "       [ 1.,  0.,  0.,  0.,  0.,  0.,  0.,  0.,  0.,  0.,  0., -2.]])"
      ]
     },
     "execution_count": 62,
     "metadata": {},
     "output_type": "execute_result"
    }
   ],
   "source": [
    "color_lattice = np.zeros(temp_lattice.shape)\n",
    "color_lattice[:,0]=1\n",
    "color_lattice[:,-1]=-2\n",
    "color_lattice"
   ]
  },
  {
   "cell_type": "code",
   "execution_count": 64,
   "metadata": {},
   "outputs": [
    {
     "data": {
      "text/plain": [
       "array([[1., 0., 0., 0., 0., 0., 0., 0., 0., 0., 0., 0.],\n",
       "       [1., 0., 0., 0., 0., 0., 1., 0., 0., 1., 0., 0.],\n",
       "       [1., 1., 1., 0., 0., 1., 0., 0., 0., 1., 1., 0.],\n",
       "       [1., 1., 0., 1., 0., 0., 1., 0., 0., 0., 0., 0.],\n",
       "       [1., 0., 0., 1., 0., 0., 1., 0., 0., 1., 0., 0.],\n",
       "       [1., 0., 0., 0., 0., 0., 0., 1., 0., 0., 0., 0.],\n",
       "       [1., 0., 0., 0., 0., 0., 0., 1., 0., 0., 1., 0.],\n",
       "       [1., 0., 1., 1., 1., 1., 0., 1., 0., 1., 0., 0.],\n",
       "       [1., 0., 0., 0., 1., 0., 0., 0., 1., 0., 0., 0.],\n",
       "       [1., 0., 0., 1., 0., 0., 0., 1., 0., 0., 1., 0.],\n",
       "       [1., 0., 0., 0., 1., 0., 0., 0., 0., 0., 0., 0.],\n",
       "       [1., 0., 0., 0., 0., 0., 0., 0., 0., 0., 0., 0.]])"
      ]
     },
     "execution_count": 64,
     "metadata": {},
     "output_type": "execute_result"
    }
   ],
   "source": [
    "temp_lattice"
   ]
  },
  {
   "cell_type": "code",
   "execution_count": null,
   "metadata": {},
   "outputs": [],
   "source": [
    "cluster_color=[0 for i in range(1000)]\n",
    "cluster_size=[0 for i in range(1000)]\n",
    "k=1\n",
    "for j in range(1,temp_L):\n",
    "    for i in range(1,temp_L-1):\n",
    "        if temp_lattice[i-1,j]== temp_lattice[i,j-1]==1:\n",
    "            cluster_color[k]=k\n",
    "            s[k]+=1\n",
    "            k+=1\n",
    "        elif temp_lattice[i-1,j]==1:\n",
    "            cluster_color[]"
   ]
  },
  {
   "cell_type": "code",
   "execution_count": null,
   "metadata": {},
   "outputs": [],
   "source": []
  },
  {
   "cell_type": "code",
   "execution_count": null,
   "metadata": {},
   "outputs": [],
   "source": []
  },
  {
   "cell_type": "code",
   "execution_count": null,
   "metadata": {},
   "outputs": [],
   "source": []
  },
  {
   "cell_type": "code",
   "execution_count": null,
   "metadata": {},
   "outputs": [],
   "source": []
  }
 ],
 "metadata": {
  "kernelspec": {
   "display_name": "Python 3",
   "language": "python",
   "name": "python3"
  },
  "language_info": {
   "codemirror_mode": {
    "name": "ipython",
    "version": 3
   },
   "file_extension": ".py",
   "mimetype": "text/x-python",
   "name": "python",
   "nbconvert_exporter": "python",
   "pygments_lexer": "ipython3",
   "version": "3.7.3"
  }
 },
 "nbformat": 4,
 "nbformat_minor": 2
}
