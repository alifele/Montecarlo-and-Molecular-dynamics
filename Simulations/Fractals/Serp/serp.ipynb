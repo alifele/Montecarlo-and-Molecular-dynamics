{
 "cells": [
  {
   "cell_type": "code",
   "execution_count": 1,
   "metadata": {},
   "outputs": [],
   "source": [
    "import numpy as np\n",
    "import matplotlib.pyplot as plt\n"
   ]
  },
  {
   "cell_type": "markdown",
   "metadata": {},
   "source": [
    "Exactly like other codes, I have used object oriented programming in this code.\n",
    "\n",
    "In this code I have made Serp fractal.\n",
    "To make it possible, the algorithm gets 3 points that in my code are the 3 vetices of the triangle.\n",
    "\n",
    "we need three functions to make the fractal shape using this three initial vertices.\n",
    "\n",
    "## first one : scaling function\n",
    "the scaling function will scale the initial points into half\n",
    "\n",
    "## second one : transition function (first one)\n",
    "now to scaled points need to be transmitted with ```np.array([0.5*np.cos(np.pi/3), 0.5*np.sin(np.pi/3)])``` vector\n",
    "\n",
    "## Third one : transition function (second one)\n",
    "the mentioned functions are not enough to make the fractal. we need a third function which transmittes the scaled array  with ```np.array([0.5, 0])```\n",
    "\n",
    "Below you can find the Serp class and the plot of the result"
   ]
  },
  {
   "cell_type": "code",
   "execution_count": 2,
   "metadata": {},
   "outputs": [],
   "source": [
    "class Serp:\n",
    "    \n",
    "    def __init__(self, arr):\n",
    "        self.arr = arr\n",
    "        self.arr1 = arr\n",
    "        self.arr2=0\n",
    "        self.arr3=0\n",
    "        self.points = arr\n",
    "\n",
    "    def scale(self):\n",
    "        self.arr1  = self.arr /2\n",
    "    \n",
    "    def tran1(self):\n",
    "        self.arr2 = self.arr1 +  np.array([0.5*np.cos(np.pi/3), 0.5*np.sin(np.pi/3)])\n",
    "        \n",
    "    def tran2(self):\n",
    "        self.arr3 = self.arr1 + np.array([0.5, 0])\n",
    "        \n",
    "    def end(self):\n",
    "        a = self.arr1\n",
    "        b = self.arr2\n",
    "        c = self.arr3\n",
    "        self.points = np.vstack((self.points,a,b,c))\n",
    "        self.arr = self.points\n",
    "        \n",
    "    "
   ]
  },
  {
   "cell_type": "code",
   "execution_count": 10,
   "metadata": {},
   "outputs": [],
   "source": [
    "serp = Serp(np.array([[0,0],[0.5*np.cos(np.pi/3), 0.5*np.sin(np.pi/3)],[0.5,0],[1,0],[np.cos(np.pi/3), np.sin(np.pi/3)],[0.5*np.cos(np.pi/3)+ 0.5, 0.5*np.sin(np.pi/3)]]))\n",
    "#serp = Serp(np.array([0.365, 0.741]))"
   ]
  },
  {
   "cell_type": "code",
   "execution_count": 13,
   "metadata": {},
   "outputs": [],
   "source": [
    "for i in range(3):\n",
    "    serp.scale()\n",
    "    serp.tran1()\n",
    "    serp.tran2()\n",
    "    serp.end()"
   ]
  },
  {
   "cell_type": "code",
   "execution_count": 14,
   "metadata": {},
   "outputs": [
    {
     "data": {
      "text/plain": [
       "<matplotlib.collections.PathCollection at 0x7f86ee3a7630>"
      ]
     },
     "execution_count": 14,
     "metadata": {},
     "output_type": "execute_result"
    },
    {
     "data": {
      "image/png": "[encoded data removed]",
      "text/plain": [
       "<Figure size 432x288 with 1 Axes>"
      ]
     },
     "metadata": {
      "needs_background": "light"
     },
     "output_type": "display_data"
    }
   ],
   "source": [
    "plt.scatter(serp.arr[:,0], serp.arr[:,1])"
   ]
  },
  {
   "cell_type": "code",
   "execution_count": null,
   "metadata": {},
   "outputs": [],
   "source": []
  }
 ],
 "metadata": {
  "kernelspec": {
   "display_name": "Python 3",
   "language": "python",
   "name": "python3"
  },
  "language_info": {
   "codemirror_mode": {
    "name": "ipython",
    "version": 3
   },
   "file_extension": ".py",
   "mimetype": "text/x-python",
   "name": "python",
   "nbconvert_exporter": "python",
   "pygments_lexer": "ipython3",
   "version": "3.7.3"
  }
 },
 "nbformat": 4,
 "nbformat_minor": 2
}
