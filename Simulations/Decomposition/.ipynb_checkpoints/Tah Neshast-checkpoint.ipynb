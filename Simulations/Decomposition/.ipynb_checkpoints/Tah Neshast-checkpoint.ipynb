{
 "cells": [
  {
   "cell_type": "code",
   "execution_count": 3,
   "metadata": {},
   "outputs": [],
   "source": [
    "import matplotlib.pyplot as plt\n",
    "import numpy as np\n"
   ]
  },
  {
   "cell_type": "markdown",
   "metadata": {},
   "source": [
    "# useful functions"
   ]
  },
  {
   "cell_type": "markdown",
   "metadata": {},
   "source": [
    "def surface_generator(subsurface, t):\n",
    "    '''\n",
    "    this function generates a new layer with zero as its sublayer.\n",
    "    inorder to mount the new layer on the last layer simply just add the output of this\n",
    "    function with sublayer\n",
    "    '''\n",
    "    \n",
    "    surface = subsurface\n",
    "    L = int(subsurface.shape[0])\n",
    "    for i in range(t):\n",
    "        rand = int(np.random.random()*L)\n",
    "\n",
    "\n",
    "\n",
    "        if rand == L-1:\n",
    "            a = rand-1\n",
    "            b = rand\n",
    "            c = 0\n",
    "            shift = np.argmin([surface[a], surface[b], surface[c]])\n",
    "            if shift==2:\n",
    "                surface[c]+=1\n",
    "            else:\n",
    "                surface[shift+rand-1]+=1\n",
    "\n",
    "        elif rand == 0:\n",
    "            a = L-1\n",
    "            b = rand\n",
    "            c = rand+1\n",
    "            shift = np.argmin([surface[a], surface[b], surface[c]])\n",
    "            if shift == 0:\n",
    "                surface[a] +=1\n",
    "            else:\n",
    "                surface[shift+rand-1]+=1\n",
    "\n",
    "        else:\n",
    "            a = rand-1\n",
    "            b = rand\n",
    "            c = rand+1\n",
    "            shift = np.argmin([surface[a], surface[b], surface[c]])\n",
    "\n",
    "            surface[shift-1 + rand] +=1 \n",
    "\n",
    "    return surface\n",
    "\n",
    "\n"
   ]
  },
  {
   "cell_type": "code",
   "execution_count": 4,
   "metadata": {},
   "outputs": [],
   "source": [
    "def surface_generator(subsurface, t):\n",
    "    \n",
    "    surface = subsurface \n",
    "    L = int(subsurface.shape[0])\n",
    "    for i in range(t):\n",
    "        rand = int(L*np.random.random())\n",
    "        #print(rand)\n",
    "        \n",
    "        if rand == L-1:\n",
    "            \n",
    "            if surface[0] < surface[rand]:\n",
    "                surface[0]+=1\n",
    "            elif surface[rand-1] < surface[rand]:\n",
    "                surface[rand-1]+=1\n",
    "            else :\n",
    "                surface[rand]+=1\n",
    "            \n",
    "        elif rand ==0:\n",
    "            \n",
    "            if surface[rand+1]< surface[rand]:\n",
    "                surface[rand+1]+=1\n",
    "            elif surface[L-1]< surface[rand]:\n",
    "                surface[L-1]+=1\n",
    "            else  :\n",
    "                surface[rand]+=1\n",
    "                \n",
    "        else:\n",
    "            if surface[rand+1] < surface[rand]:\n",
    "                surface[rand+1]+=1\n",
    "            elif surface[rand-1]<surface[rand]:\n",
    "                surface[rand-1]+=1\n",
    "            else :\n",
    "                surface[rand]+=1\n",
    "                \n",
    "    return surface"
   ]
  },
  {
   "cell_type": "code",
   "execution_count": 15,
   "metadata": {},
   "outputs": [],
   "source": [
    "surface = np.ones((100,))\n",
    "#surface[50] = 100"
   ]
  },
  {
   "cell_type": "code",
   "execution_count": 17,
   "metadata": {},
   "outputs": [],
   "source": [
    "surface = surface_generator(surface,1000)"
   ]
  },
  {
   "cell_type": "code",
   "execution_count": 18,
   "metadata": {},
   "outputs": [
    {
     "data": {
      "text/plain": [
       "array([11., 11., 10.,  8., 11., 11., 11., 12., 11., 10., 10., 10., 11.,\n",
       "       12., 12., 11., 12., 11., 11., 10., 11., 11., 11., 11., 11., 12.,\n",
       "       11., 11., 11., 12., 12., 13., 14., 13., 12., 12., 13., 13., 12.,\n",
       "       11., 10.,  9., 10.,  9.,  9., 11., 11., 12., 13., 12., 12., 13.,\n",
       "       13., 13., 13., 13., 13., 13., 13., 12., 12., 11., 10., 10., 10.,\n",
       "       11., 11., 10., 10., 10., 11., 10., 10., 10.,  9., 10., 11., 11.,\n",
       "       11., 10., 10., 11., 10., 10., 10., 11., 11., 11., 11., 10., 11.,\n",
       "       10., 11., 10.,  9., 10., 10., 10.,  9., 10.])"
      ]
     },
     "execution_count": 18,
     "metadata": {},
     "output_type": "execute_result"
    }
   ],
   "source": [
    "surface"
   ]
  },
  {
   "cell_type": "code",
   "execution_count": 19,
   "metadata": {},
   "outputs": [
    {
     "data": {
      "image/png": "[encoded data removed]",
      "text/plain": [
       "<Figure size 432x288 with 1 Axes>"
      ]
     },
     "metadata": {
      "needs_background": "light"
     },
     "output_type": "display_data"
    }
   ],
   "source": [
    "subsurface_points = np.array([(i,0) for i in range(100)])\n",
    "points = display(subsurface_points, surface, 'bs')"
   ]
  },
  {
   "cell_type": "code",
   "execution_count": 22,
   "metadata": {},
   "outputs": [
    {
     "data": {
      "image/png": "[encoded data removed]",
      "text/plain": [
       "<Figure size 432x288 with 1 Axes>"
      ]
     },
     "metadata": {
      "needs_background": "light"
     },
     "output_type": "display_data"
    }
   ],
   "source": [
    "surface = surface_generator(surface,800)\n",
    "plt.plot(surface)\n",
    "subsurface_points = np.array([(i,0) for i in range(100)])\n",
    "points = display(subsurface_points, surface, 'bs')\n",
    "subsurface = surface\n",
    "surface = surface_generator(subsurface, 800)\n",
    "points = display(points, surface, 'rs')\n",
    "subsurface = surface\n",
    "surface = surface_generator(subsurface, 800)\n",
    "points = display(points, surface, 'gs')\n"
   ]
  },
  {
   "cell_type": "code",
   "execution_count": null,
   "metadata": {},
   "outputs": [],
   "source": []
  },
  {
   "cell_type": "code",
   "execution_count": 12,
   "metadata": {},
   "outputs": [],
   "source": [
    "def display(subsurface_points, surface, marker):\n",
    "  points = []\n",
    "  for i in range(surface.shape[0]):\n",
    "    \n",
    "    for j in range(int(surface[i])):\n",
    "      points.append((i,j + subsurface_points[subsurface_points[:,0]==i][-1][1] ))\n",
    "    \n",
    "  points = np.array(points)\n",
    "  plt.plot(points[:,0], points[:,1], marker)\n",
    "  return points\n",
    "  "
   ]
  },
  {
   "cell_type": "code",
   "execution_count": 156,
   "metadata": {},
   "outputs": [
    {
     "data": {
      "image/png": "[encoded data removed]",
      "text/plain": [
       "<Figure size 432x288 with 1 Axes>"
      ]
     },
     "metadata": {
      "needs_background": "light"
     },
     "output_type": "display_data"
    }
   ],
   "source": [
    "subsurface_points = np.array([(i,0) for i in range(100)])\n",
    "points = display(subsurface_points, surface, 's')"
   ]
  },
  {
   "cell_type": "code",
   "execution_count": 24,
   "metadata": {},
   "outputs": [],
   "source": [
    "def surface_accumulator_analyzer(subsurface, step, upperlimit):   \n",
    "    '''\n",
    "    will get a subsurface and add particles to it\n",
    "    '''\n",
    "    #subsurface = np.zeros((L,))\n",
    "    L = subsurface.shape[0]\n",
    "    surface = surface_generator(subsurface, 2) #+ subsurface\n",
    "    N_total = 2\n",
    "    std_list = []\n",
    "\n",
    "    particle_release_range= [step**i for i in range(2,upperlimit)]\n",
    "    for i in particle_release_range:\n",
    "        std_list.append((N_total, surface.std()))\n",
    "        subsurface = surface\n",
    "        surface = surface_generator(subsurface,i) #+ subsurface\n",
    "        N_total +=i\n",
    "        print(np.log2(i))\n",
    "    return np.array(std_list)"
   ]
  },
  {
   "cell_type": "code",
   "execution_count": 25,
   "metadata": {},
   "outputs": [],
   "source": [
    "def Experiment_runner(subsurface,step, upperlimit,number_of_experiments):\n",
    "    std_of_experiments = []\n",
    "    #number_of_experiments = 5\n",
    "    for i in range(number_of_experiments):\n",
    "        data = surface_accumulator_analyzer(subsurface,step,upperlimit)\n",
    "        std_of_experiments.append(data)\n",
    "        print('experiment number {} is running'.format(i+1))\n",
    "    return std_of_experiments"
   ]
  },
  {
   "cell_type": "code",
   "execution_count": 26,
   "metadata": {},
   "outputs": [],
   "source": [
    "def mean_std_calculator(std_of_experiments, number_of_experiments):\n",
    "    \n",
    "    mean_std = np.zeros(std_of_experiments[0].shape)\n",
    "    for i in range(number_of_experiments):\n",
    "        mean_std += std_of_experiments[i]\n",
    "    mean_std[:,1]/= number_of_experiments\n",
    "    mean_std[:,0] = std_of_experiments[0][:,0] \n",
    "    \n",
    "    return mean_std"
   ]
  },
  {
   "cell_type": "markdown",
   "metadata": {},
   "source": [
    "# Some plots"
   ]
  },
  {
   "cell_type": "code",
   "execution_count": 27,
   "metadata": {},
   "outputs": [
    {
     "name": "stdout",
     "output_type": "stream",
     "text": [
      "2.0\n",
      "3.0\n",
      "4.0\n",
      "5.0\n",
      "6.0\n",
      "7.0\n",
      "8.0\n",
      "9.0\n",
      "10.0\n",
      "11.0\n",
      "12.0\n",
      "13.0\n",
      "14.0\n",
      "15.0\n",
      "16.0\n",
      "17.0\n",
      "18.0\n",
      "19.0\n",
      "20.0\n",
      "21.0\n",
      "22.0\n",
      "23.0\n",
      "24.0\n"
     ]
    }
   ],
   "source": [
    "L = 200\n",
    "subsurface = np.zeros((L,))\n",
    "data1 = surface_accumulator_analyzer(subsurface,2, 25)\n",
    "#data2 = surface_accumulator_analyzer(subsurface,t,1.5,15)\n",
    "#data3 = surface_accumulator_analyzer(subsurface,t,1.6,15)"
   ]
  },
  {
   "cell_type": "code",
   "execution_count": 97,
   "metadata": {},
   "outputs": [
    {
     "data": {
      "text/plain": [
       "<matplotlib.legend.Legend at 0x7fd463dd29b0>"
      ]
     },
     "execution_count": 97,
     "metadata": {},
     "output_type": "execute_result"
    },
    {
     "data": {
      "image/png": "[encoded data removed]",
      "text/plain": [
       "<Figure size 432x288 with 1 Axes>"
      ]
     },
     "metadata": {
      "needs_background": "light"
     },
     "output_type": "display_data"
    }
   ],
   "source": [
    "fig = plt.figure()\n",
    "ax = fig.add_subplot(111)\n",
    "ax.loglog(data1[:,0], data1[:,1],'8',label = '1 bilion particles in lattice with L=200')\n",
    "plt.xlabel('t')\n",
    "plt.ylabel('w')\n",
    "plt.legend()\n",
    "#ax.loglog(data2[:,0], data2[:,1],'8', label='1.5')\n",
    "#ax.loglog(data3[:,0], data3[:,1],'8', label='1.6')\n"
   ]
  },
  {
   "cell_type": "code",
   "execution_count": 45,
   "metadata": {},
   "outputs": [
    {
     "data": {
      "text/plain": [
       "(23, 2)"
      ]
     },
     "execution_count": 45,
     "metadata": {},
     "output_type": "execute_result"
    }
   ],
   "source": [
    "data = np.log(data1)\n",
    "data.shape"
   ]
  },
  {
   "cell_type": "code",
   "execution_count": 44,
   "metadata": {},
   "outputs": [
    {
     "data": {
      "text/plain": [
       "[<matplotlib.lines.Line2D at 0x7fd467fc4e48>]"
      ]
     },
     "execution_count": 44,
     "metadata": {},
     "output_type": "execute_result"
    },
    {
     "data": {
      "image/png": "[encoded data removed]",
      "text/plain": [
       "<Figure size 432x288 with 1 Axes>"
      ]
     },
     "metadata": {
      "needs_background": "light"
     },
     "output_type": "display_data"
    }
   ],
   "source": [
    "plt.plot(data[:,0], data[:,1],'8', label='')"
   ]
  },
  {
   "cell_type": "code",
   "execution_count": 68,
   "metadata": {},
   "outputs": [],
   "source": [
    "linear_segment = np.vstack((data[:14,0], data[:14,1])).T\n",
    "#plt.plot(linear_segment[:,0], linear_smege[:,1])"
   ]
  },
  {
   "cell_type": "code",
   "execution_count": 71,
   "metadata": {},
   "outputs": [
    {
     "data": {
      "text/plain": [
       "[<matplotlib.lines.Line2D at 0x7fd466f5e128>]"
      ]
     },
     "execution_count": 71,
     "metadata": {},
     "output_type": "execute_result"
    },
    {
     "data": {
      "image/png": "[encoded data removed]",
      "text/plain": [
       "<Figure size 432x288 with 1 Axes>"
      ]
     },
     "metadata": {
      "needs_background": "light"
     },
     "output_type": "display_data"
    }
   ],
   "source": [
    "plt.plot(linear_segment[:,0], linear_segment[:,1],'*')"
   ]
  },
  {
   "cell_type": "code",
   "execution_count": 72,
   "metadata": {},
   "outputs": [],
   "source": [
    "from sklearn.linear_model import LinearRegression"
   ]
  },
  {
   "cell_type": "code",
   "execution_count": 74,
   "metadata": {},
   "outputs": [
    {
     "data": {
      "text/plain": [
       "LinearRegression(copy_X=True, fit_intercept=True, n_jobs=None, normalize=False)"
      ]
     },
     "execution_count": 74,
     "metadata": {},
     "output_type": "execute_result"
    }
   ],
   "source": [
    "model = LinearRegression()\n",
    "model.fit(linear_segment[:,0].reshape(-1,1),linear_segment[:,1])"
   ]
  },
  {
   "cell_type": "code",
   "execution_count": 101,
   "metadata": {},
   "outputs": [
    {
     "data": {
      "text/plain": [
       "Text(0.5, 0, 't')"
      ]
     },
     "execution_count": 101,
     "metadata": {},
     "output_type": "execute_result"
    },
    {
     "data": {
      "image/png": "[encoded data removed]",
      "text/plain": [
       "<Figure size 432x288 with 1 Axes>"
      ]
     },
     "metadata": {
      "needs_background": "light"
     },
     "output_type": "display_data"
    }
   ],
   "source": [
    "m = model.coef_\n",
    "b = model.intercept_\n",
    "\n",
    "y_pred = m*linear_segment[:,0] + b\n",
    "plt.plot(linear_segment[:,0],y_pred,label='{}*t + {}'.format(m,b))\n",
    "#plt.plot(linear_segment[:,0], linear_segment[:,1],'*',label='{}*t + {}'.format(m,b))\n",
    "plt.plot(data[:,0], data[:,1],'8',label = 'data')\n",
    "plt.legend()\n",
    "plt.ylabel('w')\n",
    "plt.xlabel('t')"
   ]
  },
  {
   "cell_type": "code",
   "execution_count": 86,
   "metadata": {},
   "outputs": [
    {
     "data": {
      "text/plain": [
       "[<matplotlib.lines.Line2D at 0x7fd464122400>]"
      ]
     },
     "execution_count": 86,
     "metadata": {},
     "output_type": "execute_result"
    },
    {
     "data": {
      "image/png": "[encoded data removed]",
      "text/plain": [
       "<Figure size 432x288 with 1 Axes>"
      ]
     },
     "metadata": {
      "needs_background": "light"
     },
     "output_type": "display_data"
    }
   ],
   "source": [
    "const_segment = np.vstack((data[14:,0], data[14:,1])).T\n",
    "plt.plot(const_segment[:,0], const_segment[:,1],'*')"
   ]
  },
  {
   "cell_type": "code",
   "execution_count": 91,
   "metadata": {},
   "outputs": [
    {
     "data": {
      "text/plain": [
       "LinearRegression(copy_X=True, fit_intercept=True, n_jobs=None, normalize=False)"
      ]
     },
     "execution_count": 91,
     "metadata": {},
     "output_type": "execute_result"
    }
   ],
   "source": [
    "model_const = LinearRegression()\n",
    "\n",
    "model_const.fit(const_segment[:,0].reshape(-1,1), const_segment[:,1])\n"
   ]
  },
  {
   "cell_type": "code",
   "execution_count": 93,
   "metadata": {},
   "outputs": [
    {
     "data": {
      "text/plain": [
       "[<matplotlib.lines.Line2D at 0x7fd463f71eb8>]"
      ]
     },
     "execution_count": 93,
     "metadata": {},
     "output_type": "execute_result"
    },
    {
     "data": {
      "image/png": "[encoded data removed]",
      "text/plain": [
       "<Figure size 432x288 with 1 Axes>"
      ]
     },
     "metadata": {
      "needs_background": "light"
     },
     "output_type": "display_data"
    }
   ],
   "source": [
    "mc = model_const.coef_\n",
    "bc = model_const.intercept_\n",
    "\n",
    "y_pred_c = mc * const_segment[:,0] + bc\n",
    "\n",
    "plt.plot(const_segment[:,0], y_pred_c)\n",
    "plt.plot(const_segment[:,0], const_segment[:,1],'*')"
   ]
  },
  {
   "cell_type": "markdown",
   "metadata": {},
   "source": [
    "# Running experiments"
   ]
  },
  {
   "cell_type": "code",
   "execution_count": null,
   "metadata": {},
   "outputs": [],
   "source": []
  },
  {
   "cell_type": "code",
   "execution_count": null,
   "metadata": {},
   "outputs": [],
   "source": []
  },
  {
   "cell_type": "code",
   "execution_count": null,
   "metadata": {},
   "outputs": [],
   "source": []
  },
  {
   "cell_type": "markdown",
   "metadata": {},
   "source": []
  },
  {
   "cell_type": "code",
   "execution_count": null,
   "metadata": {},
   "outputs": [],
   "source": []
  },
  {
   "cell_type": "code",
   "execution_count": null,
   "metadata": {},
   "outputs": [],
   "source": []
  },
  {
   "cell_type": "code",
   "execution_count": null,
   "metadata": {},
   "outputs": [],
   "source": []
  },
  {
   "cell_type": "code",
   "execution_count": null,
   "metadata": {},
   "outputs": [],
   "source": []
  },
  {
   "cell_type": "code",
   "execution_count": null,
   "metadata": {},
   "outputs": [],
   "source": []
  },
  {
   "cell_type": "code",
   "execution_count": null,
   "metadata": {},
   "outputs": [],
   "source": []
  },
  {
   "cell_type": "code",
   "execution_count": null,
   "metadata": {},
   "outputs": [],
   "source": []
  },
  {
   "cell_type": "code",
   "execution_count": null,
   "metadata": {},
   "outputs": [],
   "source": []
  },
  {
   "cell_type": "code",
   "execution_count": null,
   "metadata": {},
   "outputs": [],
   "source": []
  },
  {
   "cell_type": "code",
   "execution_count": null,
   "metadata": {},
   "outputs": [],
   "source": []
  },
  {
   "cell_type": "code",
   "execution_count": null,
   "metadata": {},
   "outputs": [],
   "source": []
  },
  {
   "cell_type": "code",
   "execution_count": null,
   "metadata": {},
   "outputs": [],
   "source": []
  }
 ],
 "metadata": {
  "kernelspec": {
   "display_name": "Python 3",
   "language": "python",
   "name": "python3"
  },
  "language_info": {
   "codemirror_mode": {
    "name": "ipython",
    "version": 3
   },
   "file_extension": ".py",
   "mimetype": "text/x-python",
   "name": "python",
   "nbconvert_exporter": "python",
   "pygments_lexer": "ipython3",
   "version": "3.7.3"
  }
 },
 "nbformat": 4,
 "nbformat_minor": 2
}
