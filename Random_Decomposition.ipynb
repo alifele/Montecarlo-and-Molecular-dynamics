{
  "nbformat": 4,
  "nbformat_minor": 0,
  "metadata": {
    "colab": {
      "name": "Random Decomposition.ipynb",
      "provenance": [],
      "include_colab_link": true
    },
    "kernelspec": {
      "name": "python3",
      "display_name": "Python 3"
    }
  },
  "cells": [
    {
      "cell_type": "markdown",
      "metadata": {
        "id": "view-in-github",
        "colab_type": "text"
      },
      "source": [
        "<a href=\"https://colab.research.google.com/github/alifele/Simulation-Methods/blob/master/Random_Decomposition.ipynb\" target=\"_parent\"><img src=\"https://colab.research.google.com/assets/colab-badge.svg\" alt=\"Open In Colab\"/></a>"
      ]
    },
    {
      "cell_type": "code",
      "metadata": {
        "id": "ajREZRKB1Agw",
        "colab_type": "code",
        "colab": {}
      },
      "source": [
        "import numpy as np\n",
        "import matplotlib.pyplot as plt"
      ],
      "execution_count": 0,
      "outputs": []
    },
    {
      "cell_type": "code",
      "metadata": {
        "id": "ir4JYgmLmolf",
        "colab_type": "code",
        "colab": {}
      },
      "source": [
        "def Generator(t,L): # t is the number of particles released and L is the dimension of the lattice\n",
        "  surface = np.zeros((L,))\n",
        "  for i in range(t):\n",
        "    rand = int(np.random.random()*L)\n",
        "    surface[rand] +=1\n",
        "    \n",
        "  return surface\n",
        "    "
      ],
      "execution_count": 0,
      "outputs": []
    },
    {
      "cell_type": "code",
      "metadata": {
        "id": "f5nFN2QZnbew",
        "colab_type": "code",
        "colab": {}
      },
      "source": [
        "def display(subsurface_points, surface, marker):\n",
        "  points = []\n",
        "  for i in range(surface.shape[0]):\n",
        "    \n",
        "    for j in range(int(surface[i])):\n",
        "      points.append((i,j + subsurface_points[subsurface_points[:,0]==i][-1][1] ))\n",
        "    \n",
        "  points = np.array(points)\n",
        "  plt.plot(points[:,0], points[:,1], marker)\n",
        "  return points\n",
        "  "
      ],
      "execution_count": 0,
      "outputs": []
    },
    {
      "cell_type": "code",
      "metadata": {
        "id": "A1fdqCg41QtO",
        "colab_type": "code",
        "colab": {
          "base_uri": "https://localhost:8080/",
          "height": 269
        },
        "outputId": "f770944c-2d0b-4530-b066-085ebc4af974"
      },
      "source": [
        "L = 50\n",
        "t = 1000\n",
        "subsurface_points = np.array([(i,0) for i in range(L)])\n",
        "surface = Generator(t, L)\n",
        "points = display(subsurface_points,surface,'ks')\n",
        "\n",
        "surface=Generator(t, L)\n",
        "subsurface_points = points \n",
        "points = display(subsurface_points, surface, 'rs')\n",
        "\n",
        "\n",
        "surface=Generator(t, L)\n",
        "subsurface_points = points \n",
        "points = display(subsurface_points, surface, 'gs')\n",
        "\n",
        "\n",
        "surface=Generator(t, L)\n",
        "subsurface_points = points \n",
        "points = display(subsurface_points, surface, 'bs')"
      ],
      "execution_count": 128,
      "outputs": [
        {
          "output_type": "display_data",
          "data": {
            "image/png": "[encoded data removed]",
            "text/plain": [
              "<Figure size 432x288 with 1 Axes>"
            ]
          },
          "metadata": {
            "tags": []
          }
        }
      ]
    },
    {
      "cell_type": "code",
      "metadata": {
        "id": "X7BkUTuexHpc",
        "colab_type": "code",
        "colab": {}
      },
      "source": [
        ""
      ],
      "execution_count": 0,
      "outputs": []
    }
  ]
}