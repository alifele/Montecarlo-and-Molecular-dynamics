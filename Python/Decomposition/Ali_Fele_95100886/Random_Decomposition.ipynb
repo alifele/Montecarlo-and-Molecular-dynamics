{
 "cells": [
  {
   "cell_type": "markdown",
   "metadata": {
    "colab_type": "text",
    "id": "view-in-github"
   },
   "source": [
    "<a href=\"https://colab.research.google.com/github/alifele/Simulation-Methods/blob/master/Random_Decomposition.ipynb\" target=\"_parent\"><img src=\"https://colab.research.google.com/assets/colab-badge.svg\" alt=\"Open In Colab\"/></a>"
   ]
  },
  {
   "cell_type": "code",
   "execution_count": 0,
   "metadata": {
    "colab": {},
    "colab_type": "code",
    "id": "ajREZRKB1Agw"
   },
   "outputs": [],
   "source": [
    "import numpy as np\n",
    "import matplotlib.pyplot as plt"
   ]
  },
  {
   "cell_type": "code",
   "execution_count": 0,
   "metadata": {
    "colab": {},
    "colab_type": "code",
    "id": "ir4JYgmLmolf"
   },
   "outputs": [],
   "source": [
    "def Generator(t,L): # t is the number of particles released and L is the dimension of the lattice\n",
    "  surface = np.zeros((L,))\n",
    "  for i in range(t):\n",
    "    rand = int(np.random.random()*L)\n",
    "    surface[rand] +=1\n",
    "    \n",
    "  return surface\n",
    "    "
   ]
  },
  {
   "cell_type": "code",
   "execution_count": 0,
   "metadata": {
    "colab": {},
    "colab_type": "code",
    "id": "f5nFN2QZnbew"
   },
   "outputs": [],
   "source": [
    "def display(subsurface_points, surface, marker):\n",
    "  points = []\n",
    "  for i in range(surface.shape[0]):\n",
    "    \n",
    "    for j in range(int(surface[i])):\n",
    "      points.append((i,j + subsurface_points[subsurface_points[:,0]==i][-1][1] ))\n",
    "    \n",
    "  points = np.array(points)\n",
    "  plt.plot(points[:,0], points[:,1], marker)\n",
    "  return points\n",
    "  "
   ]
  },
  {
   "cell_type": "code",
   "execution_count": 475,
   "metadata": {
    "colab": {
     "base_uri": "https://localhost:8080/",
     "height": 269
    },
    "colab_type": "code",
    "id": "A1fdqCg41QtO",
    "outputId": "19151e11-e148-42aa-a653-ce319032208a"
   },
   "outputs": [
    {
     "data": {
      "image/png": "[encoded data removed]",
      "text/plain": [
       "<Figure size 432x288 with 1 Axes>"
      ]
     },
     "metadata": {
      "tags": []
     },
     "output_type": "display_data"
    }
   ],
   "source": [
    "L = 50\n",
    "t = 1000\n",
    "subsurface_points = np.array([(i,0) for i in range(L)])\n",
    "surface = Generator(t, L)\n",
    "points = display(subsurface_points,surface,'bs')\n",
    "\n",
    "surface=Generator(t, L)\n",
    "subsurface_points = points \n",
    "points = display(subsurface_points, surface, 'rs')\n",
    "\n",
    "\n",
    "surface=Generator(t, L)\n",
    "subsurface_points = points \n",
    "points = display(subsurface_points, surface, 'gs')\n",
    "\n",
    "\n"
   ]
  },
  {
   "cell_type": "markdown",
   "metadata": {
    "colab_type": "text",
    "id": "_oyXVtNP1dv6"
   },
   "source": [
    "# Some useful calculations"
   ]
  },
  {
   "cell_type": "markdown",
   "metadata": {
    "colab_type": "text",
    "id": "solZs-pV16NE"
   },
   "source": [
    "## Simulation of Kenar Neshast"
   ]
  },
  {
   "cell_type": "code",
   "execution_count": 0,
   "metadata": {
    "colab": {},
    "colab_type": "code",
    "id": "iDLQDiUvCuXQ"
   },
   "outputs": [],
   "source": [
    "L = 100\n",
    "t = 10000"
   ]
  },
  {
   "cell_type": "code",
   "execution_count": 0,
   "metadata": {
    "colab": {},
    "colab_type": "code",
    "id": "X7BkUTuexHpc"
   },
   "outputs": [],
   "source": [
    "class Experiment_paeen:\n",
    "  \n",
    "  def __init__(self,L, vis):\n",
    "    self.L = L\n",
    "\n",
    "    self.vis = vis\n",
    "    if self.vis==0:\n",
    "      self.surface = np.zeros((self.L,))\n",
    "  def run_experiment(self,t):\n",
    "    if self.vis ==1:\n",
    "      self.surface = np.zeros((self.L,))\n",
    "    for i in range(t):\n",
    "      \n",
    "      rand = int(np.random.random()*self.L)\n",
    "      shift = np.argmin([self.surface[(rand-1)%L], self.surface[(rand)%L], self.surface[(rand+1)%L]])  # for periodic boundry condition\n",
    "      \n",
    "      if rand + shift -1 == self.L:\n",
    "        self.surface[0]+=1\n",
    "        \n",
    "      else:\n",
    "        #print(shift, rand,shift + rand -1)\n",
    "        self.surface[rand+shift -1]+=1\n",
    "\n",
    "    return self.surface\n",
    "  \n",
    "  def w(self,surface):\n",
    "    return surface.std()\n",
    "  "
   ]
  },
  {
   "cell_type": "code",
   "execution_count": 0,
   "metadata": {
    "colab": {},
    "colab_type": "code",
    "id": "HXPb_rII_v91"
   },
   "outputs": [],
   "source": [
    "exp = Experiment_paeen(L, 1)\n",
    "surface = exp.run_experiment(t)\n"
   ]
  },
  {
   "cell_type": "code",
   "execution_count": 479,
   "metadata": {
    "colab": {
     "base_uri": "https://localhost:8080/",
     "height": 269
    },
    "colab_type": "code",
    "id": "I3N9vydOCap_",
    "outputId": "503ecf8b-0ac9-4014-9147-33dafa362d09"
   },
   "outputs": [
    {
     "data": {
      "image/png": "[encoded data removed]",
      "text/plain": [
       "<Figure size 432x288 with 1 Axes>"
      ]
     },
     "metadata": {
      "tags": []
     },
     "output_type": "display_data"
    }
   ],
   "source": [
    "subsurface_points = np.array([(i,0) for i in range(L)])\n",
    "surface = exp.surface\n",
    "points = display(subsurface_points,surface,'bs')\n",
    "\n",
    "a = exp.run_experiment(t)\n",
    "surface = exp.surface\n",
    "subsurface_points = points\n",
    "points = display(subsurface_points, surface, 'rs')\n",
    "\n",
    "a = exp.run_experiment(t)\n",
    "surface = exp.surface\n",
    "subsurface_points = points\n",
    "points = display(subsurface_points, surface, 'gs')"
   ]
  },
  {
   "cell_type": "markdown",
   "metadata": {
    "colab_type": "text",
    "id": "kyUIharoDmPt"
   },
   "source": [
    "## Data Analysis\n"
   ]
  },
  {
   "cell_type": "code",
   "execution_count": 481,
   "metadata": {
    "colab": {
     "base_uri": "https://localhost:8080/",
     "height": 358
    },
    "colab_type": "code",
    "id": "3HtnZlwuD75X",
    "outputId": "362bc3e6-8702-4846-9d9b-31fcaf9bda93"
   },
   "outputs": [
    {
     "ename": "TypeError",
     "evalue": "ignored",
     "output_type": "error",
     "traceback": [
      "\u001b[0;31m---------------------------------------------------------------------------\u001b[0m",
      "\u001b[0;31mTypeError\u001b[0m                                 Traceback (most recent call last)",
      "\u001b[0;32m<ipython-input-481-372db4474055>\u001b[0m in \u001b[0;36m<module>\u001b[0;34m()\u001b[0m\n\u001b[1;32m     10\u001b[0m \u001b[0;34m\u001b[0m\u001b[0m\n\u001b[1;32m     11\u001b[0m   \u001b[0mpresurface\u001b[0m \u001b[0;34m=\u001b[0m \u001b[0msurface\u001b[0m\u001b[0;34m\u001b[0m\u001b[0;34m\u001b[0m\u001b[0m\n\u001b[0;32m---> 12\u001b[0;31m   \u001b[0msurface\u001b[0m \u001b[0;34m=\u001b[0m \u001b[0mexp\u001b[0m\u001b[0;34m.\u001b[0m\u001b[0mrun_experiment\u001b[0m\u001b[0;34m(\u001b[0m\u001b[0mt\u001b[0m\u001b[0;34m)\u001b[0m\u001b[0;34m\u001b[0m\u001b[0;34m\u001b[0m\u001b[0m\n\u001b[0m\u001b[1;32m     13\u001b[0m \u001b[0;34m\u001b[0m\u001b[0m\n\u001b[1;32m     14\u001b[0m   \u001b[0msurface\u001b[0m \u001b[0;34m+=\u001b[0m \u001b[0mpresurface\u001b[0m\u001b[0;34m\u001b[0m\u001b[0;34m\u001b[0m\u001b[0m\n",
      "\u001b[0;32m<ipython-input-477-d8ad295e47a3>\u001b[0m in \u001b[0;36mrun_experiment\u001b[0;34m(self, t)\u001b[0m\n\u001b[1;32m     10\u001b[0m     \u001b[0;32mif\u001b[0m \u001b[0mself\u001b[0m\u001b[0;34m.\u001b[0m\u001b[0mvis\u001b[0m \u001b[0;34m==\u001b[0m\u001b[0;36m1\u001b[0m\u001b[0;34m:\u001b[0m\u001b[0;34m\u001b[0m\u001b[0;34m\u001b[0m\u001b[0m\n\u001b[1;32m     11\u001b[0m       \u001b[0mself\u001b[0m\u001b[0;34m.\u001b[0m\u001b[0msurface\u001b[0m \u001b[0;34m=\u001b[0m \u001b[0mnp\u001b[0m\u001b[0;34m.\u001b[0m\u001b[0mzeros\u001b[0m\u001b[0;34m(\u001b[0m\u001b[0;34m(\u001b[0m\u001b[0mself\u001b[0m\u001b[0;34m.\u001b[0m\u001b[0mL\u001b[0m\u001b[0;34m,\u001b[0m\u001b[0;34m)\u001b[0m\u001b[0;34m)\u001b[0m\u001b[0;34m\u001b[0m\u001b[0;34m\u001b[0m\u001b[0m\n\u001b[0;32m---> 12\u001b[0;31m     \u001b[0;32mfor\u001b[0m \u001b[0mi\u001b[0m \u001b[0;32min\u001b[0m \u001b[0mrange\u001b[0m\u001b[0;34m(\u001b[0m\u001b[0mt\u001b[0m\u001b[0;34m)\u001b[0m\u001b[0;34m:\u001b[0m\u001b[0;34m\u001b[0m\u001b[0;34m\u001b[0m\u001b[0m\n\u001b[0m\u001b[1;32m     13\u001b[0m \u001b[0;34m\u001b[0m\u001b[0m\n\u001b[1;32m     14\u001b[0m       \u001b[0mrand\u001b[0m \u001b[0;34m=\u001b[0m \u001b[0mint\u001b[0m\u001b[0;34m(\u001b[0m\u001b[0mnp\u001b[0m\u001b[0;34m.\u001b[0m\u001b[0mrandom\u001b[0m\u001b[0;34m.\u001b[0m\u001b[0mrandom\u001b[0m\u001b[0;34m(\u001b[0m\u001b[0;34m)\u001b[0m\u001b[0;34m*\u001b[0m\u001b[0mself\u001b[0m\u001b[0;34m.\u001b[0m\u001b[0mL\u001b[0m\u001b[0;34m)\u001b[0m\u001b[0;34m\u001b[0m\u001b[0;34m\u001b[0m\u001b[0m\n",
      "\u001b[0;31mTypeError\u001b[0m: 'float' object cannot be interpreted as an integer"
     ]
    }
   ],
   "source": [
    "L = 200\n",
    "\n",
    "exp = Experiment_paeen(L,1)\n",
    "w_points = []\n",
    "\n",
    "t_list = [1.5**i for i in range(25)]\n",
    "presurface =  np.zeros((L,))\n",
    "surface = np.zeros((L,))\n",
    "for t in t_list:\n",
    "  \n",
    "  presurface = surface\n",
    "  surface = exp.run_experiment(t)\n",
    "  \n",
    "  surface += presurface\n",
    "  \n",
    "  print(t)\n",
    "  \n",
    "  std = exp.w(surface)\n",
    "  w_points.append((t,std))\n",
    "\n",
    "    \n",
    "  \n",
    "    \n",
    "\n",
    "w_points = np.array(w_points)\n",
    "plt.loglog(w_points[:,0], w_points[:,1],'o')\n",
    "  \n",
    "  \n",
    "  "
   ]
  },
  {
   "cell_type": "code",
   "execution_count": 462,
   "metadata": {
    "colab": {
     "base_uri": "https://localhost:8080/",
     "height": 34
    },
    "colab_type": "code",
    "id": "HJAYxK8LiWc5",
    "outputId": "1dd5dceb-99b2-40d6-d662-c809c3b70cfd"
   },
   "outputs": [
    {
     "data": {
      "text/plain": [
       "1.4142135623730951"
      ]
     },
     "execution_count": 462,
     "metadata": {
      "tags": []
     },
     "output_type": "execute_result"
    }
   ],
   "source": [
    "\n",
    "\n",
    "surface = exp.run_experiment(10000)\n",
    "exp.w(surface)"
   ]
  },
  {
   "cell_type": "code",
   "execution_count": 467,
   "metadata": {
    "colab": {
     "base_uri": "https://localhost:8080/",
     "height": 269
    },
    "colab_type": "code",
    "id": "IaYQTeHKRHpQ",
    "outputId": "888e4eb5-5577-423c-c7f7-c1e7ef9e9ad4"
   },
   "outputs": [
    {
     "data": {
      "image/png": "[encoded data removed]",
      "text/plain": [
       "<Figure size 432x288 with 1 Axes>"
      ]
     },
     "metadata": {
      "tags": []
     },
     "output_type": "display_data"
    }
   ],
   "source": [
    "exp = Experiment_paeen(100, 1)\n",
    "presurface = np.zeros((L,))\n",
    "surface = exp.run_experiment(10000)\n",
    "subsurface_points = np.array([(i,0) for i in range(L)])\n",
    "points = display(subsurface_points,surface,'bs')\n",
    "\n",
    "presurface = surface\n",
    "surface = exp.run_experiment(10000) + presurface\n",
    "subsurface_points = points\n",
    "points = display(subsurface_points, surface, 'rs')\n"
   ]
  },
  {
   "cell_type": "code",
   "execution_count": 466,
   "metadata": {
    "colab": {
     "base_uri": "https://localhost:8080/",
     "height": 34
    },
    "colab_type": "code",
    "id": "NZZpnBEGmqYc",
    "outputId": "0c1c042c-d5a2-4fef-f13b-b51057347c97"
   },
   "outputs": [
    {
     "data": {
      "text/plain": [
       "100"
      ]
     },
     "execution_count": 466,
     "metadata": {
      "tags": []
     },
     "output_type": "execute_result"
    }
   ],
   "source": [
    "L\n"
   ]
  },
  {
   "cell_type": "markdown",
   "metadata": {
    "colab_type": "text",
    "id": "VRrdc4-0Jupd"
   },
   "source": [
    "# Kenar Neshast"
   ]
  },
  {
   "cell_type": "code",
   "execution_count": 0,
   "metadata": {
    "colab": {},
    "colab_type": "code",
    "id": "Dq9JWwANIdX1"
   },
   "outputs": [],
   "source": [
    "class Experiment_kenar:\n",
    "  \n",
    "  def __init__(self,L,t):\n",
    "    self.L = L\n",
    "    self.t = t\n",
    "  def run_experiment(self,t):\n",
    "    self.surface = np.zeros((self.L,))\n",
    "    for i in range(t):\n",
    "      \n",
    "      rand = int(np.random.random()*self.L)\n",
    "      shift = np.argmax([self.surface[(rand-1)%L], self.surface[(rand)%L], self.surface[(rand+1)%L]])  # for periodic boundry condition\n",
    "      \n",
    "      if rand + shift -1 == self.L:\n",
    "        self.surface[0]+=1\n",
    "        \n",
    "      else:\n",
    "        #print(shift, rand,shift + rand -1)\n",
    "        self.surface[rand+shift -1]+= self.surface\n",
    "\n",
    "    #return self.surface\n",
    "  \n",
    "  def w(self):\n",
    "    return self.surface.std()"
   ]
  },
  {
   "cell_type": "code",
   "execution_count": 375,
   "metadata": {
    "colab": {
     "base_uri": "https://localhost:8080/",
     "height": 34
    },
    "colab_type": "code",
    "id": "g9tDou1MMYJB",
    "outputId": "a7f376ab-712b-4416-decf-d9a9c22f33d1"
   },
   "outputs": [
    {
     "data": {
      "text/plain": [
       "False"
      ]
     },
     "execution_count": 375,
     "metadata": {
      "tags": []
     },
     "output_type": "execute_result"
    }
   ],
   "source": [
    "np.log10(2) == int(np.log10(2))"
   ]
  },
  {
   "cell_type": "code",
   "execution_count": 0,
   "metadata": {
    "colab": {},
    "colab_type": "code",
    "id": "Gs4vXIeUMZDQ"
   },
   "outputs": [],
   "source": [
    "np.log"
   ]
  }
 ],
 "metadata": {
  "colab": {
   "include_colab_link": true,
   "name": "Random Decomposition.ipynb",
   "provenance": []
  },
  "kernelspec": {
   "display_name": "Python 3",
   "name": "python3"
  }
 },
 "nbformat": 4,
 "nbformat_minor": 0
}
