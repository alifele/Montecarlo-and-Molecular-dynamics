{
 "cells": [
  {
   "cell_type": "code",
   "execution_count": 22,
   "metadata": {},
   "outputs": [],
   "source": [
    "import matplotlib.pyplot as plt\n",
    "import numpy as np\n"
   ]
  },
  {
   "cell_type": "markdown",
   "metadata": {},
   "source": [
    "# useful functions"
   ]
  },
  {
   "cell_type": "code",
   "execution_count": 23,
   "metadata": {},
   "outputs": [],
   "source": [
    "def surface_generator(subsurface, t):\n",
    "    '''\n",
    "    this function generates a new layer with zero as its sublayer.\n",
    "    inorder to mount the new layer on the last layer simply just add the output of this\n",
    "    function with sublayer\n",
    "    '''\n",
    "    \n",
    "    surface = subsurface\n",
    "    L = int(subsurface.shape[0])\n",
    "    for i in range(t):\n",
    "        rand = int(np.random.random()*L)\n",
    "\n",
    "\n",
    "\n",
    "        if rand == L-1:\n",
    "            a = rand-1\n",
    "            b = rand\n",
    "            c = 0\n",
    "            shift = np.argmin([surface[a], surface[b], surface[c]])\n",
    "            if shift==2:\n",
    "                surface[c]+=1\n",
    "            else:\n",
    "                surface[shift+rand-1]+=1\n",
    "\n",
    "        elif rand == 0:\n",
    "            a = L-1\n",
    "            b = rand\n",
    "            c = rand+1\n",
    "            shift = np.argmin([surface[a], surface[b], surface[c]])\n",
    "            if shift == 0:\n",
    "                surface[a] +=1\n",
    "            else:\n",
    "                surface[shift+rand-1]+=1\n",
    "\n",
    "        else:\n",
    "            a = rand-1\n",
    "            b = rand\n",
    "            c = rand+1\n",
    "            shift = np.argmin([surface[a], surface[b], surface[c]])\n",
    "\n",
    "            surface[shift-1 + rand] +=1 \n",
    "\n",
    "    return surface\n",
    "\n",
    "\n"
   ]
  },
  {
   "cell_type": "code",
   "execution_count": 29,
   "metadata": {},
   "outputs": [],
   "source": [
    "surface = np.zeros((100,))\n",
    "#surface[50] = 100"
   ]
  },
  {
   "cell_type": "code",
   "execution_count": 35,
   "metadata": {},
   "outputs": [
    {
     "data": {
      "image/png": "[encoded data removed]",
      "text/plain": [
       "<Figure size 432x288 with 1 Axes>"
      ]
     },
     "metadata": {
      "needs_background": "light"
     },
     "output_type": "display_data"
    }
   ],
   "source": [
    "surface = surface_generator(surface,1000)\n",
    "plt.plot(surface)\n",
    "subsurface_points = np.array([(i,0) for i in range(100)])\n",
    "points = display(subsurface_points, surface, 'bs')\n",
    "subsurface = surface\n",
    "surface = surface_generator(subsurface, 100)\n",
    "points = display(points, surface, 'rs')\n",
    "subsurface = surface\n",
    "surface = surface_generator(subsurface, 100)\n",
    "points = display(points, surface, 'gs')\n"
   ]
  },
  {
   "cell_type": "code",
   "execution_count": 6,
   "metadata": {},
   "outputs": [
    {
     "data": {
      "text/plain": [
       "[<matplotlib.lines.Line2D at 0x7f97739a7048>]"
      ]
     },
     "execution_count": 6,
     "metadata": {},
     "output_type": "execute_result"
    },
    {
     "data": {
      "image/png": "[encoded data removed]",
      "text/plain": [
       "<Figure size 432x288 with 1 Axes>"
      ]
     },
     "metadata": {
      "needs_background": "light"
     },
     "output_type": "display_data"
    }
   ],
   "source": [
    "surface\n",
    "plt.plot(surface)"
   ]
  },
  {
   "cell_type": "code",
   "execution_count": 7,
   "metadata": {},
   "outputs": [],
   "source": [
    "def display(subsurface_points, surface, marker):\n",
    "  points = []\n",
    "  for i in range(surface.shape[0]):\n",
    "    \n",
    "    for j in range(int(surface[i])):\n",
    "      points.append((i,j + subsurface_points[subsurface_points[:,0]==i][-1][1] ))\n",
    "    \n",
    "  points = np.array(points)\n",
    "  plt.plot(points[:,0], points[:,1], marker)\n",
    "  return points\n",
    "  "
   ]
  },
  {
   "cell_type": "code",
   "execution_count": 8,
   "metadata": {},
   "outputs": [
    {
     "data": {
      "image/png": "[encoded data removed]",
      "text/plain": [
       "<Figure size 432x288 with 1 Axes>"
      ]
     },
     "metadata": {
      "needs_background": "light"
     },
     "output_type": "display_data"
    }
   ],
   "source": [
    "subsurface_points = np.array([(i,0) for i in range(100)])\n",
    "points = display(subsurface_points, surface, 's')"
   ]
  },
  {
   "cell_type": "code",
   "execution_count": 9,
   "metadata": {},
   "outputs": [],
   "source": [
    "def surface_accumulator_analyzer(subsurface, step, upperlimit):   \n",
    "    '''\n",
    "    will get a subsurface and add particles to it\n",
    "    '''\n",
    "    #subsurface = np.zeros((L,))\n",
    "    L = subsurface.shape[0]\n",
    "    surface = surface_generator(subsurface, 2) #+ subsurface\n",
    "    N_total = 2\n",
    "    std_list = []\n",
    "\n",
    "    particle_release_range= [step**i for i in range(2,upperlimit)]\n",
    "    for i in particle_release_range:\n",
    "        std_list.append((N_total, surface.std()))\n",
    "        subsurface = surface\n",
    "        surface = surface_generator(subsurface,i) #+ subsurface\n",
    "        N_total +=i\n",
    "        print(np.log2(i))\n",
    "    return np.array(std_list)"
   ]
  },
  {
   "cell_type": "code",
   "execution_count": 10,
   "metadata": {},
   "outputs": [],
   "source": [
    "def Experiment_runner(subsurface,step, upperlimit,number_of_experiments):\n",
    "    std_of_experiments = []\n",
    "    #number_of_experiments = 5\n",
    "    for i in range(number_of_experiments):\n",
    "        data = surface_accumulator_analyzer(subsurface,step,upperlimit)\n",
    "        std_of_experiments.append(data)\n",
    "        print('experiment number {} is running'.format(i+1))\n",
    "    return std_of_experiments"
   ]
  },
  {
   "cell_type": "code",
   "execution_count": 11,
   "metadata": {},
   "outputs": [],
   "source": [
    "def mean_std_calculator(std_of_experiments, number_of_experiments):\n",
    "    \n",
    "    mean_std = np.zeros(std_of_experiments[0].shape)\n",
    "    for i in range(number_of_experiments):\n",
    "        mean_std += std_of_experiments[i]\n",
    "    mean_std[:,1]/= number_of_experiments\n",
    "    mean_std[:,0] = std_of_experiments[0][:,0] \n",
    "    \n",
    "    return mean_std"
   ]
  },
  {
   "cell_type": "markdown",
   "metadata": {},
   "source": [
    "# Some plots"
   ]
  },
  {
   "cell_type": "code",
   "execution_count": 12,
   "metadata": {},
   "outputs": [
    {
     "name": "stdout",
     "output_type": "stream",
     "text": [
      "2.0\n",
      "3.0\n",
      "4.0\n",
      "5.0\n",
      "6.0\n",
      "7.0\n",
      "8.0\n",
      "9.0\n",
      "10.0\n",
      "11.0\n",
      "12.0\n",
      "13.0\n",
      "14.0\n",
      "15.0\n",
      "16.0\n",
      "17.0\n",
      "18.0\n",
      "19.0\n",
      "20.0\n",
      "21.0\n",
      "22.0\n"
     ]
    }
   ],
   "source": [
    "L = 1000\n",
    "subsurface = np.zeros((L,))\n",
    "data1 = surface_accumulator_analyzer(subsurface,2, 23)\n",
    "#data2 = surface_accumulator_analyzer(subsurface,t,1.5,15)\n",
    "#data3 = surface_accumulator_analyzer(subsurface,t,1.6,15)"
   ]
  },
  {
   "cell_type": "code",
   "execution_count": 13,
   "metadata": {},
   "outputs": [
    {
     "data": {
      "text/plain": [
       "<matplotlib.legend.Legend at 0x7f97738a6be0>"
      ]
     },
     "execution_count": 13,
     "metadata": {},
     "output_type": "execute_result"
    },
    {
     "data": {
      "image/png": "[encoded data removed]",
      "text/plain": [
       "<Figure size 432x288 with 1 Axes>"
      ]
     },
     "metadata": {
      "needs_background": "light"
     },
     "output_type": "display_data"
    }
   ],
   "source": [
    "fig = plt.figure()\n",
    "ax = fig.add_subplot(111)\n",
    "ax.loglog(data1[:,0], data1[:,1],'8', label='2')\n",
    "#ax.loglog(data2[:,0], data2[:,1],'8', label='1.5')\n",
    "#ax.loglog(data3[:,0], data3[:,1],'8', label='1.6')\n",
    "ax.legend()"
   ]
  },
  {
   "cell_type": "markdown",
   "metadata": {},
   "source": [
    "# Running experiments"
   ]
  },
  {
   "cell_type": "code",
   "execution_count": null,
   "metadata": {},
   "outputs": [],
   "source": []
  },
  {
   "cell_type": "code",
   "execution_count": 14,
   "metadata": {},
   "outputs": [
    {
     "name": "stdout",
     "output_type": "stream",
     "text": [
      "2.0\n",
      "3.0\n",
      "4.0\n",
      "5.0\n",
      "6.0\n",
      "7.0\n",
      "8.0\n",
      "9.0\n",
      "10.0\n",
      "11.0\n",
      "12.0\n",
      "13.0\n",
      "14.0\n",
      "15.0\n",
      "16.0\n",
      "17.0\n",
      "18.0\n",
      "19.0\n",
      "20.0\n",
      "21.0\n",
      "22.0\n"
     ]
    }
   ],
   "source": [
    "L = 5000\n",
    "subsurface = np.zeros((L,))\n",
    "step = 1.6\n",
    "upperlimit = 20\n",
    "number_of_experiments = 1\n",
    "#std_of_experiments = Experiment_runner(subdurface,t,step, upperlimit, number_of_experiments)\n",
    "data = surface_accumulator_analyzer(subsurface,2,23)"
   ]
  },
  {
   "cell_type": "code",
   "execution_count": 15,
   "metadata": {},
   "outputs": [
    {
     "data": {
      "text/plain": [
       "[<matplotlib.lines.Line2D at 0x7f9773667ba8>]"
      ]
     },
     "execution_count": 15,
     "metadata": {},
     "output_type": "execute_result"
    },
    {
     "data": {
      "image/png": "[encoded data removed]",
      "text/plain": [
       "<Figure size 432x288 with 1 Axes>"
      ]
     },
     "metadata": {
      "needs_background": "light"
     },
     "output_type": "display_data"
    }
   ],
   "source": [
    "plt.loglog(data[:,0], data[:,1],'8', label='1.2')"
   ]
  },
  {
   "cell_type": "markdown",
   "metadata": {},
   "source": [
    "# Experiments"
   ]
  },
  {
   "cell_type": "code",
   "execution_count": 16,
   "metadata": {},
   "outputs": [
    {
     "name": "stdout",
     "output_type": "stream",
     "text": [
      "2.0\n",
      "3.0\n",
      "4.0\n",
      "5.0\n",
      "6.0\n",
      "7.0\n",
      "8.0\n",
      "9.0\n",
      "10.0\n",
      "11.0\n",
      "12.0\n",
      "13.0\n",
      "14.0\n",
      "15.0\n",
      "16.0\n",
      "17.0\n",
      "18.0\n",
      "19.0\n",
      "20.0\n",
      "21.0\n",
      "experiment number 1 is running\n",
      "2.0\n",
      "3.0\n",
      "4.0\n",
      "5.0\n",
      "6.0\n",
      "7.0\n",
      "8.0\n",
      "9.0\n",
      "10.0\n",
      "11.0\n",
      "12.0\n",
      "13.0\n",
      "14.0\n",
      "15.0\n",
      "16.0\n",
      "17.0\n",
      "18.0\n",
      "19.0\n",
      "20.0\n",
      "21.0\n",
      "experiment number 2 is running\n",
      "2.0\n",
      "3.0\n",
      "4.0\n",
      "5.0\n",
      "6.0\n",
      "7.0\n",
      "8.0\n",
      "9.0\n",
      "10.0\n",
      "11.0\n",
      "12.0\n",
      "13.0\n",
      "14.0\n",
      "15.0\n",
      "16.0\n",
      "17.0\n",
      "18.0\n",
      "19.0\n",
      "20.0\n",
      "21.0\n",
      "experiment number 3 is running\n",
      "2.0\n",
      "3.0\n",
      "4.0\n",
      "5.0\n",
      "6.0\n",
      "7.0\n",
      "8.0\n",
      "9.0\n",
      "10.0\n",
      "11.0\n",
      "12.0\n",
      "13.0\n",
      "14.0\n",
      "15.0\n",
      "16.0\n",
      "17.0\n",
      "18.0\n",
      "19.0\n",
      "20.0\n",
      "21.0\n",
      "experiment number 4 is running\n",
      "2.0\n",
      "3.0\n",
      "4.0\n",
      "5.0\n",
      "6.0\n",
      "7.0\n",
      "8.0\n",
      "9.0\n",
      "10.0\n",
      "11.0\n",
      "12.0\n",
      "13.0\n",
      "14.0\n",
      "15.0\n",
      "16.0\n",
      "17.0\n",
      "18.0\n",
      "19.0\n",
      "20.0\n",
      "21.0\n",
      "experiment number 5 is running\n",
      "2.0\n",
      "3.0\n",
      "4.0\n",
      "5.0\n",
      "6.0\n",
      "7.0\n",
      "8.0\n",
      "9.0\n",
      "10.0\n",
      "11.0\n",
      "12.0\n",
      "13.0\n",
      "14.0\n",
      "15.0\n",
      "16.0\n",
      "17.0\n",
      "18.0\n",
      "19.0\n",
      "20.0\n",
      "21.0\n",
      "experiment number 6 is running\n",
      "2.0\n",
      "3.0\n",
      "4.0\n",
      "5.0\n",
      "6.0\n",
      "7.0\n",
      "8.0\n",
      "9.0\n",
      "10.0\n",
      "11.0\n",
      "12.0\n",
      "13.0\n",
      "14.0\n",
      "15.0\n",
      "16.0\n",
      "17.0\n",
      "18.0\n",
      "19.0\n",
      "20.0\n",
      "21.0\n",
      "experiment number 7 is running\n"
     ]
    }
   ],
   "source": [
    "L = 100\n",
    "std_of_experiments = Experiment_runner(np.zeros((L,)), 2,22,7)"
   ]
  },
  {
   "cell_type": "code",
   "execution_count": 17,
   "metadata": {},
   "outputs": [
    {
     "data": {
      "text/plain": [
       "[array([[2.00000000e+00, 1.40000000e-01],\n",
       "        [6.00000000e+00, 2.37486842e-01],\n",
       "        [1.40000000e+01, 3.46987031e-01],\n",
       "        [3.00000000e+01, 4.58257569e-01],\n",
       "        [6.20000000e+01, 4.85386444e-01],\n",
       "        [1.26000000e+02, 5.76541412e-01],\n",
       "        [2.54000000e+02, 7.67072356e-01],\n",
       "        [5.10000000e+02, 9.43398113e-01],\n",
       "        [1.02200000e+03, 8.89719057e-01],\n",
       "        [2.04600000e+03, 9.73858306e-01],\n",
       "        [4.09400000e+03, 1.45478521e+00],\n",
       "        [8.19000000e+03, 1.47986486e+00],\n",
       "        [1.63820000e+04, 1.52564740e+00],\n",
       "        [3.27660000e+04, 2.22809336e+00],\n",
       "        [6.55340000e+04, 1.72174330e+00],\n",
       "        [1.31070000e+05, 1.65227116e+00],\n",
       "        [2.62142000e+05, 2.14560015e+00],\n",
       "        [5.24286000e+05, 2.20463149e+00],\n",
       "        [1.04857400e+06, 3.17370446e+00],\n",
       "        [2.09715000e+06, 4.18927201e+00]]),\n",
       " array([[2.00000000e+00, 1.72580416e+00],\n",
       "        [6.00000000e+00, 1.73020230e+00],\n",
       "        [1.40000000e+01, 1.73043347e+00],\n",
       "        [3.00000000e+01, 1.74859944e+00],\n",
       "        [6.20000000e+01, 1.79733136e+00],\n",
       "        [1.26000000e+02, 1.78370401e+00],\n",
       "        [2.54000000e+02, 1.77943811e+00],\n",
       "        [5.10000000e+02, 2.05075596e+00],\n",
       "        [1.02200000e+03, 1.96529896e+00],\n",
       "        [2.04600000e+03, 1.93121723e+00],\n",
       "        [4.09400000e+03, 2.31913777e+00],\n",
       "        [8.19000000e+03, 1.57276826e+00],\n",
       "        [1.63820000e+04, 1.74768418e+00],\n",
       "        [3.27660000e+04, 2.08748653e+00],\n",
       "        [6.55340000e+04, 2.14252188e+00],\n",
       "        [1.31070000e+05, 1.91874959e+00],\n",
       "        [2.62142000e+05, 1.88849146e+00],\n",
       "        [5.24286000e+05, 2.00139951e+00],\n",
       "        [1.04857400e+06, 2.10770017e+00],\n",
       "        [2.09715000e+06, 1.80820353e+00]]),\n",
       " array([[2.00000000e+00, 2.11101871e+00],\n",
       "        [6.00000000e+00, 2.11896201e+00],\n",
       "        [1.40000000e+01, 2.13719442e+00],\n",
       "        [3.00000000e+01, 2.11291268e+00],\n",
       "        [6.20000000e+01, 2.05533452e+00],\n",
       "        [1.26000000e+02, 1.97737199e+00],\n",
       "        [2.54000000e+02, 1.98584994e+00],\n",
       "        [5.10000000e+02, 1.91321719e+00],\n",
       "        [1.02200000e+03, 2.02790532e+00],\n",
       "        [2.04600000e+03, 1.96214169e+00],\n",
       "        [4.09400000e+03, 1.88138247e+00],\n",
       "        [8.19000000e+03, 2.68261067e+00],\n",
       "        [1.63820000e+04, 2.14485431e+00],\n",
       "        [3.27660000e+04, 3.11287648e+00],\n",
       "        [6.55340000e+04, 1.66601321e+00],\n",
       "        [1.31070000e+05, 1.24595345e+00],\n",
       "        [2.62142000e+05, 1.49946657e+00],\n",
       "        [5.24286000e+05, 1.47309199e+00],\n",
       "        [1.04857400e+06, 1.87392636e+00],\n",
       "        [2.09715000e+06, 1.42421908e+00]]),\n",
       " array([[2.00000000e+00, 1.46068477e+00],\n",
       "        [6.00000000e+00, 1.45794376e+00],\n",
       "        [1.40000000e+01, 1.44222051e+00],\n",
       "        [3.00000000e+01, 1.47322775e+00],\n",
       "        [6.20000000e+01, 1.42744527e+00],\n",
       "        [1.26000000e+02, 1.46205335e+00],\n",
       "        [2.54000000e+02, 1.40712473e+00],\n",
       "        [5.10000000e+02, 1.60449369e+00],\n",
       "        [1.02200000e+03, 2.02524073e+00],\n",
       "        [2.04600000e+03, 1.34521374e+00],\n",
       "        [4.09400000e+03, 1.48996644e+00],\n",
       "        [8.19000000e+03, 1.39942845e+00],\n",
       "        [1.63820000e+04, 2.02128672e+00],\n",
       "        [3.27660000e+04, 1.58795466e+00],\n",
       "        [6.55340000e+04, 1.73205081e+00],\n",
       "        [1.31070000e+05, 2.57728539e+00],\n",
       "        [2.62142000e+05, 1.65215011e+00],\n",
       "        [5.24286000e+05, 2.21214828e+00],\n",
       "        [1.04857400e+06, 2.91547595e+00],\n",
       "        [2.09715000e+06, 1.86182706e+00]]),\n",
       " array([[2.00000000e+00, 1.72916165e+00],\n",
       "        [6.00000000e+00, 1.74367428e+00],\n",
       "        [1.40000000e+01, 1.71802212e+00],\n",
       "        [3.00000000e+01, 1.71335927e+00],\n",
       "        [6.20000000e+01, 1.66433170e+00],\n",
       "        [1.26000000e+02, 1.64450600e+00],\n",
       "        [2.54000000e+02, 1.80432813e+00],\n",
       "        [5.10000000e+02, 1.81317401e+00],\n",
       "        [1.02200000e+03, 1.89472953e+00],\n",
       "        [2.04600000e+03, 2.28656948e+00],\n",
       "        [4.09400000e+03, 2.12593509e+00],\n",
       "        [8.19000000e+03, 2.46568449e+00],\n",
       "        [1.63820000e+04, 1.25299641e+00],\n",
       "        [3.27660000e+04, 2.08144181e+00],\n",
       "        [6.55340000e+04, 2.32025861e+00],\n",
       "        [1.31070000e+05, 2.13813002e+00],\n",
       "        [2.62142000e+05, 2.11896201e+00],\n",
       "        [5.24286000e+05, 2.40341424e+00],\n",
       "        [1.04857400e+06, 1.14350339e+00],\n",
       "        [2.09715000e+06, 2.86419273e+00]]),\n",
       " array([[2.00000000e+00, 2.05562643e+00],\n",
       "        [6.00000000e+00, 2.08192219e+00],\n",
       "        [1.40000000e+01, 2.11243935e+00],\n",
       "        [3.00000000e+01, 2.09284495e+00],\n",
       "        [6.20000000e+01, 2.10751038e+00],\n",
       "        [1.26000000e+02, 2.19781710e+00],\n",
       "        [2.54000000e+02, 2.32172350e+00],\n",
       "        [5.10000000e+02, 2.01990099e+00],\n",
       "        [1.02200000e+03, 2.33615068e+00],\n",
       "        [2.04600000e+03, 2.44671208e+00],\n",
       "        [4.09400000e+03, 2.16757929e+00],\n",
       "        [8.19000000e+03, 2.14941853e+00],\n",
       "        [1.63820000e+04, 2.17568380e+00],\n",
       "        [3.27660000e+04, 2.39215384e+00],\n",
       "        [6.55340000e+04, 2.25086650e+00],\n",
       "        [1.31070000e+05, 2.07846097e+00],\n",
       "        [2.62142000e+05, 1.55871742e+00],\n",
       "        [5.24286000e+05, 2.85278811e+00],\n",
       "        [1.04857400e+06, 2.48080632e+00],\n",
       "        [2.09715000e+06, 1.60623784e+00]]),\n",
       " array([[2.00000000e+00, 1.77775139e+00],\n",
       "        [6.00000000e+00, 1.76283862e+00],\n",
       "        [1.40000000e+01, 1.74711190e+00],\n",
       "        [3.00000000e+01, 1.79543867e+00],\n",
       "        [6.20000000e+01, 1.72406496e+00],\n",
       "        [1.26000000e+02, 1.69575942e+00],\n",
       "        [2.54000000e+02, 1.77887605e+00],\n",
       "        [5.10000000e+02, 1.79209375e+00],\n",
       "        [1.02200000e+03, 2.34614578e+00],\n",
       "        [2.04600000e+03, 2.06484866e+00],\n",
       "        [4.09400000e+03, 2.08719908e+00],\n",
       "        [8.19000000e+03, 1.96967002e+00],\n",
       "        [1.63820000e+04, 1.72522462e+00],\n",
       "        [3.27660000e+04, 1.81978021e+00],\n",
       "        [6.55340000e+04, 2.12800376e+00],\n",
       "        [1.31070000e+05, 2.74364721e+00],\n",
       "        [2.62142000e+05, 2.34699808e+00],\n",
       "        [5.24286000e+05, 2.29338178e+00],\n",
       "        [1.04857400e+06, 1.94946146e+00],\n",
       "        [2.09715000e+06, 1.73078017e+00]])]"
      ]
     },
     "execution_count": 17,
     "metadata": {},
     "output_type": "execute_result"
    }
   ],
   "source": [
    "std_of_experiments\n"
   ]
  },
  {
   "cell_type": "code",
   "execution_count": 18,
   "metadata": {},
   "outputs": [],
   "source": [
    "mean_std = mean_std_calculator(std_of_experiments, number_of_experiments)"
   ]
  },
  {
   "cell_type": "code",
   "execution_count": 19,
   "metadata": {},
   "outputs": [
    {
     "data": {
      "text/plain": [
       "[<matplotlib.lines.Line2D at 0x7f97739015f8>]"
      ]
     },
     "execution_count": 19,
     "metadata": {},
     "output_type": "execute_result"
    },
    {
     "data": {
      "image/png": "[encoded data removed]",
      "text/plain": [
       "<Figure size 432x288 with 1 Axes>"
      ]
     },
     "metadata": {
      "needs_background": "light"
     },
     "output_type": "display_data"
    }
   ],
   "source": [
    "plt.loglog(mean_std[:,0], mean_std[:,1], linewidth=5)\n",
    "plt.loglog(mean_std[:,0], mean_std[:,1], 'o')\n",
    "#for i in range(4):\n",
    " #   plt.loglog(std_of_experiments[i][:,0], std_of_experiments[i][:,1],'o',alpha=1)\n",
    "#plt.errorbar(std_of_experiments[0][:,0], std_of_experiments[0][:,1],yerr=1)\n",
    "\n"
   ]
  },
  {
   "cell_type": "code",
   "execution_count": 20,
   "metadata": {},
   "outputs": [
    {
     "data": {
      "text/plain": [
       "[<matplotlib.lines.Line2D at 0x7f977337dd68>]"
      ]
     },
     "execution_count": 20,
     "metadata": {},
     "output_type": "execute_result"
    },
    {
     "data": {
      "image/png": "[encoded data removed]",
      "text/plain": [
       "<Figure size 432x288 with 1 Axes>"
      ]
     },
     "metadata": {
      "needs_background": "light"
     },
     "output_type": "display_data"
    }
   ],
   "source": [
    "plt.plot(mean_std[:,0], mean_std[:,1])"
   ]
  },
  {
   "cell_type": "code",
   "execution_count": null,
   "metadata": {},
   "outputs": [],
   "source": []
  },
  {
   "cell_type": "code",
   "execution_count": null,
   "metadata": {},
   "outputs": [],
   "source": []
  },
  {
   "cell_type": "code",
   "execution_count": null,
   "metadata": {},
   "outputs": [],
   "source": []
  },
  {
   "cell_type": "code",
   "execution_count": null,
   "metadata": {},
   "outputs": [],
   "source": []
  },
  {
   "cell_type": "code",
   "execution_count": null,
   "metadata": {},
   "outputs": [],
   "source": []
  },
  {
   "cell_type": "code",
   "execution_count": null,
   "metadata": {},
   "outputs": [],
   "source": []
  },
  {
   "cell_type": "code",
   "execution_count": null,
   "metadata": {},
   "outputs": [],
   "source": []
  }
 ],
 "metadata": {
  "kernelspec": {
   "display_name": "Python 3",
   "language": "python",
   "name": "python3"
  },
  "language_info": {
   "codemirror_mode": {
    "name": "ipython",
    "version": 3
   },
   "file_extension": ".py",
   "mimetype": "text/x-python",
   "name": "python",
   "nbconvert_exporter": "python",
   "pygments_lexer": "ipython3",
   "version": "3.7.3"
  }
 },
 "nbformat": 4,
 "nbformat_minor": 2
}
