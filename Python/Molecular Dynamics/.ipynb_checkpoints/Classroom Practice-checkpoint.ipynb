{
 "cells": [
  {
   "cell_type": "code",
   "execution_count": 52,
   "metadata": {},
   "outputs": [],
   "source": [
    "import numpy as np\n",
    "import matplotlib.pyplot as plt\n",
    "from matplotlib import animation"
   ]
  },
  {
   "cell_type": "code",
   "execution_count": 65,
   "metadata": {},
   "outputs": [],
   "source": [
    "N = 5\n",
    "L = 10\n",
    "pos  = np.random.random((N,2))*L\n",
    "vel = np.random.random((N,2))"
   ]
  },
  {
   "cell_type": "code",
   "execution_count": 66,
   "metadata": {},
   "outputs": [],
   "source": [
    "tabel = np.vstack((pos,vel))"
   ]
  },
  {
   "cell_type": "code",
   "execution_count": 67,
   "metadata": {},
   "outputs": [
    {
     "data": {
      "text/plain": [
       "(0, 10)"
      ]
     },
     "execution_count": 67,
     "metadata": {},
     "output_type": "execute_result"
    },
    {
     "data": {
      "image/png": "[encoded data removed]",
      "text/plain": [
       "<Figure size 432x288 with 1 Axes>"
      ]
     },
     "metadata": {
      "needs_background": "light"
     },
     "output_type": "display_data"
    }
   ],
   "source": [
    "plt.plot(pos[:,0],pos[:,1],'ro')\n",
    "plt.xlim([0,10])\n",
    "plt.ylim([0,10])"
   ]
  },
  {
   "cell_type": "code",
   "execution_count": 70,
   "metadata": {},
   "outputs": [
    {
     "name": "stderr",
     "output_type": "stream",
     "text": [
      "Traceback (most recent call last):\n",
      "  File \"/home/ali/anaconda3/envs/python/lib/python3.7/site-packages/matplotlib/cbook/__init__.py\", line 216, in process\n",
      "    func(*args, **kwargs)\n",
      "  File \"/home/ali/anaconda3/envs/python/lib/python3.7/site-packages/matplotlib/animation.py\", line 953, in _start\n",
      "    self._init_draw()\n",
      "  File \"/home/ali/anaconda3/envs/python/lib/python3.7/site-packages/matplotlib/animation.py\", line 1732, in _init_draw\n",
      "    self._draw_frame(next(self.new_frame_seq()))\n",
      "  File \"/home/ali/anaconda3/envs/python/lib/python3.7/site-packages/matplotlib/animation.py\", line 1755, in _draw_frame\n",
      "    self._drawn_artists = self._func(framedata, *self._args)\n",
      "TypeError: 'module' object is not callable\n"
     ]
    },
    {
     "data": {
      "image/png": "[encoded data removed]",
      "text/plain": [
       "<Figure size 432x288 with 1 Axes>"
      ]
     },
     "metadata": {
      "needs_background": "light"
     },
     "output_type": "display_data"
    }
   ],
   "source": [
    "fig,ax = plt.subplots()\n",
    "#def timestep():\n",
    "line, = ax.plot([],[],'b.', ms=16)\n",
    "def animate(i):\n",
    "    #timestep()\n",
    "    line.set_data(pos[:,0],pos[:,1])\n",
    "    return line,\n",
    "\n",
    "\n",
    "ani = animation.FuncAnimation(fig, animation,\n",
    "                              interval=25,\n",
    "                             blit=True)"
   ]
  },
  {
   "cell_type": "code",
   "execution_count": null,
   "metadata": {},
   "outputs": [],
   "source": []
  }
 ],
 "metadata": {
  "kernelspec": {
   "display_name": "Python 3",
   "language": "python",
   "name": "python3"
  },
  "language_info": {
   "codemirror_mode": {
    "name": "ipython",
    "version": 3
   },
   "file_extension": ".py",
   "mimetype": "text/x-python",
   "name": "python",
   "nbconvert_exporter": "python",
   "pygments_lexer": "ipython3",
   "version": "3.7.3"
  }
 },
 "nbformat": 4,
 "nbformat_minor": 2
}
