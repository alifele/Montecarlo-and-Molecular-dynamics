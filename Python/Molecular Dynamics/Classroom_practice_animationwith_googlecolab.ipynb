{
  "nbformat": 4,
  "nbformat_minor": 0,
  "metadata": {
    "colab": {
      "name": "Classroom practice.ipynb",
      "provenance": [],
      "include_colab_link": true
    },
    "kernelspec": {
      "name": "python3",
      "display_name": "Python 3"
    }
  },
  "cells": [
    {
      "cell_type": "markdown",
      "metadata": {
        "id": "view-in-github",
        "colab_type": "text"
      },
      "source": [
        "<a href=\"https://colab.research.google.com/github/alifele/Simulation-Methods/blob/master/Python/Molecular%20Dynamics/Classroom_practice_animationwith_googlecolab.ipynb\" target=\"_parent\"><img src=\"https://colab.research.google.com/assets/colab-badge.svg\" alt=\"Open In Colab\"/></a>"
      ]
    },
    {
      "cell_type": "markdown",
      "metadata": {
        "id": "11BHsoEpDJ3t",
        "colab_type": "text"
      },
      "source": [
        "# Note That this file is only commpatible with jupyter notebook"
      ]
    },
    {
      "cell_type": "code",
      "metadata": {
        "id": "CnMkHESCChDI",
        "colab_type": "code",
        "colab": {}
      },
      "source": [
        "import numpy as np\n",
        "import matplotlib.pyplot as plt\n",
        "\n",
        "from matplotlib import animation, rc\n",
        "from IPython.display import HTML\n",
        "\n"
      ],
      "execution_count": 0,
      "outputs": []
    },
    {
      "cell_type": "code",
      "metadata": {
        "id": "QsFIonicCjAJ",
        "colab_type": "code",
        "colab": {
          "base_uri": "https://localhost:8080/",
          "height": 269
        },
        "outputId": "087d7223-03ea-437b-b086-59ce427b3d13"
      },
      "source": [
        "# First set up the figure, the axis, and the plot element we want to animate\n",
        "fig, ax = plt.subplots()\n",
        "\n",
        "ax.set_xlim(( 0,L))\n",
        "ax.set_ylim((0,L))\n",
        "N=10\n",
        "L = 10\n",
        "pos = np.random.random((N,2))*L\n",
        "vel = np.zeros((N,2))\n",
        "data = np.hstack((pos,vel))\n",
        "line, = ax.plot([],[],'8', lw=2)\n"
      ],
      "execution_count": 67,
      "outputs": [
        {
          "output_type": "display_data",
          "data": {
            "image/png": "[encoded data removed]",
            "text/plain": [
              "<Figure size 432x288 with 1 Axes>"
            ]
          },
          "metadata": {
            "tags": []
          }
        }
      ]
    },
    {
      "cell_type": "code",
      "metadata": {
        "id": "D7IKmHEwCkzr",
        "colab_type": "code",
        "colab": {}
      },
      "source": [
        "# initialization function: plot the background of each frame\n",
        "def init():\n",
        "    line.set_data([],[])\n",
        "    return (line,)\n"
      ],
      "execution_count": 0,
      "outputs": []
    },
    {
      "cell_type": "code",
      "metadata": {
        "id": "RjHDiJcPCmjC",
        "colab_type": "code",
        "colab": {}
      },
      "source": [
        "# animation function. This is called sequentially\n",
        "\n",
        "def animate(i):\n",
        "   \n",
        "    #x = np.linspace(0, 2, 1000)\n",
        "    #y = np.sin(2 * np.pi * (x - 0.01 * i))\n",
        "    line.set_data(data[:,0], data[:,1])\n",
        "    return (line,)"
      ],
      "execution_count": 0,
      "outputs": []
    },
    {
      "cell_type": "code",
      "metadata": {
        "id": "vQO1TP2tCoVk",
        "colab_type": "code",
        "colab": {}
      },
      "source": [
        "# call the animator. blit=True means only re-draw the parts that have changed.\n",
        "anim = animation.FuncAnimation(fig, animate, init_func=init,\n",
        "                               frames=100, interval=20, blit=True)\n"
      ],
      "execution_count": 0,
      "outputs": []
    },
    {
      "cell_type": "code",
      "metadata": {
        "id": "Oz0dyuNTCqMY",
        "colab_type": "code",
        "colab": {
          "base_uri": "https://localhost:8080/",
          "height": 309
        },
        "outputId": "6aadc513-e28f-4681-87e2-9d45251ee700"
      },
      "source": [
        "HTML(anim.to_html5_video())"
      ],
      "execution_count": 74,
      "outputs": [
        {
          "output_type": "execute_result",
          "data": {
            "text/html": [
              "<video width=\"432\" height=\"288\" controls autoplay loop>\n",
              "  <source type=\"video/mp4\" src=\"data:video/mp4;base64,AAAAHGZ0eXBNNFYgAAACAGlzb21pc28yYXZjMQAAAAhmcmVlAAATVG1kYXQAAAKuBgX//6rcRem9\n",
              "5tlIt5Ys2CDZI+7veDI2NCAtIGNvcmUgMTUyIHIyODU0IGU5YTU5MDMgLSBILjI2NC9NUEVHLTQg\n",
              "QVZDIGNvZGVjIC0gQ29weWxlZnQgMjAwMy0yMDE3IC0gaHR0cDovL3d3dy52aWRlb2xhbi5vcmcv\n",
              "eDI2NC5odG1sIC0gb3B0aW9uczogY2FiYWM9MSByZWY9MyBkZWJsb2NrPTE6MDowIGFuYWx5c2U9\n",
              "MHgzOjB4MTEzIG1lPWhleCBzdWJtZT03IHBzeT0xIHBzeV9yZD0xLjAwOjAuMDAgbWl4ZWRfcmVm\n",
              "PTEgbWVfcmFuZ2U9MTYgY2hyb21hX21lPTEgdHJlbGxpcz0xIDh4OGRjdD0xIGNxbT0wIGRlYWR6\n",
              "b25lPTIxLDExIGZhc3RfcHNraXA9MSBjaHJvbWFfcXBfb2Zmc2V0PS0yIHRocmVhZHM9MyBsb29r\n",
              "YWhlYWRfdGhyZWFkcz0xIHNsaWNlZF90aHJlYWRzPTAgbnI9MCBkZWNpbWF0ZT0xIGludGVybGFj\n",
              "ZWQ9MCBibHVyYXlfY29tcGF0PTAgY29uc3RyYWluZWRfaW50cmE9MCBiZnJhbWVzPTMgYl9weXJh\n",
              "bWlkPTIgYl9hZGFwdD0xIGJfYmlhcz0wIGRpcmVjdD0xIHdlaWdodGI9MSBvcGVuX2dvcD0wIHdl\n",
              "aWdodHA9MiBrZXlpbnQ9MjUwIGtleWludF9taW49MjUgc2NlbmVjdXQ9NDAgaW50cmFfcmVmcmVz\n",
              "aD0wIHJjX2xvb2thaGVhZD00MCByYz1jcmYgbWJ0cmVlPTEgY3JmPTIzLjAgcWNvbXA9MC42MCBx\n",
              "cG1pbj0wIHFwbWF4PTY5IHFwc3RlcD00IGlwX3JhdGlvPTEuNDAgYXE9MToxLjAwAIAAAAfeZYiE\n",
              "ADP//vbsvgU1/Z/QlxEsxdpKcD4qpICAdzTAAAADAAB4He8+D3zQxAT/Ju/jJ4T9ZBZg4WBzvaTr\n",
              "Lo5fcaDiZnV4NVzSSJnErYjGokIWAAAFPGPgnvX6/mXH0KvDrIWibFPEeIgXl8x6zqSZSvTbOx0N\n",
              "Q/Sn4XhDriJOciNJTyxjCori7rE9efDs2TT5YJln/FIIzuIiDAfYpe+kHaXsv/KfMTdo9+RMyhMS\n",
              "nlFNxhNnhT8vldoWrHZPHaiMSsYqinCfwXm40ESXYjBagCuHllzdVTglOC/lsqsX5cVz7mvPz81M\n",
              "R5z15tq0V6CTEsaZF5pXm7bbgRS8VpGnO4o7Y2PjbtU46OQWqk1YRLdgwNZg5yIAME8Zm8UrB2vq\n",
              "DfwvYtsqbzFIbV3fyaXYTtC3IZ3RbJ8X/iiDsbjLOdR9LUvn5TWeLGYRu8EBZFJAWect61b8C4zJ\n",
              "9ERrFZ9OWWmoTB8HXKNBmn2CIu/CKM1dX13gN3/abb977e6/jv8rjD3rUQJcxkg6ue42l8gmyJKB\n",
              "4JVie+SrfXwuwT94bxQr7wQouennf08z9Y7XguorrI3TEKiSqX7u7SAwNYu+YchyP5u3KZyuBNBZ\n",
              "l/appRwbk1/U79RKfgFhAjJlqKSR2xiT80hsXTJXRiPs4jvWE8kI9MrkI92iwso/P3rCFVYuGnsV\n",
              "dXf9UXjAq1V0MzcAo1e7gcxGxgFcIdMiiGIeStFoI48OH3CgwdLtcFd3XY4nAe61z/EDh2bk5YQ9\n",
              "oXa6D0lK0X7bU+8G4oK9aRp7D3oPDI2jVca6CGGnXZjU1TCEiQVnn4g3QO8NbZtSn7IcU1FbV4An\n",
              "atMEh5Ein5s7GE6yTYmdZcr8MSLaN7KgOA8H1X5nJmnyDSQfYHYJytbikus5SSu7sSjjr6TUGzen\n",
              "a3avmT65eNF1ax6Zk+PoK7+G6ixJihnBL+AfO5mbUxn+/aqCpOEJf8ghbXTiR0mJDi5Ps6g/TPii\n",
              "BkoLFCC0tTsqxgAGFG89kuj7PpOYaxKDQW1qRRoqTbBFgROzcGsPTtJQwPumhck87ASym01RAUVS\n",
              "/mAl0wxxwgqKaADlthNoxxXwRQ3AAEykfa0Tyuj9iIe1I9H+4hQ8BaYkrGwOdcdhBpvoXAxhayfV\n",
              "YIwyzF5p8FZ1xPrbLsps2/dlqf0VRUOYTOedazv5ybUGhnBHudnrrJSPABNKsz3l1rx/UO0kpCnT\n",
              "ai5O0RN+GLP2wpCyP4p2zY8lzRVbzqtzd307H3SJQkbU+7oZ+Ptnp9iXvvU3qku3j501HBpyxzZQ\n",
              "PlEqvlzJrEYqzU3TGT7z2s0Stw3xxT0sYv2spKQblT6sWyqk/3dLs0i4P98Hq1ZU6s530ynUAANo\n",
              "OwUq8zQCfTyASxwDVaHtWFUvyXgC6+A6+3HG38FULgWMw1B0yn895XLAHZePXfoWlt0R+E8uZFFC\n",
              "tQazdWC4f523E7jr77EOyN3NWe2eLozgD/UhMLtAjKNsyCXgs4EY/kPH4dC44kfm4WFiQaQLhALq\n",
              "6If73Pyeif7Iop34BRDu1WK3v4y37vyMWpWNF5N4GneHewNgpyuE/9M+dRPyOERarQYUoxv5Y0Z0\n",
              "jkXqavDCmspj+fjSC9ND11W7l9ucbfAUJYMlSaUukf3KcKQuy4zAxzUPzeF1Ku1UHybMDf/p3AAf\n",
              "Irk/pqxHuqBfj+mtIpEcfBHdKAn2JHEBPeVyOb2x5NZ1ctX4zL5YfNyBmWqz+BZhENG0N4a6o8ht\n",
              "EwW+OKC7p9LCKa/N8RY05mXZNhW2TVCUCVBgDB/eqhokNmP4H+If/ylwHkKLv/86V+2DvNM7DH+q\n",
              "bgVgykQ5+lP12PcbUEz/dAt29jpyDbGF/4ejPTZee6ysXQBevLk1mqx6e6WoorAM7wO6z/lTXhuX\n",
              "tbhjat0rgypx+o8LyXo2w/kqt0gMKCgncYfr/YOsQx2ereFxtLQCbZdUb+XlvP864ZT7q5WLhqn3\n",
              "tQG1wqU99bwEkUZQ6TN+TY2Rehj3wwIkguh3P2njbWQLbHgrNjfV2y+tIdyJyWtftIHp2cxqGAvT\n",
              "ewrZ6LAp7T0lMFuWCcS9zvsTodnjQ9EG/A//uv//Pwla1oibolJGkQKZmD6fiMTdNnfsfjz7saPw\n",
              "R6EtOudrOT10eFqTKLMB5t5+/OsmIf0bY29UMDYVyKF0K0ovuRqdgiUB3iDpGmPo8ZXjVVEyTnbi\n",
              "vaPD6Oviq+Xsazct4UNkWXvXA/0vw6Ko0cYk+HSVoIAGHhTj9gC2zuheDVTkyPTnq67bh2LuoR11\n",
              "7MLXbhVp0wiWf1N/IU2SHvw+B9pbA/CtBxlhm0c1p06AJQGgb1kpEa5NWBa8pEW4AjiddifvKkzM\n",
              "FWgu6Ur/jj6z0WXxBbzdC8g0seqgh970CwUO7n4mJA1bMVLuA5bxPky8OU+hdIcReQt7ZiDlO777\n",
              "Tw8b4Bf49YxSx9kehlhRaYTobA7DBMEzmrXbLw37GEgO1wSG1lW7XUP7TLyRkifPTQNMbFlxsERe\n",
              "03iGzjUwtUeOy4of1JvKcGcHXAgUqnSWnu+hJJGGviOyvBmlkqLsTkeD0h/KrRAD3O1ACmAyf0Qb\n",
              "oPu9kPGbmDCGRK1Nh4N4zUF5IRTfC3tgmCF7/Cac41v6HTf2P6Uejl20dFFG4BWD2K9/mopn2zyD\n",
              "2R2kxqWzuHnADc+SxDwIaQAAAJxBmiRsQz/+nhB/4sTBociKVrqoYK2n5yYAAAMAte7bVMsAA0B4\n",
              "xAA2+TbXJV1vRItORfr0a6Zm4P/wQ6CV9GSG93L9GFZTxYZjw+zG2gPsV9C/EfM6G3OdpoSOnP1m\n",
              "nsD4mNvn4KwrAhIMnWvD3ExKDL6XsOdBuR+FZLiPj/3Bz1vGzUtqQkz4hdYlCmmapdo2Y2Uw6C8p\n",
              "N+i7REAAAAAtQZ5CeIR/BVU1Yoo1ZbNAAAD3q1KoACYq2F8fuLc2Q3cqRqItbt9M6PdEt4SVAAAA\n",
              "JAGeYXRH/wfifrCmZnTtxAAAAwCXNVMsACjHcoJj2QTThmSABAAAABcBnmNqR/8AABppKnWakwAR\n",
              "gSVji6J7sQAAACJBmmhJqEFomUwIZ//+nhAAADN0nqsNm6AfAQKT35VoGlXBAAAAGkGehkURLCP/\n",
              "AAAQV/YXUnSgFDDVmLFynjApAAAAFgGepXRH/wAAGlwB364y5hfBkh/gZYMAAAAOAZ6nakf/AAAL\n",
              "FnH0Ls0AAAATQZqsSahBbJlMCGf//p4QAAAHTAAAABJBnspFFSwj/wAABxdwpGme33UAAAAOAZ7p\n",
              "dEf/AAALEMFdOEoAAAAOAZ7rakf/AAALFnH0Ls0AAAATQZrwSahBbJlMCGf//p4QAAAHTQAAABJB\n",
              "nw5FFSwj/wAABxdwpGme33UAAAAOAZ8tdEf/AAALEMFdOEsAAAAOAZ8vakf/AAALFnH0Ls0AAAAT\n",
              "QZs0SahBbJlMCGf//p4QAAAHTAAAABJBn1JFFSwj/wAABxdwpGme33UAAAAOAZ9xdEf/AAALEMFd\n",
              "OEoAAAAOAZ9zakf/AAALFnH0Ls0AAAATQZt4SahBbJlMCGf//p4QAAAHTQAAABJBn5ZFFSwj/wAA\n",
              "BxdwpGme33QAAAAOAZ+1dEf/AAALEMFdOEsAAAAOAZ+3akf/AAALFnH0Ls0AAAATQZu8SahBbJlM\n",
              "CGf//p4QAAAHTAAAABJBn9pFFSwj/wAABxdwpGme33UAAAAOAZ/5dEf/AAALEMFdOEoAAAAOAZ/7\n",
              "akf/AAALFnH0Ls0AAAATQZvgSahBbJlMCGf//p4QAAAHTQAAABJBnh5FFSwj/wAABxdwpGme33QA\n",
              "AAAOAZ49dEf/AAALEMFdOEoAAAAOAZ4/akf/AAALFnH0Ls0AAAATQZokSahBbJlMCGf//p4QAAAH\n",
              "TAAAABJBnkJFFSwj/wAABxdwpGme33UAAAAOAZ5hdEf/AAALEMFdOEoAAAAOAZ5jakf/AAALFnH0\n",
              "Ls0AAAATQZpoSahBbJlMCGf//p4QAAAHTQAAABJBnoZFFSwj/wAABxdwpGme33UAAAAOAZ6ldEf/\n",
              "AAALEMFdOEsAAAAOAZ6nakf/AAALFnH0Ls0AAAATQZqsSahBbJlMCGf//p4QAAAHTAAAABJBnspF\n",
              "FSwj/wAABxdwpGme33UAAAAOAZ7pdEf/AAALEMFdOEoAAAAOAZ7rakf/AAALFnH0Ls0AAAATQZrw\n",
              "SahBbJlMCGf//p4QAAAHTQAAABJBnw5FFSwj/wAABxdwpGme33UAAAAOAZ8tdEf/AAALEMFdOEsA\n",
              "AAAOAZ8vakf/AAALFnH0Ls0AAAATQZs0SahBbJlMCGf//p4QAAAHTAAAABJBn1JFFSwj/wAABxdw\n",
              "pGme33UAAAAOAZ9xdEf/AAALEMFdOEoAAAAOAZ9zakf/AAALFnH0Ls0AAAATQZt4SahBbJlMCGf/\n",
              "/p4QAAAHTQAAABJBn5ZFFSwj/wAABxdwpGme33QAAAAOAZ+1dEf/AAALEMFdOEsAAAAOAZ+3akf/\n",
              "AAALFnH0Ls0AAAATQZu8SahBbJlMCGf//p4QAAAHTAAAABJBn9pFFSwj/wAABxdwpGme33UAAAAO\n",
              "AZ/5dEf/AAALEMFdOEoAAAAOAZ/7akf/AAALFnH0Ls0AAAATQZvgSahBbJlMCGf//p4QAAAHTQAA\n",
              "ABJBnh5FFSwj/wAABxdwpGme33QAAAAOAZ49dEf/AAALEMFdOEoAAAAOAZ4/akf/AAALFnH0Ls0A\n",
              "AAATQZokSahBbJlMCGf//p4QAAAHTAAAABJBnkJFFSwj/wAABxdwpGme33UAAAAOAZ5hdEf/AAAL\n",
              "EMFdOEoAAAAOAZ5jakf/AAALFnH0Ls0AAAATQZpoSahBbJlMCGf//p4QAAAHTQAAABJBnoZFFSwj\n",
              "/wAABxdwpGme33UAAAAOAZ6ldEf/AAALEMFdOEsAAAAOAZ6nakf/AAALFnH0Ls0AAAATQZqsSahB\n",
              "bJlMCGf//p4QAAAHTAAAABJBnspFFSwj/wAABxdwpGme33UAAAAOAZ7pdEf/AAALEMFdOEoAAAAO\n",
              "AZ7rakf/AAALFnH0Ls0AAAATQZrwSahBbJlMCGf//p4QAAAHTQAAABJBnw5FFSwj/wAABxdwpGme\n",
              "33UAAAAOAZ8tdEf/AAALEMFdOEsAAAAOAZ8vakf/AAALFnH0Ls0AAAATQZs0SahBbJlMCF///oyw\n",
              "AAAHVAAAABJBn1JFFSwj/wAABxdwpGme33UAAAAOAZ9xdEf/AAALEMFdOEoAAAAOAZ9zakf/AAAL\n",
              "FnH0Ls0AAAATQZt4SahBbJlMCF///oywAAAHVQAAABJBn5ZFFSwj/wAABxdwpGme33QAAAAOAZ+1\n",
              "dEf/AAALEMFdOEsAAAAOAZ+3akf/AAALFnH0Ls0AAAATQZu8SahBbJlMCF///oywAAAHVAAAABJB\n",
              "n9pFFSwj/wAABxdwpGme33UAAAAOAZ/5dEf/AAALEMFdOEoAAAAOAZ/7akf/AAALFnH0Ls0AAAAT\n",
              "QZvgSahBbJlMCFf//jhAAAAccQAAABJBnh5FFSwj/wAABxdwpGme33QAAAAOAZ49dEf/AAALEMFd\n",
              "OEoAAAAOAZ4/akf/AAALFnH0Ls0AAAASQZojSahBbJlMCP/8hAAAAwGzAAAAEkGeQUUVLCP/AAAH\n",
              "F3CkaZ7fdQAAAA4BnmJqR/8AAAsWcfQuzQAAB9Ztb292AAAAbG12aGQAAAAAAAAAAAAAAAAAAAPo\n",
              "AAAH0AABAAABAAAAAAAAAAAAAAAAAQAAAAAAAAAAAAAAAAAAAAEAAAAAAAAAAAAAAAAAAEAAAAAA\n",
              "AAAAAAAAAAAAAAAAAAAAAAAAAAAAAAAAAAACAAAHAHRyYWsAAABcdGtoZAAAAAMAAAAAAAAAAAAA\n",
              "AAEAAAAAAAAH0AAAAAAAAAAAAAAAAAAAAAAAAQAAAAAAAAAAAAAAAAAAAAEAAAAAAAAAAAAAAAAA\n",
              "AEAAAAABsAAAASAAAAAAACRlZHRzAAAAHGVsc3QAAAAAAAAAAQAAB9AAAAIAAAEAAAAABnhtZGlh\n",
              "AAAAIG1kaGQAAAAAAAAAAAAAAAAAADIAAABkAFXEAAAAAAAtaGRscgAAAAAAAAAAdmlkZQAAAAAA\n",
              "AAAAAAAAAFZpZGVvSGFuZGxlcgAAAAYjbWluZgAAABR2bWhkAAAAAQAAAAAAAAAAAAAAJGRpbmYA\n",
              "AAAcZHJlZgAAAAAAAAABAAAADHVybCAAAAABAAAF43N0YmwAAACzc3RzZAAAAAAAAAABAAAAo2F2\n",
              "YzEAAAAAAAAAAQAAAAAAAAAAAAAAAAAAAAABsAEgAEgAAABIAAAAAAAAAAEAAAAAAAAAAAAAAAAA\n",
              "AAAAAAAAAAAAAAAAAAAAAAAAAAAY//8AAAAxYXZjQwFkAB7/4QAYZ2QAHqzZQbCWhAAAAwAEAAAD\n",
              "AZA8WLZYAQAGaOvjyyLAAAAAHHV1aWRraEDyXyRPxbo5pRvPAyPzAAAAAAAAABhzdHRzAAAAAAAA\n",
              "AAEAAABkAAABAAAAABRzdHNzAAAAAAAAAAEAAAABAAADKGN0dHMAAAAAAAAAYwAAAAEAAAIAAAAA\n",
              "AQAABQAAAAABAAACAAAAAAEAAAAAAAAAAQAAAQAAAAABAAAFAAAAAAEAAAIAAAAAAQAAAAAAAAAB\n",
              "AAABAAAAAAEAAAUAAAAAAQAAAgAAAAABAAAAAAAAAAEAAAEAAAAAAQAABQAAAAABAAACAAAAAAEA\n",
              "AAAAAAAAAQAAAQAAAAABAAAFAAAAAAEAAAIAAAAAAQAAAAAAAAABAAABAAAAAAEAAAUAAAAAAQAA\n",
              "AgAAAAABAAAAAAAAAAEAAAEAAAAAAQAABQAAAAABAAACAAAAAAEAAAAAAAAAAQAAAQAAAAABAAAF\n",
              "AAAAAAEAAAIAAAAAAQAAAAAAAAABAAABAAAAAAEAAAUAAAAAAQAAAgAAAAABAAAAAAAAAAEAAAEA\n",
              "AAAAAQAABQAAAAABAAACAAAAAAEAAAAAAAAAAQAAAQAAAAABAAAFAAAAAAEAAAIAAAAAAQAAAAAA\n",
              "AAABAAABAAAAAAEAAAUAAAAAAQAAAgAAAAABAAAAAAAAAAEAAAEAAAAAAQAABQAAAAABAAACAAAA\n",
              "AAEAAAAAAAAAAQAAAQAAAAABAAAFAAAAAAEAAAIAAAAAAQAAAAAAAAABAAABAAAAAAEAAAUAAAAA\n",
              "AQAAAgAAAAABAAAAAAAAAAEAAAEAAAAAAQAABQAAAAABAAACAAAAAAEAAAAAAAAAAQAAAQAAAAAB\n",
              "AAAFAAAAAAEAAAIAAAAAAQAAAAAAAAABAAABAAAAAAEAAAUAAAAAAQAAAgAAAAABAAAAAAAAAAEA\n",
              "AAEAAAAAAQAABQAAAAABAAACAAAAAAEAAAAAAAAAAQAAAQAAAAABAAAFAAAAAAEAAAIAAAAAAQAA\n",
              "AAAAAAABAAABAAAAAAEAAAUAAAAAAQAAAgAAAAABAAAAAAAAAAEAAAEAAAAAAQAABQAAAAABAAAC\n",
              "AAAAAAEAAAAAAAAAAQAAAQAAAAABAAAFAAAAAAEAAAIAAAAAAQAAAAAAAAABAAABAAAAAAEAAAUA\n",
              "AAAAAQAAAgAAAAABAAAAAAAAAAEAAAEAAAAAAQAABAAAAAACAAABAAAAABxzdHNjAAAAAAAAAAEA\n",
              "AAABAAAAZAAAAAEAAAGkc3RzegAAAAAAAAAAAAAAZAAACpQAAACgAAAAMQAAACgAAAAbAAAAJgAA\n",
              "AB4AAAAaAAAAEgAAABcAAAAWAAAAEgAAABIAAAAXAAAAFgAAABIAAAASAAAAFwAAABYAAAASAAAA\n",
              "EgAAABcAAAAWAAAAEgAAABIAAAAXAAAAFgAAABIAAAASAAAAFwAAABYAAAASAAAAEgAAABcAAAAW\n",
              "AAAAEgAAABIAAAAXAAAAFgAAABIAAAASAAAAFwAAABYAAAASAAAAEgAAABcAAAAWAAAAEgAAABIA\n",
              "AAAXAAAAFgAAABIAAAASAAAAFwAAABYAAAASAAAAEgAAABcAAAAWAAAAEgAAABIAAAAXAAAAFgAA\n",
              "ABIAAAASAAAAFwAAABYAAAASAAAAEgAAABcAAAAWAAAAEgAAABIAAAAXAAAAFgAAABIAAAASAAAA\n",
              "FwAAABYAAAASAAAAEgAAABcAAAAWAAAAEgAAABIAAAAXAAAAFgAAABIAAAASAAAAFwAAABYAAAAS\n",
              "AAAAEgAAABcAAAAWAAAAEgAAABIAAAAWAAAAFgAAABIAAAAUc3RjbwAAAAAAAAABAAAALAAAAGJ1\n",
              "ZHRhAAAAWm1ldGEAAAAAAAAAIWhkbHIAAAAAAAAAAG1kaXJhcHBsAAAAAAAAAAAAAAAALWlsc3QA\n",
              "AAAlqXRvbwAAAB1kYXRhAAAAAQAAAABMYXZmNTcuODMuMTAw\n",
              "\">\n",
              "  Your browser does not support the video tag.\n",
              "</video>"
            ],
            "text/plain": [
              "<IPython.core.display.HTML object>"
            ]
          },
          "metadata": {
            "tags": []
          },
          "execution_count": 74
        }
      ]
    },
    {
      "cell_type": "code",
      "metadata": {
        "id": "gvZ95e6kCr2b",
        "colab_type": "code",
        "colab": {
          "base_uri": "https://localhost:8080/",
          "height": 282
        },
        "outputId": "e23a1059-aff4-4ce5-d3f6-b70a122afacf"
      },
      "source": [
        "plt.plot(data[:,0],data[:,1],'8')"
      ],
      "execution_count": 42,
      "outputs": [
        {
          "output_type": "execute_result",
          "data": {
            "text/plain": [
              "[<matplotlib.lines.Line2D at 0x7fbe0b5ea2b0>]"
            ]
          },
          "metadata": {
            "tags": []
          },
          "execution_count": 42
        },
        {
          "output_type": "display_data",
          "data": {
            "image/png": "[encoded data removed]",
            "text/plain": [
              "<Figure size 432x288 with 1 Axes>"
            ]
          },
          "metadata": {
            "tags": []
          }
        }
      ]
    },
    {
      "cell_type": "code",
      "metadata": {
        "id": "fxn_QD83C9N6",
        "colab_type": "code",
        "colab": {}
      },
      "source": [
        ""
      ],
      "execution_count": 0,
      "outputs": []
    },
    {
      "cell_type": "code",
      "metadata": {
        "id": "5ZcUVRc6DAF5",
        "colab_type": "code",
        "colab": {}
      },
      "source": [
        ""
      ],
      "execution_count": 0,
      "outputs": []
    }
  ]
}