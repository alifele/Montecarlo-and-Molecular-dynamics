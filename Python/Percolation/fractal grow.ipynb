{
 "cells": [
  {
   "cell_type": "code",
   "execution_count": 1,
   "metadata": {},
   "outputs": [],
   "source": [
    "import numpy as np\n",
    "import matplotlib.pyplot as plt"
   ]
  },
  {
   "cell_type": "code",
   "execution_count": 2,
   "metadata": {},
   "outputs": [],
   "source": [
    "def near_cells_F(i,j):\n",
    "    \n",
    "    near_cells=[(i,j-1),(i,j+1),(i-1,j),(i+1,j)]\n",
    "    return near_cells"
   ]
  },
  {
   "cell_type": "code",
   "execution_count": null,
   "metadata": {},
   "outputs": [],
   "source": []
  },
  {
   "cell_type": "code",
   "execution_count": null,
   "metadata": {},
   "outputs": [],
   "source": []
  },
  {
   "cell_type": "code",
   "execution_count": 8,
   "metadata": {},
   "outputs": [],
   "source": [
    "def run_Experiment(Layer,p,plot, gyration_radius):\n",
    "    L = 350\n",
    "    lattice = np.zeros((L,L))\n",
    "    lattice[int(L/2),int(L/2)] = 1\n",
    "    nears=near_cells_F(int(L/2),int(L/2))\n",
    "    r2s= 0\n",
    "    N = 0\n",
    "    for layer in range(Layer):\n",
    "        near_cells = nears\n",
    "        nears=[]\n",
    "        for cell in near_cells:\n",
    "            rand = np.random.random()\n",
    "            if lattice[cell]==0:\n",
    "                if rand <p:\n",
    "                    lattice[cell] = 1\n",
    "                    r2s += ((cell[0]-int(L/2))**2 + (cell[1]-int(L/2))**2 )\n",
    "                    N+=1\n",
    "                    if cell[0]>0 and cell[1]>0 and cell[0]<L-1 and cell[1]<L-1:\n",
    "                        nears+=(near_cells_F(cell[0], cell[1]))\n",
    "                    else :\n",
    "                        break\n",
    "    \n",
    "    if plot==1:\n",
    "        plt.imshow(lattice)\n",
    "        \n",
    "    if gyration_radius==1:\n",
    "        return lattice, (r2s/(N+1))**0.5\n",
    "    \n",
    "    return lattice"
   ]
  },
  {
   "cell_type": "code",
   "execution_count": 21,
   "metadata": {},
   "outputs": [
    {
     "data": {
      "image/png": "[encoded data removed]",
      "text/plain": [
       "<Figure size 432x432 with 1 Axes>"
      ]
     },
     "metadata": {
      "needs_background": "light"
     },
     "output_type": "display_data"
    }
   ],
   "source": [
    "plt.figure(figsize=(6,6))\n",
    "lattice = run_Experiment(180,0.53,1,0)"
   ]
  },
  {
   "cell_type": "markdown",
   "metadata": {},
   "source": [
    "# Numeric data"
   ]
  },
  {
   "cell_type": "code",
   "execution_count": null,
   "metadata": {},
   "outputs": [],
   "source": [
    "Q = 700\n",
    "#P = np.arange(0.3,0.75,0.05)\n",
    "P = [0.59]\n",
    "data_list = []\n",
    "for p in P:\n",
    "    accum=0\n",
    "    rg=0\n",
    "    for q in range(Q):\n",
    "        data = run_Experiment(200,p,0,1)\n",
    "        accum=data[0].sum()\n",
    "        rg = data[1]\n",
    "        data_list.append((rg,accum))\n",
    "    "
   ]
  },
  {
   "cell_type": "code",
   "execution_count": null,
   "metadata": {},
   "outputs": [],
   "source": [
    "data = np.array(data_list)"
   ]
  },
  {
   "cell_type": "code",
   "execution_count": null,
   "metadata": {},
   "outputs": [],
   "source": []
  },
  {
   "cell_type": "code",
   "execution_count": null,
   "metadata": {},
   "outputs": [],
   "source": [
    "\n",
    "plt.loglog(data[:,0], (data[:,1]),'8')\n",
    "plt.xlabel('log(ksi)')\n",
    "plt.ylabel('log(size)')"
   ]
  },
  {
   "cell_type": "markdown",
   "metadata": {},
   "source": [
    "# Line Fitting "
   ]
  },
  {
   "cell_type": "code",
   "execution_count": null,
   "metadata": {},
   "outputs": [],
   "source": [
    "from scipy import optimize\n"
   ]
  },
  {
   "cell_type": "code",
   "execution_count": null,
   "metadata": {},
   "outputs": [],
   "source": [
    "def fit_function(x,a,b):\n",
    "    return a*x+b\n",
    "\n",
    "parameters , covar = optimize.curve_fit(fit_function, np.log(data[:,0]+1), np.log(data[:,1]), p0=[1,2])\n"
   ]
  },
  {
   "cell_type": "code",
   "execution_count": null,
   "metadata": {},
   "outputs": [],
   "source": [
    "plt.plot(np.log(data[:,0]+1),fit_function(np.log(data[:,0]+1),parameters[0], parameters[1]),'b',\n",
    "        label='%3.5f*x+%f'%(parameters[0], parameters[1]))\n",
    "plt.plot(np.log(data[:,0]+1), np.log(data[:,1]),'8r',\n",
    "        label='data with p = 0.55')\n",
    "plt.xlabel('log(ksi)')\n",
    "plt.ylabel('log(size)')\n",
    "plt.legend()"
   ]
  },
  {
   "cell_type": "code",
   "execution_count": null,
   "metadata": {},
   "outputs": [],
   "source": []
  }
 ],
 "metadata": {
  "kernelspec": {
   "display_name": "Python 3",
   "language": "python",
   "name": "python3"
  },
  "language_info": {
   "codemirror_mode": {
    "name": "ipython",
    "version": 3
   },
   "file_extension": ".py",
   "mimetype": "text/x-python",
   "name": "python",
   "nbconvert_exporter": "python",
   "pygments_lexer": "ipython3",
   "version": "3.7.3"
  }
 },
 "nbformat": 4,
 "nbformat_minor": 2
}
