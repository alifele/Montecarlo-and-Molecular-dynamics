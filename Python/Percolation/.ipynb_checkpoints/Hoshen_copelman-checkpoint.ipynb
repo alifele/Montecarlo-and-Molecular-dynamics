{
 "cells": [
  {
   "cell_type": "code",
   "execution_count": 30,
   "metadata": {
    "colab": {},
    "colab_type": "code",
    "id": "jhRfwQCaHN7b"
   },
   "outputs": [],
   "source": [
    "import numpy as np\n",
    "import matplotlib.pyplot as plt"
   ]
  },
  {
   "cell_type": "code",
   "execution_count": 227,
   "metadata": {
    "colab": {},
    "colab_type": "code",
    "id": "cREXJTnfHTpD"
   },
   "outputs": [],
   "source": []
  },
  {
   "cell_type": "markdown",
   "metadata": {
    "colab_type": "text",
    "id": "ZBR9qdEpM5bp"
   },
   "source": [
    "lattice size = L * L\n",
    "\n",
    "but the size of the lattice must be (L+2) * (L+2)\n",
    "\n",
    "and the index    \n",
    "\n",
    "j -> 1:L+1\n",
    "\n",
    "i -> 1:L+1\n",
    "\n"
   ]
  },
  {
   "cell_type": "code",
   "execution_count": 228,
   "metadata": {
    "colab": {
     "base_uri": "https://localhost:8080/",
     "height": 286
    },
    "colab_type": "code",
    "id": "WoADt3YMMLN3",
    "outputId": "8be68bcf-7826-4b14-e359-6366de1b46f7"
   },
   "outputs": [
    {
     "data": {
      "text/plain": [
       "array([[1., 1., 1., 1., 1., 1., 1., 1., 1., 1., 1., 1.],\n",
       "       [1., 0., 0., 0., 0., 0., 0., 0., 0., 0., 0., 0.],\n",
       "       [1., 0., 0., 0., 0., 0., 0., 0., 0., 0., 0., 0.],\n",
       "       [1., 0., 0., 0., 0., 0., 0., 0., 0., 0., 0., 0.],\n",
       "       [1., 0., 0., 0., 0., 0., 0., 0., 0., 0., 0., 0.],\n",
       "       [1., 0., 0., 0., 0., 0., 0., 0., 0., 0., 0., 0.],\n",
       "       [1., 0., 0., 0., 0., 0., 0., 0., 0., 0., 0., 0.],\n",
       "       [1., 0., 0., 0., 0., 0., 0., 0., 0., 0., 0., 0.],\n",
       "       [1., 0., 0., 0., 0., 0., 0., 0., 0., 0., 0., 0.],\n",
       "       [1., 0., 0., 0., 0., 0., 0., 0., 0., 0., 0., 0.],\n",
       "       [1., 0., 0., 0., 0., 0., 0., 0., 0., 0., 0., 0.],\n",
       "       [1., 1., 1., 1., 1., 1., 1., 1., 1., 1., 1., 1.]])"
      ]
     },
     "execution_count": 228,
     "metadata": {},
     "output_type": "execute_result"
    },
    {
     "data": {
      "image/png": "[encoded data removed]",
      "text/plain": [
       "<Figure size 432x288 with 1 Axes>"
      ]
     },
     "metadata": {
      "needs_background": "light"
     },
     "output_type": "display_data"
    }
   ],
   "source": []
  },
  {
   "cell_type": "code",
   "execution_count": 229,
   "metadata": {
    "colab": {},
    "colab_type": "code",
    "id": "aOuNLfo2MQT9"
   },
   "outputs": [],
   "source": []
  },
  {
   "cell_type": "code",
   "execution_count": 230,
   "metadata": {
    "colab": {
     "base_uri": "https://localhost:8080/",
     "height": 286
    },
    "colab_type": "code",
    "id": "vop_PRSDMSl-",
    "outputId": "86f5d792-85f2-480a-d2a2-4eb599b5290e"
   },
   "outputs": [
    {
     "data": {
      "text/plain": [
       "array([[1., 1., 1., 1., 1., 1., 1., 1., 1., 1., 1., 1.],\n",
       "       [1., 1., 1., 0., 0., 0., 0., 0., 0., 0., 1., 0.],\n",
       "       [1., 0., 0., 1., 0., 1., 1., 1., 1., 1., 1., 0.],\n",
       "       [1., 0., 0., 0., 0., 0., 1., 0., 1., 1., 0., 0.],\n",
       "       [1., 1., 0., 1., 0., 1., 1., 1., 0., 0., 1., 0.],\n",
       "       [1., 1., 1., 0., 1., 1., 1., 1., 0., 1., 0., 0.],\n",
       "       [1., 1., 1., 1., 0., 1., 0., 1., 1., 1., 1., 0.],\n",
       "       [1., 1., 0., 1., 0., 0., 1., 0., 1., 0., 0., 0.],\n",
       "       [1., 0., 1., 1., 1., 0., 0., 1., 1., 1., 1., 0.],\n",
       "       [1., 0., 0., 1., 1., 0., 0., 1., 1., 0., 1., 0.],\n",
       "       [1., 1., 0., 0., 0., 1., 1., 0., 1., 1., 0., 0.],\n",
       "       [1., 1., 1., 1., 1., 1., 1., 1., 1., 1., 1., 1.]])"
      ]
     },
     "execution_count": 230,
     "metadata": {},
     "output_type": "execute_result"
    },
    {
     "data": {
      "image/png": "[encoded data removed]",
      "text/plain": [
       "<Figure size 432x288 with 1 Axes>"
      ]
     },
     "metadata": {
      "needs_background": "light"
     },
     "output_type": "display_data"
    }
   ],
   "source": []
  },
  {
   "cell_type": "code",
   "execution_count": 231,
   "metadata": {
    "colab": {
     "base_uri": "https://localhost:8080/",
     "height": 197
    },
    "colab_type": "code",
    "id": "_nbojgg9P3o6",
    "outputId": "b9de6a9f-5d52-42f9-8742-816bcac6e82d"
   },
   "outputs": [],
   "source": []
  },
  {
   "cell_type": "code",
   "execution_count": null,
   "metadata": {
    "colab": {
     "base_uri": "https://localhost:8080/",
     "height": 51
    },
    "colab_type": "code",
    "id": "DYngaR8jVP3T",
    "outputId": "59fdddd0-00a5-4afe-c044-9aac4d1697ec"
   },
   "outputs": [],
   "source": []
  },
  {
   "cell_type": "code",
   "execution_count": 233,
   "metadata": {
    "colab": {},
    "colab_type": "code",
    "id": "NwvJ3xgtVTsy"
   },
   "outputs": [],
   "source": []
  },
  {
   "cell_type": "code",
   "execution_count": 234,
   "metadata": {},
   "outputs": [
    {
     "data": {
      "text/plain": [
       "array([[ 0, -1, -1, -1, -1, -1, -1, -1, -1, -1, -1, -1],\n",
       "       [ 0, -1, -1, -1, -1, -1, -1, -1, -1, -1, -1, -1],\n",
       "       [ 0, -1, -1, -1, -1, -1, -1, -1, -1, -1, -1, -1],\n",
       "       [ 0, -1, -1, -1, -1, -1, -1, -1, -1, -1, -1, -1],\n",
       "       [ 0, -1, -1, -1, -1, -1, -1, -1, -1, -1, -1, -1],\n",
       "       [ 0, -1, -1, -1, -1, -1, -1, -1, -1, -1, -1, -1],\n",
       "       [ 0, -1, -1, -1, -1, -1, -1, -1, -1, -1, -1, -1],\n",
       "       [ 0, -1, -1, -1, -1, -1, -1, -1, -1, -1, -1, -1],\n",
       "       [ 0, -1, -1, -1, -1, -1, -1, -1, -1, -1, -1, -1],\n",
       "       [ 0, -1, -1, -1, -1, -1, -1, -1, -1, -1, -1, -1],\n",
       "       [ 0, -1, -1, -1, -1, -1, -1, -1, -1, -1, -1, -1],\n",
       "       [ 0, -1, -1, -1, -1, -1, -1, -1, -1, -1, -1, -1]])"
      ]
     },
     "execution_count": 234,
     "metadata": {},
     "output_type": "execute_result"
    },
    {
     "data": {
      "image/png": "[encoded data removed]",
      "text/plain": [
       "<Figure size 432x288 with 1 Axes>"
      ]
     },
     "metadata": {
      "needs_background": "light"
     },
     "output_type": "display_data"
    }
   ],
   "source": []
  },
  {
   "cell_type": "code",
   "execution_count": 235,
   "metadata": {},
   "outputs": [],
   "source": []
  },
  {
   "cell_type": "code",
   "execution_count": 757,
   "metadata": {},
   "outputs": [
    {
     "data": {
      "image/png": "[encoded data removed]",
      "text/plain": [
       "<Figure size 432x288 with 1 Axes>"
      ]
     },
     "metadata": {
      "needs_background": "light"
     },
     "output_type": "display_data"
    }
   ],
   "source": [
    "L = 20\n",
    "lattice = np.zeros((L+2,L+2))\n",
    "\n",
    "lattice[:,0]=1\n",
    "lattice[0,:]=-2\n",
    "lattice[-1]=-2\n",
    "plt.imshow(lattice)\n",
    "lattice\n",
    "\n",
    "p=0.4\n",
    "for j in range(1,L+1):\n",
    "  for i in range(1,L+1):\n",
    "    rand = np.random.random()\n",
    "    if rand<p :\n",
    "        lattice[i,j]=1\n",
    "        \n",
    "        \n",
    "plt.imshow(lattice[1:L+1,1:L+1])\n",
    "lattice\n",
    "\n",
    "\n",
    "upper_range=1000\n",
    "cluster = [0 for i in range(upper_range)]\n",
    "color = [i for i in range(0,upper_range)]\n",
    "size = [0 for i in range(upper_range)]\n",
    "cluster[0]=color[0]\n",
    "\n",
    "color_matrix = -np.ones((L+2,L+2),dtype='int')\n",
    "color_matrix[:,0]=color[0]\n",
    "\n",
    "\n",
    "#plt.imshow(color_matrix)\n",
    "color_matrix\n",
    "\n",
    "\n",
    "color_counter=0\n",
    "for i in range(1,L+1):\n",
    "    for j in range(1,L+1):\n",
    "        \n",
    "        if lattice[i,j]==1:\n",
    "             \n",
    "            if lattice[i-1,j]==lattice[i,j-1]==1:\n",
    "                if color_matrix[i-1,j]==color_matrix[i,j-1]:\n",
    "                    color_matrix[i,j]=color_matrix[i,j-1]\n",
    "                    size[color_matrix[i,j]]+=1\n",
    "                else:\n",
    "                    color_matrix[i,j]=color_matrix[i,j-1] \n",
    "                    size[color_matrix[i,j]]+=1\n",
    "                    cluster[color_matrix[i-1,j]]=color_matrix[i,j]\n",
    "                \n",
    "            elif lattice[i-1,j]==1:\n",
    "                color_matrix[i,j]=color_matrix[i-1,j]\n",
    "                size[color_matrix[i,j]]+=1\n",
    "                \n",
    "            elif lattice[i,j-1]==1:\n",
    "                color_matrix[i,j]=color_matrix[i,j-1]\n",
    "                size[color_matrix[i,j]]+=1\n",
    "                \n",
    "            else:\n",
    "                color_counter+=1\n",
    "                color_matrix[i,j]=color[color_counter]\n",
    "                cluster[color_matrix[i,j]]=color_matrix[i,j]\n",
    "                size[color_matrix[i,j]]+=1\n",
    "       \n",
    "                \n",
    "#lattice                \n"
   ]
  },
  {
   "cell_type": "code",
   "execution_count": 758,
   "metadata": {},
   "outputs": [
    {
     "data": {
      "text/plain": [
       "array([[ 0, -1, -1, -1, -1, -1, -1, -1, -1, -1, -1, -1, -1, -1, -1, -1,\n",
       "        -1, -1, -1, -1, -1, -1],\n",
       "       [ 0, -1, -1,  1, -1, -1,  2, -1, -1, -1,  3, -1, -1, -1,  4,  4,\n",
       "        -1,  5,  5, -1, -1, -1],\n",
       "       [ 0, -1, -1, -1, -1,  6, -1,  7, -1, -1,  3,  3, -1,  8, -1, -1,\n",
       "        -1, -1, -1, -1,  9, -1],\n",
       "       [ 0, -1, 10, 10, -1, -1, -1,  7, -1, -1, -1, -1, -1, -1, -1, 11,\n",
       "        11, 11, 11, -1,  9, -1],\n",
       "       [ 0, -1, 10, -1, 12, -1, -1, -1, -1, -1, -1, 13, 13, -1, -1, 11,\n",
       "        -1, -1, -1, -1, -1, -1],\n",
       "       [ 0,  0,  0, -1, -1, -1, -1, -1, 14, 14, -1, -1, -1, 15, -1, -1,\n",
       "        16, 16, -1, -1, -1, -1],\n",
       "       [ 0, -1, -1, -1, 17, -1, -1, 18, -1, -1, 19, 19, 19, 19, -1, -1,\n",
       "        -1, 16, -1, -1, 20, -1],\n",
       "       [ 0,  0,  0, -1, 17, 17, -1, -1, 21, 21, -1, -1, 19, 19, 19, 19,\n",
       "        19, -1, -1, -1, -1, -1],\n",
       "       [ 0, -1, -1, 22, 22, -1, 23, -1, -1, -1, 24, -1, -1, -1, 19, -1,\n",
       "        19, 19, -1, -1, -1, -1],\n",
       "       [ 0,  0, -1, -1, -1, -1, -1, -1, 25, 25, -1, -1, -1, -1, 19, 19,\n",
       "        19, 19, -1, 26, -1, -1],\n",
       "       [ 0, -1, -1, -1, 27, -1, 28, 28, -1, -1, 29, -1, -1, 30, 30, 30,\n",
       "        -1, 19, -1, 26, -1, -1],\n",
       "       [ 0,  0, -1, -1, 27, -1, 28, -1, -1, -1, -1, 31, 31, -1, -1, 30,\n",
       "        -1, 19, 19, 19, -1, -1],\n",
       "       [ 0, -1, -1, -1, -1, -1, 28, -1, -1, -1, -1, -1, -1, 32, -1, -1,\n",
       "        -1, 19, -1, -1, 33, -1],\n",
       "       [ 0,  0, -1, 34, -1, 35, -1, 36, -1, -1, -1, 37, -1, -1, -1, 38,\n",
       "        -1, 19, 19, -1, -1, -1],\n",
       "       [ 0, -1, 39, -1, 40, -1, 41, -1, 42, -1, 43, -1, 44, 44, 44, -1,\n",
       "        45, -1, 19, -1, -1, -1],\n",
       "       [ 0,  0, -1, -1, -1, -1, 41, -1, -1, -1, 43, 43, 43, -1, 44, 44,\n",
       "        -1, 46, 46, 46, -1, -1],\n",
       "       [ 0, -1, 47, -1, 48, 48, -1, -1, 49, -1, 43, 43, -1, 50, -1, 44,\n",
       "        44, -1, 46, -1, -1, -1],\n",
       "       [ 0, -1, -1, 51, -1, 48, -1, -1, 49, -1, -1, 43, -1, -1, -1, 44,\n",
       "        44, -1, -1, 52, -1, -1],\n",
       "       [ 0,  0, -1, 51, -1, 48, -1, -1, -1, 53, 53, 53, -1, 54, -1, 44,\n",
       "        -1, -1, -1, 52, 52, -1],\n",
       "       [ 0, -1, -1, 51, -1, -1, -1, -1, -1, 53, -1, -1, 55, 55, 55, -1,\n",
       "        -1, 56, -1, 52, 52, -1],\n",
       "       [ 0, -1, 57, -1, -1, -1, 58, -1, -1, 53, -1, 59, 59, -1, -1, -1,\n",
       "        -1, -1, -1, 52, -1, -1],\n",
       "       [ 0, -1, -1, -1, -1, -1, -1, -1, -1, -1, -1, -1, -1, -1, -1, -1,\n",
       "        -1, -1, -1, -1, -1, -1]])"
      ]
     },
     "execution_count": 758,
     "metadata": {},
     "output_type": "execute_result"
    },
    {
     "data": {
      "image/png": "[encoded data removed]",
      "text/plain": [
       "<Figure size 432x288 with 1 Axes>"
      ]
     },
     "metadata": {
      "needs_background": "light"
     },
     "output_type": "display_data"
    }
   ],
   "source": [
    "plt.imshow(color_matrix[1:L+1,1:L+1])\n",
    "color_matrix"
   ]
  },
  {
   "cell_type": "code",
   "execution_count": null,
   "metadata": {},
   "outputs": [],
   "source": []
  },
  {
   "cell_type": "code",
   "execution_count": null,
   "metadata": {},
   "outputs": [],
   "source": []
  },
  {
   "cell_type": "code",
   "execution_count": 759,
   "metadata": {},
   "outputs": [],
   "source": [
    "def color_of_cluster(cluster_number, cluster):\n",
    "    if cluster[cluster_number] == cluster_number:\n",
    "        #print('here is the answer:{}'.format(cluster_number))\n",
    "        return cluster_number\n",
    "    else:\n",
    "        #print(cluster[cluster_number])\n",
    "        a = color_of_cluster(cluster[cluster_number],cluster)\n",
    "        return a\n",
    "    "
   ]
  },
  {
   "cell_type": "code",
   "execution_count": 760,
   "metadata": {},
   "outputs": [],
   "source": [
    "pre_color_matrix=np.zeros(color_matrix.shape)\n",
    "while not (pre_color_matrix == color_matrix).all():\n",
    "    pre_color_matrix= 1*color_matrix\n",
    "    for i in range(L+1,-1,-1):\n",
    "        for j in range(L+1,-1,-1):\n",
    "            if color_matrix[i,j]!=-1:\n",
    "                color_matrix[i,j]=color_of_cluster(cluster[color_matrix[i,j]],cluster)\n",
    "          \n",
    "\n",
    "\n"
   ]
  },
  {
   "cell_type": "code",
   "execution_count": 761,
   "metadata": {},
   "outputs": [
    {
     "data": {
      "text/plain": [
       "array([[ 0, -1, -1, -1, -1, -1, -1, -1, -1, -1, -1, -1, -1, -1, -1, -1,\n",
       "        -1, -1, -1, -1, -1, -1],\n",
       "       [ 0, -1, -1,  1, -1, -1,  2, -1, -1, -1,  3, -1, -1, -1,  4,  4,\n",
       "        -1,  5,  5, -1, -1, -1],\n",
       "       [ 0, -1, -1, -1, -1,  6, -1,  7, -1, -1,  3,  3, -1,  8, -1, -1,\n",
       "        -1, -1, -1, -1,  9, -1],\n",
       "       [ 0, -1,  0,  0, -1, -1, -1,  7, -1, -1, -1, -1, -1, -1, -1, 11,\n",
       "        11, 11, 11, -1,  9, -1],\n",
       "       [ 0, -1,  0, -1, 12, -1, -1, -1, -1, -1, -1, 13, 13, -1, -1, 11,\n",
       "        -1, -1, -1, -1, -1, -1],\n",
       "       [ 0,  0,  0, -1, -1, -1, -1, -1, 14, 14, -1, -1, -1, 46, -1, -1,\n",
       "        16, 16, -1, -1, -1, -1],\n",
       "       [ 0, -1, -1, -1, 22, -1, -1, 18, -1, -1, 46, 46, 46, 46, -1, -1,\n",
       "        -1, 16, -1, -1, 20, -1],\n",
       "       [ 0,  0,  0, -1, 22, 22, -1, -1, 21, 21, -1, -1, 46, 46, 46, 46,\n",
       "        46, -1, -1, -1, -1, -1],\n",
       "       [ 0, -1, -1, 22, 22, -1, 23, -1, -1, -1, 24, -1, -1, -1, 46, -1,\n",
       "        46, 46, -1, -1, -1, -1],\n",
       "       [ 0,  0, -1, -1, -1, -1, -1, -1, 25, 25, -1, -1, -1, -1, 46, 46,\n",
       "        46, 46, -1, 46, -1, -1],\n",
       "       [ 0, -1, -1, -1, 27, -1, 28, 28, -1, -1, 29, -1, -1, 30, 30, 30,\n",
       "        -1, 46, -1, 46, -1, -1],\n",
       "       [ 0,  0, -1, -1, 27, -1, 28, -1, -1, -1, -1, 31, 31, -1, -1, 30,\n",
       "        -1, 46, 46, 46, -1, -1],\n",
       "       [ 0, -1, -1, -1, -1, -1, 28, -1, -1, -1, -1, -1, -1, 32, -1, -1,\n",
       "        -1, 46, -1, -1, 33, -1],\n",
       "       [ 0,  0, -1, 34, -1, 35, -1, 36, -1, -1, -1, 37, -1, -1, -1, 38,\n",
       "        -1, 46, 46, -1, -1, -1],\n",
       "       [ 0, -1, 39, -1, 40, -1, 41, -1, 42, -1, 53, -1, 53, 53, 53, -1,\n",
       "        45, -1, 46, -1, -1, -1],\n",
       "       [ 0,  0, -1, -1, -1, -1, 41, -1, -1, -1, 53, 53, 53, -1, 53, 53,\n",
       "        -1, 46, 46, 46, -1, -1],\n",
       "       [ 0, -1, 47, -1, 48, 48, -1, -1, 49, -1, 53, 53, -1, 50, -1, 53,\n",
       "        53, -1, 46, -1, -1, -1],\n",
       "       [ 0, -1, -1, 51, -1, 48, -1, -1, 49, -1, -1, 53, -1, -1, -1, 53,\n",
       "        53, -1, -1, 52, -1, -1],\n",
       "       [ 0,  0, -1, 51, -1, 48, -1, -1, -1, 53, 53, 53, -1, 59, -1, 53,\n",
       "        -1, -1, -1, 52, 52, -1],\n",
       "       [ 0, -1, -1, 51, -1, -1, -1, -1, -1, 53, -1, -1, 59, 59, 59, -1,\n",
       "        -1, 56, -1, 52, 52, -1],\n",
       "       [ 0, -1, 57, -1, -1, -1, 58, -1, -1, 53, -1, 59, 59, -1, -1, -1,\n",
       "        -1, -1, -1, 52, -1, -1],\n",
       "       [ 0, -1, -1, -1, -1, -1, -1, -1, -1, -1, -1, -1, -1, -1, -1, -1,\n",
       "        -1, -1, -1, -1, -1, -1]])"
      ]
     },
     "execution_count": 761,
     "metadata": {},
     "output_type": "execute_result"
    },
    {
     "data": {
      "image/png": "[encoded data removed]",
      "text/plain": [
       "<Figure size 432x288 with 1 Axes>"
      ]
     },
     "metadata": {
      "needs_background": "light"
     },
     "output_type": "display_data"
    }
   ],
   "source": [
    "plt.imshow(color_matrix[1:L+1,1:L+1], cmap=plt.get_cmap('jet'))\n",
    "#plt.imshow(color_matrix[1:L+1,1:L+1])\n",
    "color_matrix"
   ]
  },
  {
   "cell_type": "markdown",
   "metadata": {},
   "source": [
    "# Numeric analysis\n",
    "perivous sections was somehow for visualization.\n",
    "but for our simulatoin we want something more than a few colorful plots.\n",
    "\n",
    "to make a numeric analysis we need to make the code more clear and systematic"
   ]
  },
  {
   "cell_type": "code",
   "execution_count": null,
   "metadata": {},
   "outputs": [],
   "source": []
  },
  {
   "cell_type": "code",
   "execution_count": null,
   "metadata": {},
   "outputs": [],
   "source": []
  },
  {
   "cell_type": "code",
   "execution_count": null,
   "metadata": {},
   "outputs": [],
   "source": []
  },
  {
   "cell_type": "code",
   "execution_count": null,
   "metadata": {},
   "outputs": [],
   "source": []
  },
  {
   "cell_type": "code",
   "execution_count": null,
   "metadata": {},
   "outputs": [],
   "source": []
  },
  {
   "cell_type": "code",
   "execution_count": null,
   "metadata": {},
   "outputs": [],
   "source": []
  },
  {
   "cell_type": "code",
   "execution_count": null,
   "metadata": {},
   "outputs": [],
   "source": []
  }
 ],
 "metadata": {
  "colab": {
   "name": "Hoshen_copelman.ipynb",
   "provenance": []
  },
  "kernelspec": {
   "display_name": "Python 3",
   "language": "python",
   "name": "python3"
  },
  "language_info": {
   "codemirror_mode": {
    "name": "ipython",
    "version": 3
   },
   "file_extension": ".py",
   "mimetype": "text/x-python",
   "name": "python",
   "nbconvert_exporter": "python",
   "pygments_lexer": "ipython3",
   "version": "3.7.3"
  }
 },
 "nbformat": 4,
 "nbformat_minor": 1
}
