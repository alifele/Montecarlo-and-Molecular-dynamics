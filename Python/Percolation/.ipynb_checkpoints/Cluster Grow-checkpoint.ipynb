{
 "cells": [
  {
   "cell_type": "code",
   "execution_count": 1,
   "metadata": {},
   "outputs": [],
   "source": [
    "import numpy as np\n",
    "import matplotlib.pyplot as plt"
   ]
  },
  {
   "cell_type": "code",
   "execution_count": 97,
   "metadata": {},
   "outputs": [],
   "source": [
    "class Cluster:\n",
    "    def __init__(self,L):\n",
    "        self.L = L\n",
    "        self.initial = (np.random.randint(L), np.random.randint(L))\n",
    "        self.lattice = np.zeros((L+2,L+2))\n",
    "        self.lattice[self.initial]=1\n",
    "        self.neighbors = [self.initial]"
   ]
  },
  {
   "cell_type": "code",
   "execution_count": null,
   "metadata": {},
   "outputs": [],
   "source": []
  },
  {
   "cell_type": "code",
   "execution_count": null,
   "metadata": {},
   "outputs": [],
   "source": []
  },
  {
   "cell_type": "code",
   "execution_count": 225,
   "metadata": {},
   "outputs": [],
   "source": [
    "def cluster_grow(cluster,p, step):\n",
    "    \n",
    "    lattice = cluster.lattice\n",
    "    L = lattice.shape[0]\n",
    "    #x = np.random.randint(L)\n",
    "    #y = np.random.randint(L)\n",
    "    \n",
    "    neighbors = cluster.neighbors\n",
    "    \n",
    "    flag = 0\n",
    "    counter=0\n",
    "    for x,y in neighbors:\n",
    "        \n",
    "        if counter>step:\n",
    "            #print(counter)\n",
    "            cluster.lattice = lattice\n",
    "            cluster.neighbors = neighbors\n",
    "            break\n",
    "            \n",
    "        else:\n",
    "            #counter+=1\n",
    "            if x>0 and y>0 and x<L-1 and y<L-1 :\n",
    "                #plt.imshow(lattice)\n",
    "                #print(neighbors)\n",
    "                \n",
    "                if lattice[x-1,y]==0:\n",
    "                    rand = np.random.random()\n",
    "                    if rand<p:\n",
    "                        lattice[x-1,y]=1\n",
    "                        neighbors.append((x-1,y))\n",
    "                        counter+=1\n",
    "\n",
    "                if lattice[x+1,y]==0:\n",
    "                    rand = np.random.random()\n",
    "                    if rand<p:\n",
    "                        lattice[x+1,y]=1\n",
    "                        neighbors.append((x+1,y))\n",
    "                        counter+=1\n",
    "\n",
    "                if lattice[x,y-1]==0:\n",
    "                    rand = np.random.random()\n",
    "                    if rand<p:\n",
    "                        lattice[x,y-1]=1\n",
    "                        neighbors.append((x,y-1))\n",
    "                        counter+=1\n",
    "                        \n",
    "                if lattice[x,y+1]==0:\n",
    "                    rand = np.random.random()\n",
    "                    if rand<p:\n",
    "                        lattice[x,y+1]=1\n",
    "                        neighbors.append((x,y+1))\n",
    "                        counter+=1\n",
    "                        \n",
    "            else:\n",
    "                print('the boudary is reached')\n",
    "                flag = 1\n",
    "                return lattice, flag \n",
    "            \n",
    "    return lattice, flag"
   ]
  },
  {
   "cell_type": "code",
   "execution_count": 230,
   "metadata": {},
   "outputs": [
    {
     "data": {
      "text/plain": [
       "<matplotlib.image.AxesImage at 0x7fdc1e893208>"
      ]
     },
     "execution_count": 230,
     "metadata": {},
     "output_type": "execute_result"
    },
    {
     "data": {
      "image/png": "[encoded data removed]",
      "text/plain": [
       "<Figure size 432x288 with 1 Axes>"
      ]
     },
     "metadata": {
      "needs_background": "light"
     },
     "output_type": "display_data"
    }
   ],
   "source": [
    "L=120\n",
    "cluster = Cluster(120)\n",
    "plt.imshow(cluster.lattice)"
   ]
  },
  {
   "cell_type": "code",
   "execution_count": 231,
   "metadata": {},
   "outputs": [
    {
     "name": "stdout",
     "output_type": "stream",
     "text": [
      "the boudary is reached\n",
      "436.0 312\n"
     ]
    },
    {
     "data": {
      "image/png": "[encoded data removed]",
      "text/plain": [
       "<Figure size 432x288 with 1 Axes>"
      ]
     },
     "metadata": {
      "needs_background": "light"
     },
     "output_type": "display_data"
    }
   ],
   "source": [
    "cluster_size=0\n",
    "iteration = 0\n",
    "while cluster_size <1000:\n",
    "    lattice, flag = cluster_grow(cluster,0.02,10)\n",
    "    if flag==1:\n",
    "        break\n",
    "    cluster_size = lattice.sum()\n",
    "    iteration+=1\n",
    "plt.imshow(lattice)\n",
    "print(lattice.sum(), iteration)"
   ]
  },
  {
   "cell_type": "code",
   "execution_count": null,
   "metadata": {},
   "outputs": [],
   "source": []
  },
  {
   "cell_type": "code",
   "execution_count": null,
   "metadata": {},
   "outputs": [],
   "source": []
  },
  {
   "cell_type": "code",
   "execution_count": null,
   "metadata": {},
   "outputs": [],
   "source": []
  },
  {
   "cell_type": "code",
   "execution_count": null,
   "metadata": {},
   "outputs": [],
   "source": []
  },
  {
   "cell_type": "code",
   "execution_count": null,
   "metadata": {},
   "outputs": [],
   "source": []
  },
  {
   "cell_type": "code",
   "execution_count": null,
   "metadata": {},
   "outputs": [],
   "source": []
  },
  {
   "cell_type": "code",
   "execution_count": null,
   "metadata": {},
   "outputs": [],
   "source": []
  },
  {
   "cell_type": "code",
   "execution_count": null,
   "metadata": {},
   "outputs": [],
   "source": []
  },
  {
   "cell_type": "code",
   "execution_count": null,
   "metadata": {},
   "outputs": [],
   "source": []
  },
  {
   "cell_type": "code",
   "execution_count": null,
   "metadata": {},
   "outputs": [],
   "source": []
  }
 ],
 "metadata": {
  "kernelspec": {
   "display_name": "Python 3",
   "language": "python",
   "name": "python3"
  },
  "language_info": {
   "codemirror_mode": {
    "name": "ipython",
    "version": 3
   },
   "file_extension": ".py",
   "mimetype": "text/x-python",
   "name": "python",
   "nbconvert_exporter": "python",
   "pygments_lexer": "ipython3",
   "version": "3.7.3"
  }
 },
 "nbformat": 4,
 "nbformat_minor": 2
}
