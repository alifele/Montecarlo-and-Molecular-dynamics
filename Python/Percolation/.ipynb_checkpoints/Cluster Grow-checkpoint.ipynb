{
 "cells": [
  {
   "cell_type": "code",
   "execution_count": 1,
   "metadata": {},
   "outputs": [],
   "source": [
    "import numpy as np\n",
    "import matplotlib.pyplot as plt"
   ]
  },
  {
   "cell_type": "code",
   "execution_count": 252,
   "metadata": {},
   "outputs": [],
   "source": [
    "class Cluster:\n",
    "    def __init__(self,L):\n",
    "        self.L = L\n",
    "        self.initial = (np.random.randint(int(L/4), int(3*L/4)), np.random.randint(int(L/4), int(3*L/4)))\n",
    "        self.lattice = np.zeros((L+2,L+2))\n",
    "        self.lattice[self.initial]=1\n",
    "        self.neighbors = [self.initial]"
   ]
  },
  {
   "cell_type": "code",
   "execution_count": 253,
   "metadata": {},
   "outputs": [
    {
     "data": {
      "text/plain": [
       "3"
      ]
     },
     "execution_count": 253,
     "metadata": {},
     "output_type": "execute_result"
    }
   ],
   "source": [
    "np.random.randint(1,13)"
   ]
  },
  {
   "cell_type": "code",
   "execution_count": null,
   "metadata": {},
   "outputs": [],
   "source": []
  },
  {
   "cell_type": "code",
   "execution_count": 384,
   "metadata": {},
   "outputs": [],
   "source": [
    "def cluster_grow(cluster,p, step):\n",
    "    \n",
    "    lattice = cluster.lattice\n",
    "    L = lattice.shape[0]\n",
    "    #x = np.random.randint(L)\n",
    "    #y = np.random.randint(L)\n",
    "    \n",
    "    neighbors = cluster.neighbors\n",
    "    \n",
    "    flag = 0\n",
    "    counter=0\n",
    "    new_neighbors = neighbors\n",
    "    loop_counter = 0\n",
    "    for x,y in list(set(new_neighbors)):\n",
    "        loop_counter +=1\n",
    "       \n",
    "                                \n",
    "        new_neighbors_prime = []\n",
    "        \n",
    "        if counter>step:\n",
    "            #print(counter)\n",
    "            cluster.lattice = lattice\n",
    "            cluster.neighbors = list(set(new_neighbors_prime + new_neighbors))\n",
    "            break\n",
    "            \n",
    "        else:\n",
    "            \n",
    "            #counter+=1\n",
    "            if x>0 and y>0 and x<L-1 and y<L-1 :\n",
    "                #plt.imshow(lattice)\n",
    "                #print(neighbors)\n",
    "                \n",
    "                if lattice[x-1,y]==0:\n",
    "                    rand = np.random.random()\n",
    "                    if rand<p:\n",
    "                        lattice[x-1,y]=1\n",
    "                        new_neighbors_prime.append((x-1,y))\n",
    "                        counter+=1\n",
    "\n",
    "                if lattice[x+1,y]==0:\n",
    "                    rand = np.random.random()\n",
    "                    if rand<p:\n",
    "                        lattice[x+1,y]=1\n",
    "                        new_neighbors_prime.append((x+1,y))\n",
    "                        counter+=1\n",
    "\n",
    "                if lattice[x,y-1]==0:\n",
    "                    rand = np.random.random()\n",
    "                    if rand<p:\n",
    "                        lattice[x,y-1]=1\n",
    "                        new_neighbors_prime.append((x,y-1))\n",
    "                        counter+=1\n",
    "                        \n",
    "                if lattice[x,y+1]==0:\n",
    "                    rand = np.random.random()\n",
    "                    if rand<p:\n",
    "                        lattice[x,y+1]=1\n",
    "                        new_neighbors_prime.append((x,y+1))\n",
    "                        counter+=1\n",
    "                  \n",
    "                #neighbors += new_neighbors\n",
    "                #neighbors = list(set(neighbors))\n",
    "                \n",
    "                if loop_counter == len(list(set(new_neighbors))):\n",
    "                    new_neighbors = new_neighbors_prime \n",
    "                    loop_counter=0\n",
    "                                        \n",
    "                                        \n",
    "            else:\n",
    "                print('the boudary is reached')\n",
    "                flag = 1\n",
    "                return lattice, flag \n",
    "            \n",
    "    return lattice, flag"
   ]
  },
  {
   "cell_type": "code",
   "execution_count": 385,
   "metadata": {},
   "outputs": [
    {
     "data": {
      "text/plain": [
       "<matplotlib.image.AxesImage at 0x7fdc1c1affd0>"
      ]
     },
     "execution_count": 385,
     "metadata": {},
     "output_type": "execute_result"
    },
    {
     "data": {
      "image/png": "[encoded data removed]",
      "text/plain": [
       "<Figure size 432x288 with 1 Axes>"
      ]
     },
     "metadata": {
      "needs_background": "light"
     },
     "output_type": "display_data"
    }
   ],
   "source": [
    "L=40\n",
    "cluster = Cluster(L)\n",
    "plt.imshow(cluster.lattice)"
   ]
  },
  {
   "cell_type": "code",
   "execution_count": 386,
   "metadata": {},
   "outputs": [
    {
     "ename": "KeyboardInterrupt",
     "evalue": "",
     "output_type": "error",
     "traceback": [
      "\u001b[0;31m---------------------------------------------------------------------------\u001b[0m",
      "\u001b[0;31mKeyboardInterrupt\u001b[0m                         Traceback (most recent call last)",
      "\u001b[0;32m<ipython-input-386-be1e3d00eabd>\u001b[0m in \u001b[0;36m<module>\u001b[0;34m\u001b[0m\n\u001b[1;32m      2\u001b[0m \u001b[0miteration\u001b[0m \u001b[0;34m=\u001b[0m \u001b[0;36m0\u001b[0m\u001b[0;34m\u001b[0m\u001b[0;34m\u001b[0m\u001b[0m\n\u001b[1;32m      3\u001b[0m \u001b[0;32mwhile\u001b[0m \u001b[0mcluster_size\u001b[0m \u001b[0;34m<\u001b[0m\u001b[0;36m10\u001b[0m\u001b[0;34m:\u001b[0m\u001b[0;34m\u001b[0m\u001b[0;34m\u001b[0m\u001b[0m\n\u001b[0;32m----> 4\u001b[0;31m     \u001b[0mlattice\u001b[0m\u001b[0;34m,\u001b[0m \u001b[0mflag\u001b[0m \u001b[0;34m=\u001b[0m \u001b[0mcluster_grow\u001b[0m\u001b[0;34m(\u001b[0m\u001b[0mcluster\u001b[0m\u001b[0;34m,\u001b[0m\u001b[0;36m0.4\u001b[0m\u001b[0;34m,\u001b[0m\u001b[0;36m1\u001b[0m\u001b[0;34m)\u001b[0m\u001b[0;34m\u001b[0m\u001b[0;34m\u001b[0m\u001b[0m\n\u001b[0m\u001b[1;32m      5\u001b[0m     \u001b[0;32mif\u001b[0m \u001b[0mflag\u001b[0m\u001b[0;34m==\u001b[0m\u001b[0;36m1\u001b[0m\u001b[0;34m:\u001b[0m\u001b[0;34m\u001b[0m\u001b[0;34m\u001b[0m\u001b[0m\n\u001b[1;32m      6\u001b[0m         \u001b[0;32mbreak\u001b[0m\u001b[0;34m\u001b[0m\u001b[0;34m\u001b[0m\u001b[0m\n",
      "\u001b[0;32m<ipython-input-384-3b8f3911e05c>\u001b[0m in \u001b[0;36mcluster_grow\u001b[0;34m(cluster, p, step)\u001b[0m\n\u001b[1;32m     12\u001b[0m     \u001b[0mnew_neighbors\u001b[0m \u001b[0;34m=\u001b[0m \u001b[0mneighbors\u001b[0m\u001b[0;34m\u001b[0m\u001b[0;34m\u001b[0m\u001b[0m\n\u001b[1;32m     13\u001b[0m     \u001b[0mloop_counter\u001b[0m \u001b[0;34m=\u001b[0m \u001b[0;36m0\u001b[0m\u001b[0;34m\u001b[0m\u001b[0;34m\u001b[0m\u001b[0m\n\u001b[0;32m---> 14\u001b[0;31m     \u001b[0;32mfor\u001b[0m \u001b[0mx\u001b[0m\u001b[0;34m,\u001b[0m\u001b[0my\u001b[0m \u001b[0;32min\u001b[0m \u001b[0mlist\u001b[0m\u001b[0;34m(\u001b[0m\u001b[0mset\u001b[0m\u001b[0;34m(\u001b[0m\u001b[0mnew_neighbors\u001b[0m\u001b[0;34m)\u001b[0m\u001b[0;34m)\u001b[0m\u001b[0;34m:\u001b[0m\u001b[0;34m\u001b[0m\u001b[0;34m\u001b[0m\u001b[0m\n\u001b[0m\u001b[1;32m     15\u001b[0m         \u001b[0mloop_counter\u001b[0m \u001b[0;34m+=\u001b[0m\u001b[0;36m1\u001b[0m\u001b[0;34m\u001b[0m\u001b[0;34m\u001b[0m\u001b[0m\n\u001b[1;32m     16\u001b[0m \u001b[0;34m\u001b[0m\u001b[0m\n",
      "\u001b[0;31mKeyboardInterrupt\u001b[0m: "
     ]
    }
   ],
   "source": [
    "cluster_size=0\n",
    "iteration = 0\n",
    "while cluster_size <10:\n",
    "    lattice, flag = cluster_grow(cluster,0.4,1)\n",
    "    if flag==1:\n",
    "        break\n",
    "    cluster_size = lattice.sum()\n",
    "    iteration+=1\n",
    "plt.imshow(lattice)\n",
    "print(lattice.sum(), iteration)"
   ]
  },
  {
   "cell_type": "code",
   "execution_count": 346,
   "metadata": {},
   "outputs": [],
   "source": [
    "lattice = cluster.lattice\n",
    "L = lattice.shape[0]\n",
    "neighbors = cluster.neighbors\n",
    "    \n"
   ]
  },
  {
   "cell_type": "code",
   "execution_count": 347,
   "metadata": {},
   "outputs": [
    {
     "data": {
      "text/plain": [
       "<matplotlib.image.AxesImage at 0x7fdc1ecdcd68>"
      ]
     },
     "execution_count": 347,
     "metadata": {},
     "output_type": "execute_result"
    },
    {
     "data": {
      "image/png": "[encoded data removed]",
      "text/plain": [
       "<Figure size 432x288 with 1 Axes>"
      ]
     },
     "metadata": {
      "needs_background": "light"
     },
     "output_type": "display_data"
    }
   ],
   "source": [
    "plt.imshow(lattice)\n"
   ]
  },
  {
   "cell_type": "code",
   "execution_count": 348,
   "metadata": {},
   "outputs": [
    {
     "data": {
      "text/plain": [
       "[(26, 15)]"
      ]
     },
     "execution_count": 348,
     "metadata": {},
     "output_type": "execute_result"
    }
   ],
   "source": [
    "neighbors"
   ]
  },
  {
   "cell_type": "code",
   "execution_count": 371,
   "metadata": {},
   "outputs": [],
   "source": [
    "flag = 0\n",
    "counter=0\n",
    "new_neighbors = neighbors\n",
    "x=26\n",
    "y=17\n",
    "p=0.54\n",
    "if x>0 and y>0 and x<L-1 and y<L-1 :\n",
    "    new_neighbors = []\n",
    "                #plt.imshow(lattice)\n",
    "    #print(neighbors)\n",
    "\n",
    "    if lattice[x-1,y]==0:\n",
    "        rand = np.random.random()\n",
    "        if rand<p:\n",
    "            lattice[x-1,y]=1\n",
    "            new_neighbors.append((x-1,y))\n",
    "            counter+=1\n",
    "\n",
    "    if lattice[x+1,y]==0:\n",
    "        rand = np.random.random()\n",
    "        if rand<p:\n",
    "            lattice[x+1,y]=1\n",
    "            new_neighbors.append((x+1,y))\n",
    "            counter+=1\n",
    "\n",
    "    if lattice[x,y-1]==0:\n",
    "        rand = np.random.random()\n",
    "        if rand<p:\n",
    "            lattice[x,y-1]=1\n",
    "            new_neighbors.append((x,y-1))\n",
    "            counter+=1\n",
    "\n",
    "    if lattice[x,y+1]==0:\n",
    "        rand = np.random.random()\n",
    "        if rand<p:\n",
    "            lattice[x,y+1]=1\n",
    "            new_neighbors.append((x,y+1))\n",
    "            counter+=1"
   ]
  },
  {
   "cell_type": "code",
   "execution_count": 372,
   "metadata": {},
   "outputs": [
    {
     "data": {
      "text/plain": [
       "[]"
      ]
     },
     "execution_count": 372,
     "metadata": {},
     "output_type": "execute_result"
    }
   ],
   "source": [
    "new_neighbors"
   ]
  },
  {
   "cell_type": "code",
   "execution_count": 364,
   "metadata": {},
   "outputs": [
    {
     "data": {
      "text/plain": [
       "<matplotlib.image.AxesImage at 0x7fdc1d3c6a90>"
      ]
     },
     "execution_count": 364,
     "metadata": {},
     "output_type": "execute_result"
    },
    {
     "data": {
      "image/png": "[encoded data removed]",
      "text/plain": [
       "<Figure size 432x288 with 1 Axes>"
      ]
     },
     "metadata": {
      "needs_background": "light"
     },
     "output_type": "display_data"
    }
   ],
   "source": [
    "plt.imshow(lattice)"
   ]
  },
  {
   "cell_type": "code",
   "execution_count": 357,
   "metadata": {},
   "outputs": [
    {
     "ename": "SyntaxError",
     "evalue": "'return' outside function (<ipython-input-357-96878ec6fcd1>, line 52)",
     "output_type": "error",
     "traceback": [
      "\u001b[0;36m  File \u001b[0;32m\"<ipython-input-357-96878ec6fcd1>\"\u001b[0;36m, line \u001b[0;32m52\u001b[0m\n\u001b[0;31m    return lattice, flag\u001b[0m\n\u001b[0m    ^\u001b[0m\n\u001b[0;31mSyntaxError\u001b[0m\u001b[0;31m:\u001b[0m 'return' outside function\n"
     ]
    }
   ],
   "source": [
    "\n",
    "    \n",
    "    flag = 0\n",
    "    counter=0\n",
    "    new_neighbors = neighbors\n",
    "    for x,y in list(set(new_neighbors)):\n",
    "        new_neighbors = []\n",
    "        \n",
    "        if counter>step:\n",
    "            #print(counter)\n",
    "            cluster.lattice = lattice\n",
    "            cluster.neighbors = list(set(neighbors))\n",
    "            break\n",
    "            \n",
    "        else:\n",
    "            #counter+=1\n",
    "            if x>0 and y>0 and x<L-1 and y<L-1 :\n",
    "                #plt.imshow(lattice)\n",
    "                #print(neighbors)\n",
    "                \n",
    "                if lattice[x-1,y]==0:\n",
    "                    rand = np.random.random()\n",
    "                    if rand<p:\n",
    "                        lattice[x-1,y]=1\n",
    "                        new_neighbors.append((x-1,y))\n",
    "                        counter+=1\n",
    "\n",
    "                if lattice[x+1,y]==0:\n",
    "                    rand = np.random.random()\n",
    "                    if rand<p:\n",
    "                        lattice[x+1,y]=1\n",
    "                        new_neighbors.append((x+1,y))\n",
    "                        counter+=1\n",
    "\n",
    "                if lattice[x,y-1]==0:\n",
    "                    rand = np.random.random()\n",
    "                    if rand<p:\n",
    "                        lattice[x,y-1]=1\n",
    "                        new_neighbors.append((x,y-1))\n",
    "                        counter+=1\n",
    "                        \n",
    "                if lattice[x,y+1]==0:\n",
    "                    rand = np.random.random()\n",
    "                    if rand<p:\n",
    "                        lattice[x,y+1]=1\n",
    "                        new_neighbors.append((x,y+1))\n",
    "                        counter+=1\n",
    "                  \n",
    "                neighbors += new_neighbors\n",
    "                neighbors = list(set(neighbors))\n",
    "            else:\n",
    "                print('the boudary is reached')\n",
    "                flag = 1\n",
    "                return lattice, flag \n",
    "            \n",
    "    return lattice, flag"
   ]
  },
  {
   "cell_type": "code",
   "execution_count": null,
   "metadata": {},
   "outputs": [],
   "source": []
  },
  {
   "cell_type": "code",
   "execution_count": null,
   "metadata": {},
   "outputs": [],
   "source": []
  },
  {
   "cell_type": "code",
   "execution_count": null,
   "metadata": {},
   "outputs": [],
   "source": []
  },
  {
   "cell_type": "code",
   "execution_count": null,
   "metadata": {},
   "outputs": [],
   "source": []
  },
  {
   "cell_type": "code",
   "execution_count": null,
   "metadata": {},
   "outputs": [],
   "source": []
  },
  {
   "cell_type": "code",
   "execution_count": null,
   "metadata": {},
   "outputs": [],
   "source": []
  },
  {
   "cell_type": "code",
   "execution_count": null,
   "metadata": {},
   "outputs": [],
   "source": []
  },
  {
   "cell_type": "code",
   "execution_count": null,
   "metadata": {},
   "outputs": [],
   "source": []
  },
  {
   "cell_type": "code",
   "execution_count": null,
   "metadata": {},
   "outputs": [],
   "source": []
  }
 ],
 "metadata": {
  "kernelspec": {
   "display_name": "Python 3",
   "language": "python",
   "name": "python3"
  },
  "language_info": {
   "codemirror_mode": {
    "name": "ipython",
    "version": 3
   },
   "file_extension": ".py",
   "mimetype": "text/x-python",
   "name": "python",
   "nbconvert_exporter": "python",
   "pygments_lexer": "ipython3",
   "version": "3.7.3"
  }
 },
 "nbformat": 4,
 "nbformat_minor": 2
}
