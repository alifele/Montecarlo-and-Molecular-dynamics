{
 "cells": [
  {
   "cell_type": "code",
   "execution_count": 1,
   "metadata": {},
   "outputs": [],
   "source": [
    "import numpy as np\n",
    "import matplotlib.pyplot as plt"
   ]
  },
  {
   "cell_type": "code",
   "execution_count": 2,
   "metadata": {},
   "outputs": [],
   "source": [
    "def near_cells_F(i,j):\n",
    "    \n",
    "    near_cells=[(i,j-1),(i,j+1),(i-1,j),(i+1,j)]\n",
    "    return near_cells"
   ]
  },
  {
   "cell_type": "code",
   "execution_count": 7,
   "metadata": {},
   "outputs": [
    {
     "data": {
      "text/plain": [
       "<matplotlib.image.AxesImage at 0x7f5d8268bfd0>"
      ]
     },
     "execution_count": 7,
     "metadata": {},
     "output_type": "execute_result"
    },
    {
     "data": {
      "image/png": "[encoded data removed]",
      "text/plain": [
       "<Figure size 432x288 with 1 Axes>"
      ]
     },
     "metadata": {
      "needs_background": "light"
     },
     "output_type": "display_data"
    }
   ],
   "source": [
    "L = 100\n",
    "lattice = np.zeros((L,L))\n",
    "lattice[int(L/2),int(L/2)] = 1\n",
    "plt.imshow(lattice)"
   ]
  },
  {
   "cell_type": "code",
   "execution_count": 11,
   "metadata": {},
   "outputs": [
    {
     "data": {
      "text/plain": [
       "<matplotlib.image.AxesImage at 0x7f5d82501240>"
      ]
     },
     "execution_count": 11,
     "metadata": {},
     "output_type": "execute_result"
    },
    {
     "data": {
      "image/png": "[encoded data removed]",
      "text/plain": [
       "<Figure size 432x288 with 1 Axes>"
      ]
     },
     "metadata": {
      "needs_background": "light"
     },
     "output_type": "display_data"
    }
   ],
   "source": [
    "p=0.6\n",
    "nears=near_cells_F(50,50)\n",
    "Layer = 50\n",
    "for layer in range(Layer):\n",
    "    near_cells = nears\n",
    "    nears=[]\n",
    "    for cell in near_cells:\n",
    "        rand = np.random.random()\n",
    "        if lattice[cell]==0:\n",
    "            if rand <p:\n",
    "                lattice[cell] = 1\n",
    "                nears+=(near_cells_F(cell[0], cell[1]))\n",
    "                \n",
    "plt.imshow(lattice)"
   ]
  },
  {
   "cell_type": "code",
   "execution_count": 73,
   "metadata": {},
   "outputs": [],
   "source": [
    "def run_Experiment(Layer,p):\n",
    "    L = 100\n",
    "    lattice = np.zeros((L,L))\n",
    "    lattice[int(L/2),int(L/2)] = 1\n",
    "    #plt.imshow(lattice)\n",
    "    \n",
    "    #p=0.6\n",
    "    nears=near_cells_F(50,50)\n",
    "    #Layer = 20\n",
    "    for layer in range(Layer):\n",
    "        near_cells = nears\n",
    "        nears=[]\n",
    "        for cell in near_cells:\n",
    "            rand = np.random.random()\n",
    "            if lattice[cell]==0:\n",
    "                if rand <p:\n",
    "                    lattice[cell] = 1\n",
    "                    if cell[0]>0 and cell[1]>0 and cell[0]<L-1 and cell[1]<L-1:\n",
    "                        nears+=(near_cells_F(cell[0], cell[1]))\n",
    "                    else :\n",
    "                        break\n",
    "\n",
    "    plt.imshow(lattice)"
   ]
  },
  {
   "cell_type": "code",
   "execution_count": 132,
   "metadata": {},
   "outputs": [
    {
     "data": {
      "image/png": "[encoded data removed]",
      "text/plain": [
       "<Figure size 432x288 with 1 Axes>"
      ]
     },
     "metadata": {
      "needs_background": "light"
     },
     "output_type": "display_data"
    }
   ],
   "source": [
    "run_Experiment(1200,0.53)"
   ]
  },
  {
   "cell_type": "code",
   "execution_count": null,
   "metadata": {},
   "outputs": [],
   "source": []
  },
  {
   "cell_type": "code",
   "execution_count": null,
   "metadata": {},
   "outputs": [],
   "source": []
  },
  {
   "cell_type": "code",
   "execution_count": null,
   "metadata": {},
   "outputs": [],
   "source": []
  }
 ],
 "metadata": {
  "kernelspec": {
   "display_name": "Python 3",
   "language": "python",
   "name": "python3"
  },
  "language_info": {
   "codemirror_mode": {
    "name": "ipython",
    "version": 3
   },
   "file_extension": ".py",
   "mimetype": "text/x-python",
   "name": "python",
   "nbconvert_exporter": "python",
   "pygments_lexer": "ipython3",
   "version": "3.7.3"
  }
 },
 "nbformat": 4,
 "nbformat_minor": 2
}
