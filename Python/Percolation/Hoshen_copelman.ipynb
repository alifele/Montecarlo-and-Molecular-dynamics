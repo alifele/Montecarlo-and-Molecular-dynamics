{
 "cells": [
  {
   "cell_type": "code",
   "execution_count": 1,
   "metadata": {
    "colab": {},
    "colab_type": "code",
    "id": "jhRfwQCaHN7b"
   },
   "outputs": [],
   "source": [
    "import numpy as np\n",
    "import matplotlib.pyplot as plt"
   ]
  },
  {
   "cell_type": "code",
   "execution_count": null,
   "metadata": {
    "colab": {},
    "colab_type": "code",
    "id": "cREXJTnfHTpD"
   },
   "outputs": [],
   "source": []
  },
  {
   "cell_type": "markdown",
   "metadata": {
    "colab_type": "text",
    "id": "ZBR9qdEpM5bp"
   },
   "source": [
    "lattice size = L * L\n",
    "\n",
    "but the size of the lattice must be (L+2) * (L+2)\n",
    "\n",
    "and the index    \n",
    "\n",
    "j -> 1:L+1\n",
    "\n",
    "i -> 1:L+1\n",
    "\n"
   ]
  },
  {
   "cell_type": "code",
   "execution_count": null,
   "metadata": {
    "colab": {
     "base_uri": "https://localhost:8080/",
     "height": 286
    },
    "colab_type": "code",
    "id": "WoADt3YMMLN3",
    "outputId": "8be68bcf-7826-4b14-e359-6366de1b46f7"
   },
   "outputs": [],
   "source": []
  },
  {
   "cell_type": "code",
   "execution_count": null,
   "metadata": {
    "colab": {},
    "colab_type": "code",
    "id": "aOuNLfo2MQT9"
   },
   "outputs": [],
   "source": []
  },
  {
   "cell_type": "code",
   "execution_count": null,
   "metadata": {
    "colab": {
     "base_uri": "https://localhost:8080/",
     "height": 286
    },
    "colab_type": "code",
    "id": "vop_PRSDMSl-",
    "outputId": "86f5d792-85f2-480a-d2a2-4eb599b5290e"
   },
   "outputs": [],
   "source": []
  },
  {
   "cell_type": "code",
   "execution_count": null,
   "metadata": {
    "colab": {
     "base_uri": "https://localhost:8080/",
     "height": 197
    },
    "colab_type": "code",
    "id": "_nbojgg9P3o6",
    "outputId": "b9de6a9f-5d52-42f9-8742-816bcac6e82d"
   },
   "outputs": [],
   "source": []
  },
  {
   "cell_type": "code",
   "execution_count": null,
   "metadata": {
    "colab": {
     "base_uri": "https://localhost:8080/",
     "height": 51
    },
    "colab_type": "code",
    "id": "DYngaR8jVP3T",
    "outputId": "59fdddd0-00a5-4afe-c044-9aac4d1697ec"
   },
   "outputs": [],
   "source": []
  },
  {
   "cell_type": "code",
   "execution_count": null,
   "metadata": {
    "colab": {},
    "colab_type": "code",
    "id": "NwvJ3xgtVTsy"
   },
   "outputs": [],
   "source": []
  },
  {
   "cell_type": "code",
   "execution_count": null,
   "metadata": {},
   "outputs": [],
   "source": []
  },
  {
   "cell_type": "code",
   "execution_count": null,
   "metadata": {},
   "outputs": [],
   "source": []
  },
  {
   "cell_type": "code",
   "execution_count": 2,
   "metadata": {},
   "outputs": [
    {
     "data": {
      "image/png": "[encoded data removed]",
      "text/plain": [
       "<Figure size 432x288 with 1 Axes>"
      ]
     },
     "metadata": {
      "needs_background": "light"
     },
     "output_type": "display_data"
    }
   ],
   "source": [
    "L = 20\n",
    "lattice = np.zeros((L+2,L+2))\n",
    "\n",
    "lattice[:,0]=1\n",
    "lattice[0,:]=-2\n",
    "lattice[-1]=-2\n",
    "plt.imshow(lattice)\n",
    "lattice\n",
    "\n",
    "p=0.4\n",
    "for j in range(1,L+1):\n",
    "    for i in range(1,L+1):\n",
    "        rand = np.random.random()\n",
    "        if rand<p :\n",
    "            lattice[i,j]=1\n",
    "\n",
    "        \n",
    "plt.imshow(lattice[1:L+1,1:L+1])\n",
    "lattice\n",
    "\n",
    "\n",
    "upper_range=1000\n",
    "cluster = [0 for i in range(upper_range)]\n",
    "color = [i for i in range(0,upper_range)]\n",
    "size = [0 for i in range(upper_range)]\n",
    "cluster[0]=color[0]\n",
    "\n",
    "color_matrix = -np.ones((L+2,L+2),dtype='int')\n",
    "color_matrix[:,0]=color[0]\n",
    "\n",
    "\n",
    "#plt.imshow(color_matrix)\n",
    "color_matrix\n",
    "\n",
    "\n",
    "color_counter=0\n",
    "for i in range(1,L+1):\n",
    "    for j in range(1,L+1):\n",
    "        \n",
    "        if lattice[i,j]==1:\n",
    "             \n",
    "            if lattice[i-1,j]==lattice[i,j-1]==1:\n",
    "                if color_matrix[i-1,j]==color_matrix[i,j-1]:\n",
    "                    color_matrix[i,j]=color_matrix[i,j-1]\n",
    "                    size[color_matrix[i,j]]+=1\n",
    "                else:\n",
    "                    color_matrix[i,j]=color_matrix[i,j-1] \n",
    "                    size[color_matrix[i,j]]+=1\n",
    "                    cluster[color_matrix[i-1,j]]=color_matrix[i,j]\n",
    "                \n",
    "            elif lattice[i-1,j]==1:\n",
    "                color_matrix[i,j]=color_matrix[i-1,j]\n",
    "                size[color_matrix[i,j]]+=1\n",
    "                \n",
    "            elif lattice[i,j-1]==1:\n",
    "                color_matrix[i,j]=color_matrix[i,j-1]\n",
    "                size[color_matrix[i,j]]+=1\n",
    "                \n",
    "            else:\n",
    "                color_counter+=1\n",
    "                color_matrix[i,j]=color[color_counter]\n",
    "                cluster[color_matrix[i,j]]=color_matrix[i,j]\n",
    "                size[color_matrix[i,j]]+=1\n",
    "       \n",
    "                \n",
    "#lattice                \n"
   ]
  },
  {
   "cell_type": "code",
   "execution_count": 3,
   "metadata": {},
   "outputs": [
    {
     "data": {
      "text/plain": [
       "array([[ 0, -1, -1, -1, -1, -1, -1, -1, -1, -1, -1, -1, -1, -1, -1, -1,\n",
       "        -1, -1, -1, -1, -1, -1],\n",
       "       [ 0, -1, -1, -1,  1,  1,  1, -1,  2,  2, -1, -1, -1,  3, -1,  4,\n",
       "        -1,  5,  5,  5,  5, -1],\n",
       "       [ 0,  0, -1,  6, -1,  1, -1, -1,  2, -1,  7,  7, -1, -1, -1, -1,\n",
       "         8, -1, -1, -1,  5, -1],\n",
       "       [ 0,  0, -1,  6, -1, -1, -1,  9, -1, 10, 10, 10, 10, 10, -1, -1,\n",
       "         8, -1, -1, -1, -1, -1],\n",
       "       [ 0, -1, -1,  6, -1, -1, -1,  9, -1, -1, -1, 10, -1, -1, -1, 11,\n",
       "        -1, -1, -1, 12, 12, -1],\n",
       "       [ 0, -1, -1, -1, -1, 13, -1, -1, -1, -1, -1, -1, 14, 14, -1, 11,\n",
       "        -1, -1, 15, -1, -1, -1],\n",
       "       [ 0, -1, -1, -1, -1, -1, 16, -1, 17, -1, -1, -1, -1, -1, 18, -1,\n",
       "        -1, -1, 15, -1, 19, -1],\n",
       "       [ 0, -1, -1, 20, -1, 21, -1, -1, -1, 22, -1, -1, 23, -1, -1, -1,\n",
       "        -1, -1, -1, 24, -1, -1],\n",
       "       [ 0, -1, -1, -1, -1, 21, -1, -1, 25, -1, 26, 26, 26, -1, 27, 27,\n",
       "        27, -1, 28, 28, 28, -1],\n",
       "       [ 0,  0, -1, 29, -1, -1, -1, -1, -1, 30, 30, 30, 30, 30, 30, 30,\n",
       "        30, -1, 28, 28, -1, -1],\n",
       "       [ 0,  0, -1, 29, -1, -1, 31, 31, -1, 30, 30, 30, 30, -1, -1, -1,\n",
       "        30, -1, -1, 28, 28, -1],\n",
       "       [ 0, -1, -1, -1, -1, -1, 31, 31, -1, 30, 30, -1, -1, -1, 32, -1,\n",
       "        30, -1, 33, -1, 28, -1],\n",
       "       [ 0, -1, 34, -1, -1, 35, -1, -1, -1, 30, 30, -1, -1, 36, -1, 37,\n",
       "        37, -1, -1, -1, -1, -1],\n",
       "       [ 0,  0, -1, 38, -1, -1, -1, -1, -1, -1, -1, -1, 39, 39, -1, -1,\n",
       "        37, 37, -1, 40, -1, -1],\n",
       "       [ 0, -1, -1, -1, 41, -1, 42, 42, -1, -1, -1, 43, -1, 39, -1, 44,\n",
       "        44, 44, 44, 44, 44, -1],\n",
       "       [ 0, -1, 45, 45, -1, -1, -1, 42, -1, -1, -1, -1, -1, -1, -1, -1,\n",
       "        44, 44, -1, -1, -1, -1],\n",
       "       [ 0,  0,  0,  0, -1, -1, 46, 46, -1, -1, -1, -1, 47, -1, -1, -1,\n",
       "        -1, -1, 48, -1, -1, -1],\n",
       "       [ 0,  0,  0, -1, 49, 49, -1, -1, -1, 50, -1, 51, -1, -1, -1, -1,\n",
       "        -1, 52, -1, 53, -1, -1],\n",
       "       [ 0, -1,  0,  0,  0,  0,  0,  0,  0,  0, -1, -1, -1, -1, -1, -1,\n",
       "        54, 54, 54, -1, 55, -1],\n",
       "       [ 0,  0, -1,  0, -1,  0,  0,  0, -1,  0,  0,  0, -1, -1, 56, -1,\n",
       "        -1, -1, 54, 54, -1, -1],\n",
       "       [ 0, -1, -1,  0,  0,  0, -1, -1, 57, 57, 57, 57, -1, -1, -1, -1,\n",
       "        -1, -1, -1, -1, -1, -1],\n",
       "       [ 0, -1, -1, -1, -1, -1, -1, -1, -1, -1, -1, -1, -1, -1, -1, -1,\n",
       "        -1, -1, -1, -1, -1, -1]])"
      ]
     },
     "execution_count": 3,
     "metadata": {},
     "output_type": "execute_result"
    },
    {
     "data": {
      "image/png": "[encoded data removed]",
      "text/plain": [
       "<Figure size 432x288 with 1 Axes>"
      ]
     },
     "metadata": {
      "needs_background": "light"
     },
     "output_type": "display_data"
    }
   ],
   "source": [
    "plt.imshow(color_matrix[1:L+1,1:L+1])\n",
    "color_matrix"
   ]
  },
  {
   "cell_type": "code",
   "execution_count": null,
   "metadata": {},
   "outputs": [],
   "source": []
  },
  {
   "cell_type": "code",
   "execution_count": null,
   "metadata": {},
   "outputs": [],
   "source": []
  },
  {
   "cell_type": "code",
   "execution_count": 4,
   "metadata": {},
   "outputs": [],
   "source": [
    "def color_of_cluster(cluster_number, cluster):\n",
    "    if cluster[cluster_number] == cluster_number:\n",
    "        #print('here is the answer:{}'.format(cluster_number))\n",
    "        return cluster_number\n",
    "    else:\n",
    "        #print(cluster[cluster_number])\n",
    "        a = color_of_cluster(cluster[cluster_number],cluster)\n",
    "        return a\n",
    "    "
   ]
  },
  {
   "cell_type": "code",
   "execution_count": 5,
   "metadata": {},
   "outputs": [],
   "source": [
    "pre_color_matrix=np.zeros(color_matrix.shape)\n",
    "while not (pre_color_matrix == color_matrix).all():\n",
    "    pre_color_matrix= 1*color_matrix\n",
    "    for i in range(L+1,-1,-1):\n",
    "        for j in range(L+1,-1,-1):\n",
    "            if color_matrix[i,j]!=-1:\n",
    "                color_matrix[i,j]=color_of_cluster(cluster[color_matrix[i,j]],cluster)\n",
    "          \n",
    "\n",
    "\n"
   ]
  },
  {
   "cell_type": "code",
   "execution_count": 6,
   "metadata": {},
   "outputs": [
    {
     "data": {
      "text/plain": [
       "array([[57, -1, -1, -1, -1, -1, -1, -1, -1, -1, -1, -1, -1, -1, -1, -1,\n",
       "        -1, -1, -1, -1, -1, -1],\n",
       "       [57, -1, -1, -1,  1,  1,  1, -1,  2,  2, -1, -1, -1,  3, -1,  4,\n",
       "        -1,  5,  5,  5,  5, -1],\n",
       "       [57, 57, -1,  6, -1,  1, -1, -1,  2, -1, 10, 10, -1, -1, -1, -1,\n",
       "         8, -1, -1, -1,  5, -1],\n",
       "       [57, 57, -1,  6, -1, -1, -1,  9, -1, 10, 10, 10, 10, 10, -1, -1,\n",
       "         8, -1, -1, -1, -1, -1],\n",
       "       [57, -1, -1,  6, -1, -1, -1,  9, -1, -1, -1, 10, -1, -1, -1, 11,\n",
       "        -1, -1, -1, 12, 12, -1],\n",
       "       [57, -1, -1, -1, -1, 13, -1, -1, -1, -1, -1, -1, 14, 14, -1, 11,\n",
       "        -1, -1, 15, -1, -1, -1],\n",
       "       [57, -1, -1, -1, -1, -1, 16, -1, 17, -1, -1, -1, -1, -1, 18, -1,\n",
       "        -1, -1, 15, -1, 19, -1],\n",
       "       [57, -1, -1, 20, -1, 21, -1, -1, -1, 22, -1, -1, 44, -1, -1, -1,\n",
       "        -1, -1, -1, 28, -1, -1],\n",
       "       [57, -1, -1, -1, -1, 21, -1, -1, 25, -1, 44, 44, 44, -1, 44, 44,\n",
       "        44, -1, 28, 28, 28, -1],\n",
       "       [57, 57, -1, 29, -1, -1, -1, -1, -1, 44, 44, 44, 44, 44, 44, 44,\n",
       "        44, -1, 28, 28, -1, -1],\n",
       "       [57, 57, -1, 29, -1, -1, 31, 31, -1, 44, 44, 44, 44, -1, -1, -1,\n",
       "        44, -1, -1, 28, 28, -1],\n",
       "       [57, -1, -1, -1, -1, -1, 31, 31, -1, 44, 44, -1, -1, -1, 32, -1,\n",
       "        44, -1, 33, -1, 28, -1],\n",
       "       [57, -1, 34, -1, -1, 35, -1, -1, -1, 44, 44, -1, -1, 39, -1, 44,\n",
       "        44, -1, -1, -1, -1, -1],\n",
       "       [57, 57, -1, 38, -1, -1, -1, -1, -1, -1, -1, -1, 39, 39, -1, -1,\n",
       "        44, 44, -1, 44, -1, -1],\n",
       "       [57, -1, -1, -1, 41, -1, 46, 46, -1, -1, -1, 43, -1, 39, -1, 44,\n",
       "        44, 44, 44, 44, 44, -1],\n",
       "       [57, -1, 57, 57, -1, -1, -1, 46, -1, -1, -1, -1, -1, -1, -1, -1,\n",
       "        44, 44, -1, -1, -1, -1],\n",
       "       [57, 57, 57, 57, -1, -1, 46, 46, -1, -1, -1, -1, 47, -1, -1, -1,\n",
       "        -1, -1, 48, -1, -1, -1],\n",
       "       [57, 57, 57, -1, 57, 57, -1, -1, -1, 57, -1, 51, -1, -1, -1, -1,\n",
       "        -1, 54, -1, 53, -1, -1],\n",
       "       [57, -1, 57, 57, 57, 57, 57, 57, 57, 57, -1, -1, -1, -1, -1, -1,\n",
       "        54, 54, 54, -1, 55, -1],\n",
       "       [57, 57, -1, 57, -1, 57, 57, 57, -1, 57, 57, 57, -1, -1, 56, -1,\n",
       "        -1, -1, 54, 54, -1, -1],\n",
       "       [57, -1, -1, 57, 57, 57, -1, -1, 57, 57, 57, 57, -1, -1, -1, -1,\n",
       "        -1, -1, -1, -1, -1, -1],\n",
       "       [57, -1, -1, -1, -1, -1, -1, -1, -1, -1, -1, -1, -1, -1, -1, -1,\n",
       "        -1, -1, -1, -1, -1, -1]])"
      ]
     },
     "execution_count": 6,
     "metadata": {},
     "output_type": "execute_result"
    },
    {
     "data": {
      "image/png": "[encoded data removed]",
      "text/plain": [
       "<Figure size 432x288 with 1 Axes>"
      ]
     },
     "metadata": {
      "needs_background": "light"
     },
     "output_type": "display_data"
    }
   ],
   "source": [
    "plt.imshow(color_matrix[1:L+1,1:L+1], cmap=plt.get_cmap('jet'))\n",
    "#plt.imshow(color_matrix[1:L+1,1:L+1])\n",
    "color_matrix"
   ]
  },
  {
   "cell_type": "markdown",
   "metadata": {},
   "source": [
    "# Numeric analysis\n",
    "perivous sections was somehow for visualization.\n",
    "but for our simulatoin we want something more than a few colorful plots.\n",
    "\n",
    "to make a numeric analysis we need to make the code more clear and systematic"
   ]
  },
  {
   "cell_type": "code",
   "execution_count": 820,
   "metadata": {},
   "outputs": [],
   "source": [
    "def Run_Experiment(L,p):\n",
    "    L = L\n",
    "    lattice = np.zeros((L+2,L+2))\n",
    "\n",
    "    lattice[:,0]=1\n",
    "    lattice[0,:]=-2\n",
    "    lattice[-1]=-2\n",
    "    #plt.imshow(lattice)\n",
    "    lattice\n",
    "\n",
    "    p=p\n",
    "    for j in range(1,L+1):\n",
    "        for i in range(1,L+1):\n",
    "            rand = np.random.random()\n",
    "            if rand<p :\n",
    "                lattice[i,j]=1\n",
    "\n",
    "\n",
    "    #plt.imshow(lattice[1:L+1,1:L+1])\n",
    "    lattice\n",
    "\n",
    "\n",
    "    upper_range=100000\n",
    "    cluster = [-12 for i in range(upper_range)]\n",
    "    color = [i for i in range(0,upper_range)]\n",
    "    size = [0 for i in range(upper_range)]\n",
    "    cluster[0]=color[0]\n",
    "\n",
    "    color_matrix = -np.ones((L+2,L+2),dtype='int')\n",
    "    color_matrix[:,0]=color[0]\n",
    "\n",
    "\n",
    "    #plt.imshow(color_matrix)\n",
    "    color_matrix\n",
    "\n",
    "\n",
    "    color_counter=0\n",
    "    for j in range(1,L+1):\n",
    "        for i in range(1,L+1):\n",
    "\n",
    "            if lattice[i,j]==1:\n",
    "\n",
    "                if lattice[i-1,j]==lattice[i,j-1]==1:\n",
    "                    if color_matrix[i-1,j]==color_matrix[i,j-1]:\n",
    "                        color_matrix[i,j]=cluster[color_matrix[i,j-1]]\n",
    "                        size[color_matrix[i,j]]+=1\n",
    "                        cluster[color_matrix[i,j]]=color_matrix[i-1,j]\n",
    "                    else:\n",
    "                        color_matrix[i,j]=cluster[color_matrix[i,j-1]] \n",
    "                        cluster[color_matrix[i,j]]= cluster[color_matrix[i,j-1]]\n",
    "                        size[color_matrix[i,j]]+=1\n",
    "                        cluster[color_matrix[i-1,j]]=color_matrix[i,j]\n",
    "                        color_matrix[i-1,j]=color_matrix[i,j]\n",
    "                        #color[color_matrix[i-1,j]]=color[color_matrix[i,j]]\n",
    "\n",
    "                elif lattice[i-1,j]==1:\n",
    "                    cluster[color_matrix[i,j]]=cluster[color_matrix[i-1,j]]\n",
    "                    color_matrix[i,j]=cluster[color_matrix[i-1,j]]\n",
    "                    size[color_matrix[i,j]]+=1\n",
    "\n",
    "                elif lattice[i,j-1]==1:\n",
    "                    cluster[color_matrix[i,j]]=cluster[color_matrix[i,j-1]]\n",
    "                    color_matrix[i,j]=cluster[color_matrix[i,j-1]]\n",
    "                    size[color_matrix[i,j]]+=1\n",
    "\n",
    "                else:\n",
    "                    color_counter+=1\n",
    "                    color_matrix[i,j]=color[color_counter]\n",
    "                    cluster[color_matrix[i,j]]=color_matrix[i,j]\n",
    "                    size[color_matrix[i,j]]+=1\n",
    "            #print(color_matrix)\n",
    "            #print('-------------------------------------------//n------------------------------------------')\n",
    "\n",
    "    return color_matrix, lattice,cluster             \n",
    "\n",
    "    "
   ]
  },
  {
   "cell_type": "code",
   "execution_count": 839,
   "metadata": {},
   "outputs": [],
   "source": [
    "def percolation_check(cluster, color_matrix):\n",
    "    flag= 0\n",
    "    for i in range(int(color_matrix.shape[1])):\n",
    "        if color_matrix[i,-2] != -1:  \n",
    "            if color_of_cluster(color_matrix[i,-2],cluster) == color_of_cluster(0,cluster):\n",
    "                flag =1\n",
    "\n",
    "    return flag"
   ]
  },
  {
   "cell_type": "code",
   "execution_count": 715,
   "metadata": {},
   "outputs": [],
   "source": [
    "def percolation_check(cluster, color_matrix):\n",
    "    flag=0\n",
    "    loop_counter = 0\n",
    "    for i in color_matrix[:,-2]:\n",
    "        loop_counter+=1\n",
    "        if i != -1:\n",
    "            a = cluster[i]\n",
    "            for j in range(100):\n",
    "                #print(a)\n",
    "                if a==cluster[0]:\n",
    "                    print('percolation')\n",
    "                    flag=1\n",
    "                    break\n",
    "                else:\n",
    "                    a = cluster[a]\n",
    "\n",
    "            if flag==1:\n",
    "                break\n",
    "\n",
    "        if loop_counter== color_matrix[:,-2].shape[0]:\n",
    "            print('no percolation')\n",
    "        "
   ]
  },
  {
   "cell_type": "code",
   "execution_count": 763,
   "metadata": {},
   "outputs": [
    {
     "data": {
      "text/plain": [
       "array([[ 0, -1, -1, -1, -1, -1, -1, -1, -1, -1, -1, -1],\n",
       "       [ 0, -1,  1,  1,  1,  1,  1,  1,  1,  1,  1, -1],\n",
       "       [ 0, -1,  0,  0,  0,  0,  0,  0,  0, -1, -1, -1],\n",
       "       [ 0,  0,  0,  0,  0,  0,  0,  0,  0,  0, -1, -1],\n",
       "       [ 0, -1, -1, -1,  0,  0, -1, -1, -1, -1,  4, -1],\n",
       "       [ 0, -1, -1, -1,  0, -1,  3, -1,  4,  4,  4, -1],\n",
       "       [ 0,  0, -1, -1,  0, -1, -1, -1, -1, -1,  4, -1],\n",
       "       [ 0,  0, -1,  5, -1, -1,  8,  8,  6, -1,  9, -1],\n",
       "       [ 0, -1,  0, -1,  8,  8,  8,  8, -1,  8,  9, -1],\n",
       "       [ 0,  0,  0,  0, -1, -1, -1, 10, 10, 10, -1, -1],\n",
       "       [ 0, -1,  0,  0,  0, -1, 10, 10, 10, 10, -1, -1],\n",
       "       [ 0, -1, -1, -1, -1, -1, -1, -1, -1, -1, -1, -1]])"
      ]
     },
     "execution_count": 763,
     "metadata": {},
     "output_type": "execute_result"
    }
   ],
   "source": [
    "color_matrix"
   ]
  },
  {
   "cell_type": "code",
   "execution_count": 748,
   "metadata": {},
   "outputs": [
    {
     "data": {
      "text/plain": [
       "5"
      ]
     },
     "execution_count": 748,
     "metadata": {},
     "output_type": "execute_result"
    }
   ],
   "source": [
    "cluster[0]"
   ]
  },
  {
   "cell_type": "code",
   "execution_count": 778,
   "metadata": {},
   "outputs": [
    {
     "data": {
      "text/plain": [
       "array([[-2., -2., -2., -2., -2., -2., -2., -2., -2., -2., -2., -2.],\n",
       "       [ 1.,  1.,  1.,  1.,  0.,  1.,  1.,  1.,  1.,  0.,  1.,  0.],\n",
       "       [ 1.,  1.,  1.,  1.,  1.,  1.,  1.,  1.,  1.,  1.,  0.,  0.],\n",
       "       [ 1.,  1.,  1.,  1.,  0.,  1.,  1.,  1.,  1.,  0.,  1.,  0.],\n",
       "       [ 1.,  1.,  1.,  1.,  1.,  1.,  0.,  1.,  1.,  0.,  1.,  0.],\n",
       "       [ 1.,  0.,  0.,  0.,  1.,  0.,  0.,  0.,  1.,  1.,  1.,  0.],\n",
       "       [ 1.,  1.,  1.,  1.,  0.,  1.,  1.,  1.,  1.,  0.,  1.,  0.],\n",
       "       [ 1.,  1.,  1.,  0.,  1.,  1.,  0.,  1.,  0.,  1.,  1.,  0.],\n",
       "       [ 1.,  1.,  1.,  1.,  1.,  1.,  1.,  1.,  1.,  1.,  1.,  0.],\n",
       "       [ 1.,  1.,  1.,  1.,  0.,  0.,  1.,  0.,  1.,  1.,  0.,  0.],\n",
       "       [ 1.,  1.,  1.,  1.,  1.,  1.,  1.,  1.,  0.,  1.,  0.,  0.],\n",
       "       [-2., -2., -2., -2., -2., -2., -2., -2., -2., -2., -2., -2.]])"
      ]
     },
     "execution_count": 778,
     "metadata": {},
     "output_type": "execute_result"
    }
   ],
   "source": [
    "lattice"
   ]
  },
  {
   "cell_type": "code",
   "execution_count": 890,
   "metadata": {},
   "outputs": [
    {
     "data": {
      "text/plain": [
       "0"
      ]
     },
     "execution_count": 890,
     "metadata": {},
     "output_type": "execute_result"
    },
    {
     "data": {
      "image/png": "[encoded data removed]",
      "text/plain": [
       "<Figure size 432x288 with 1 Axes>"
      ]
     },
     "metadata": {
      "needs_background": "light"
     },
     "output_type": "display_data"
    }
   ],
   "source": [
    "L=100\n",
    "p=0.2\n",
    "color_matrix, lattice,cluster= Run_Experiment(L,p)\n",
    "\n",
    "plt.imshow(color_matrix[1:L+1,1:L+1])\n",
    "#print(color_matrix.shape[1])\n",
    "percolation_check(cluster, color_matrix)"
   ]
  },
  {
   "cell_type": "code",
   "execution_count": null,
   "metadata": {},
   "outputs": [],
   "source": []
  },
  {
   "cell_type": "code",
   "execution_count": 838,
   "metadata": {},
   "outputs": [
    {
     "data": {
      "text/plain": [
       "1"
      ]
     },
     "execution_count": 838,
     "metadata": {},
     "output_type": "execute_result"
    }
   ],
   "source": []
  },
  {
   "cell_type": "code",
   "execution_count": 736,
   "metadata": {
    "scrolled": true
   },
   "outputs": [
    {
     "data": {
      "text/plain": [
       "<matplotlib.image.AxesImage at 0x7feb24c719b0>"
      ]
     },
     "execution_count": 736,
     "metadata": {},
     "output_type": "execute_result"
    },
    {
     "data": {
      "image/png": "[encoded data removed]",
      "text/plain": [
       "<Figure size 432x288 with 1 Axes>"
      ]
     },
     "metadata": {
      "needs_background": "light"
     },
     "output_type": "display_data"
    }
   ],
   "source": [
    "plt.imshow(lattice[1:L+1,1:L+1])"
   ]
  },
  {
   "cell_type": "code",
   "execution_count": 598,
   "metadata": {},
   "outputs": [
    {
     "name": "stdout",
     "output_type": "stream",
     "text": [
      "percolation\n"
     ]
    }
   ],
   "source": []
  },
  {
   "cell_type": "code",
   "execution_count": 499,
   "metadata": {},
   "outputs": [
    {
     "data": {
      "text/plain": [
       "(17, 17)"
      ]
     },
     "execution_count": 499,
     "metadata": {},
     "output_type": "execute_result"
    }
   ],
   "source": [
    "loop_counter, color_matrix[:,-2].shape[0]"
   ]
  },
  {
   "cell_type": "code",
   "execution_count": 445,
   "metadata": {},
   "outputs": [
    {
     "name": "stdout",
     "output_type": "stream",
     "text": [
      "there is no percolation\n"
     ]
    }
   ],
   "source": [
    "flag = 0\n",
    "big_flag = 0\n",
    "loop_counter=0\n",
    "for i in color_matrix[:,-2]:\n",
    "    flag=0\n",
    "    loop_counter+=1\n",
    "    if i != -1:\n",
    "        #a = cluster[i]\n",
    "        j=0\n",
    "        \n",
    "        #print(i)\n",
    "        while cluster[i] != cluster[0] :\n",
    "            #print(cluster[i], cluster[0])\n",
    "            j+=1\n",
    "            #print(i)\n",
    "            if j ==100:\n",
    "                flag=1\n",
    "                break\n",
    "            else:    \n",
    "                a = cluster[a]\n",
    "                continue\n",
    "                \n",
    "                \n",
    "        if flag==0:  \n",
    "            #print(i)\n",
    "            print('there is percolation in the lattice')\n",
    "            big_flag=1\n",
    "            break\n",
    "            \n",
    "    if loop_counter == color_matrix[:,-2].shape[0]:\n",
    "        #print(i)\n",
    "        print('there is no percolation')\n",
    "        break \n",
    "            \n",
    "    \n",
    "        "
   ]
  },
  {
   "cell_type": "code",
   "execution_count": null,
   "metadata": {},
   "outputs": [],
   "source": []
  },
  {
   "cell_type": "code",
   "execution_count": null,
   "metadata": {},
   "outputs": [],
   "source": []
  },
  {
   "cell_type": "code",
   "execution_count": 332,
   "metadata": {},
   "outputs": [
    {
     "data": {
      "text/plain": [
       "(12,)"
      ]
     },
     "execution_count": 332,
     "metadata": {},
     "output_type": "execute_result"
    }
   ],
   "source": [
    "color_matrix[:,-2].shape"
   ]
  },
  {
   "cell_type": "code",
   "execution_count": null,
   "metadata": {},
   "outputs": [],
   "source": []
  },
  {
   "cell_type": "code",
   "execution_count": null,
   "metadata": {},
   "outputs": [],
   "source": []
  },
  {
   "cell_type": "code",
   "execution_count": null,
   "metadata": {},
   "outputs": [],
   "source": []
  },
  {
   "cell_type": "code",
   "execution_count": 269,
   "metadata": {},
   "outputs": [
    {
     "data": {
      "text/plain": [
       "9"
      ]
     },
     "execution_count": 269,
     "metadata": {},
     "output_type": "execute_result"
    }
   ],
   "source": [
    "cluster[9]"
   ]
  },
  {
   "cell_type": "code",
   "execution_count": 260,
   "metadata": {},
   "outputs": [
    {
     "data": {
      "text/plain": [
       "0"
      ]
     },
     "execution_count": 260,
     "metadata": {},
     "output_type": "execute_result"
    }
   ],
   "source": [
    "cluster[5]"
   ]
  },
  {
   "cell_type": "code",
   "execution_count": 255,
   "metadata": {},
   "outputs": [
    {
     "data": {
      "text/plain": [
       "0"
      ]
     },
     "execution_count": 255,
     "metadata": {},
     "output_type": "execute_result"
    }
   ],
   "source": [
    "color_of_cluster(5,cluster)"
   ]
  },
  {
   "cell_type": "code",
   "execution_count": 184,
   "metadata": {},
   "outputs": [
    {
     "data": {
      "text/plain": [
       "0"
      ]
     },
     "execution_count": 184,
     "metadata": {},
     "output_type": "execute_result"
    }
   ],
   "source": [
    "percolation_check(color_matrix,cluster)"
   ]
  },
  {
   "cell_type": "markdown",
   "metadata": {},
   "source": [
    " "
   ]
  },
  {
   "cell_type": "code",
   "execution_count": 170,
   "metadata": {},
   "outputs": [
    {
     "data": {
      "text/plain": [
       "175"
      ]
     },
     "execution_count": 170,
     "metadata": {},
     "output_type": "execute_result"
    }
   ],
   "source": [
    "color_of_cluster(12,cluster)"
   ]
  },
  {
   "cell_type": "code",
   "execution_count": 113,
   "metadata": {},
   "outputs": [
    {
     "name": "stdout",
     "output_type": "stream",
     "text": [
      "2\n",
      "5\n",
      "------------\n",
      "3\n",
      "5\n",
      "------------\n",
      "7\n",
      "8\n",
      "------------\n",
      "8\n",
      "8\n",
      "------------\n",
      "12\n",
      "12\n",
      "------------\n",
      "12\n",
      "12\n",
      "------------\n"
     ]
    }
   ],
   "source": [
    "for i in range(color_matrix.shape[1]):\n",
    "        if color_matrix[i,-2] != -1:  \n",
    "            print(color_matrix[i,-2])\n",
    "            print(color_of_cluster(color_matrix[i,-2],cluster))\n",
    "            print('------------')"
   ]
  },
  {
   "cell_type": "code",
   "execution_count": 114,
   "metadata": {},
   "outputs": [
    {
     "data": {
      "text/plain": [
       "0"
      ]
     },
     "execution_count": 114,
     "metadata": {},
     "output_type": "execute_result"
    }
   ],
   "source": [
    "color_of_cluster(0,cluster)"
   ]
  },
  {
   "cell_type": "code",
   "execution_count": null,
   "metadata": {},
   "outputs": [],
   "source": []
  }
 ],
 "metadata": {
  "colab": {
   "name": "Hoshen_copelman.ipynb",
   "provenance": []
  },
  "kernelspec": {
   "display_name": "Python 3",
   "language": "python",
   "name": "python3"
  },
  "language_info": {
   "codemirror_mode": {
    "name": "ipython",
    "version": 3
   },
   "file_extension": ".py",
   "mimetype": "text/x-python",
   "name": "python",
   "nbconvert_exporter": "python",
   "pygments_lexer": "ipython3",
   "version": "3.7.3"
  }
 },
 "nbformat": 4,
 "nbformat_minor": 1
}
