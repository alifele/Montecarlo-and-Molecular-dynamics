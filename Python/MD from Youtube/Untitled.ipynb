{
 "cells": [
  {
   "cell_type": "code",
   "execution_count": 1,
   "metadata": {},
   "outputs": [],
   "source": [
    "import numpy as np"
   ]
  },
  {
   "cell_type": "code",
   "execution_count": 2,
   "metadata": {},
   "outputs": [],
   "source": [
    "np.newaxis"
   ]
  },
  {
   "cell_type": "code",
   "execution_count": 15,
   "metadata": {},
   "outputs": [
    {
     "data": {
      "text/plain": [
       "(array([0.86471944, 0.3184097 , 0.27756272, 0.69827345, 0.04536768,\n",
       "        0.36765272, 0.13531974, 0.43579037, 0.09734465, 0.49666414]),\n",
       " array([0.86471944, 0.3184097 , 0.27756272, 0.69827345, 0.04536768,\n",
       "        0.36765272, 0.13531974, 0.43579037, 0.09734465, 0.49666414]))"
      ]
     },
     "execution_count": 15,
     "metadata": {},
     "output_type": "execute_result"
    }
   ],
   "source": [
    "x = np.random.random(10)\n",
    "x, x.T"
   ]
  },
  {
   "cell_type": "code",
   "execution_count": 16,
   "metadata": {},
   "outputs": [
    {
     "data": {
      "text/plain": [
       "array([[0.86471944],\n",
       "       [0.3184097 ],\n",
       "       [0.27756272],\n",
       "       [0.69827345],\n",
       "       [0.04536768],\n",
       "       [0.36765272],\n",
       "       [0.13531974],\n",
       "       [0.43579037],\n",
       "       [0.09734465],\n",
       "       [0.49666414]])"
      ]
     },
     "execution_count": 16,
     "metadata": {},
     "output_type": "execute_result"
    }
   ],
   "source": [
    "x[np.newaxis].T"
   ]
  },
  {
   "cell_type": "code",
   "execution_count": 17,
   "metadata": {},
   "outputs": [
    {
     "data": {
      "text/plain": [
       "array([0.86471944, 0.3184097 , 0.27756272, 0.69827345, 0.04536768,\n",
       "       0.36765272, 0.13531974, 0.43579037, 0.09734465, 0.49666414])"
      ]
     },
     "execution_count": 17,
     "metadata": {},
     "output_type": "execute_result"
    }
   ],
   "source": [
    "x"
   ]
  },
  {
   "cell_type": "code",
   "execution_count": null,
   "metadata": {},
   "outputs": [],
   "source": []
  }
 ],
 "metadata": {
  "kernelspec": {
   "display_name": "Python 3",
   "language": "python",
   "name": "python3"
  },
  "language_info": {
   "codemirror_mode": {
    "name": "ipython",
    "version": 3
   },
   "file_extension": ".py",
   "mimetype": "text/x-python",
   "name": "python",
   "nbconvert_exporter": "python",
   "pygments_lexer": "ipython3",
   "version": "3.7.3"
  }
 },
 "nbformat": 4,
 "nbformat_minor": 2
}
