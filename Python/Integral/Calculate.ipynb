{
 "cells": [
  {
   "cell_type": "code",
   "execution_count": null,
   "metadata": {},
   "outputs": [],
   "source": [
    "\n",
    "def calculate (exp):\n",
    "  oplist ='+-*'\n",
    "  for i in range(len(exp)):\n",
    "    if exp[i] in oplist:\n",
    "      op=exp[i]\n",
    "  number1, number2 = exp.split(op)\n",
    "  number1=int(number1)\n",
    "  number2=int(number2)\n",
    "  if op==\"+\":\n",
    "    result=number1+number2\n",
    "  if op==\"-\":\n",
    "    result=number1-number2\n",
    "  if op==\"*\":\n",
    "    result=number1*number2  \n",
    "  return result\n",
    "\n",
    "def replace(exp, start, end, result):\n",
    "  s=\"\"\n",
    "  s=exp[:start]+str(result)+exp[end:]\n",
    "  return s\n",
    "\n",
    "exp,op=input(),input()\n",
    "while \"+\" or \"-\" or \"*\" in exp==True:\n",
    "  ind=find(exp,op)\n",
    "  splitted_exp=exp[ind[0]:ind[1]]\n",
    "  result=calculate(splitted_exp)\n",
    "  start=ind[0]\n",
    "  end=ind[1]\n",
    "  exp=replace(exp, start, end, result)\n",
    "print(int(exp))"
   ]
  },
  {
   "cell_type": "code",
   "execution_count": 2,
   "metadata": {},
   "outputs": [],
   "source": [
    "def find(exp,op):\n",
    "  start_char = exp[0]\n",
    "  end_char = exp[-1]\n",
    "  amalgar=\"-+*\"\n",
    "  t=1\n",
    "  end=0\n",
    "  start=0\n",
    "  j=exp.index(op)\n",
    "  while exp[j-t] not in amalgar :\n",
    "   # print(j-t)\n",
    "    t=t+1\n",
    "    if exp[j-t]==start_char:\n",
    "      break\n",
    "  start=j-t+1\n",
    "  t=1\n",
    "  while exp[j+t] not in amalgar:\n",
    "    #print(j+t)\n",
    "    t=t+1\n",
    "    if exp[j+t]==end_char:\n",
    "      break\n",
    "  end=j+t+1\n",
    "\n",
    "  return start,end\n"
   ]
  },
  {
   "cell_type": "code",
   "execution_count": 3,
   "metadata": {},
   "outputs": [
    {
     "name": "stdout",
     "output_type": "stream",
     "text": [
      "hello\n"
     ]
    }
   ],
   "source": [
    "print(\"hello\")"
   ]
  },
  {
   "cell_type": "code",
   "execution_count": null,
   "metadata": {},
   "outputs": [],
   "source": []
  }
 ],
 "metadata": {
  "kernelspec": {
   "display_name": "Python 3",
   "language": "python",
   "name": "python3"
  }
 },
 "nbformat": 4,
 "nbformat_minor": 2
}
