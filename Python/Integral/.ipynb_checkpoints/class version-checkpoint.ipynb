{
 "cells": [
  {
   "cell_type": "code",
   "execution_count": 0,
   "metadata": {
    "colab": {},
    "colab_type": "code",
    "id": "fPen-UMpN1Gn"
   },
   "outputs": [],
   "source": []
  },
  {
   "cell_type": "markdown",
   "metadata": {
    "colab_type": "text",
    "id": "4MwerG43OAkW"
   },
   "source": [
    "# Simple Sampeling"
   ]
  },
  {
   "cell_type": "code",
   "execution_count": 59,
   "metadata": {
    "colab": {},
    "colab_type": "code",
    "id": "HKtpmDoQOD-h"
   },
   "outputs": [],
   "source": [
    "import numpy as np\n",
    "import matplotlib.pyplot as plt"
   ]
  },
  {
   "cell_type": "code",
   "execution_count": 60,
   "metadata": {
    "colab": {
     "base_uri": "https://localhost:8080/",
     "height": 282
    },
    "colab_type": "code",
    "id": "ugKgBAw2OKc0",
    "outputId": "069da600-aa88-4b14-b3d0-0ce417bbe872"
   },
   "outputs": [
    {
     "data": {
      "text/plain": [
       "[<matplotlib.lines.Line2D at 0x7fda72b777f0>]"
      ]
     },
     "execution_count": 60,
     "metadata": {},
     "output_type": "execute_result"
    },
    {
     "data": {
      "image/png": "[encoded data removed]",
      "text/plain": [
       "<Figure size 432x288 with 1 Axes>"
      ]
     },
     "metadata": {
      "needs_background": "light"
     },
     "output_type": "display_data"
    }
   ],
   "source": [
    "x = np.arange(0,5,0.01)\n",
    "y = x**2\n",
    "plt.plot(x,y)"
   ]
  },
  {
   "cell_type": "code",
   "execution_count": 61,
   "metadata": {
    "colab": {},
    "colab_type": "code",
    "id": "fImT4CiCOmeM"
   },
   "outputs": [],
   "source": [
    "def y(x):\n",
    "    return x**2"
   ]
  },
  {
   "cell_type": "code",
   "execution_count": 62,
   "metadata": {
    "colab": {},
    "colab_type": "code",
    "id": "U0hI1P52OTrw"
   },
   "outputs": [],
   "source": [
    "counter=0\n",
    "N =1000\n",
    "integral = []\n",
    "for many_values in range(10):\n",
    "    counter=0\n",
    "    for i in range(N):\n",
    "        rand_x = np.random.random()*5\n",
    "        rand_y = np.random.random()*25\n",
    "        if rand_y<y(rand_x):\n",
    "              counter+=1\n",
    "    integral.append(counter/1000 * 25*5)"
   ]
  },
  {
   "cell_type": "code",
   "execution_count": 63,
   "metadata": {
    "colab": {
     "base_uri": "https://localhost:8080/",
     "height": 51
    },
    "colab_type": "code",
    "id": "yMLcyTuOPByk",
    "outputId": "7eb8d998-0677-40ee-b3df-290cc5630da1"
   },
   "outputs": [
    {
     "name": "stdout",
     "output_type": "stream",
     "text": [
      "the result of integral is :43.5\n",
      "The Real Value of the integral is :41.666666666666664\n"
     ]
    }
   ],
   "source": [
    "print('the result of integral is :{}'.format(counter/1000 * 25*5))\n",
    "print(\"The Real Value of the integral is :{}\".format(125/3))"
   ]
  },
  {
   "cell_type": "code",
   "execution_count": 64,
   "metadata": {
    "colab": {},
    "colab_type": "code",
    "id": "82fQjK4MQQN9"
   },
   "outputs": [],
   "source": [
    "mean = np.array(integral).mean()\n"
   ]
  },
  {
   "cell_type": "code",
   "execution_count": 65,
   "metadata": {
    "colab": {
     "base_uri": "https://localhost:8080/",
     "height": 282
    },
    "colab_type": "code",
    "id": "wNGzh-qPPGDd",
    "outputId": "6f343f07-4212-4b7c-b9eb-e64f331d393d"
   },
   "outputs": [
    {
     "data": {
      "text/plain": [
       "<matplotlib.legend.Legend at 0x7fda729c6dd8>"
      ]
     },
     "execution_count": 65,
     "metadata": {},
     "output_type": "execute_result"
    },
    {
     "data": {
      "image/png": "[encoded data removed]",
      "text/plain": [
       "<Figure size 432x288 with 1 Axes>"
      ]
     },
     "metadata": {
      "needs_background": "light"
     },
     "output_type": "display_data"
    }
   ],
   "source": [
    "plt.plot(integral,label='Values of integral')\n",
    "plt.plot(integral,'8')\n",
    "plt.plot([mean for i in range(len(integral))],label='Mean = {}'.format(mean))\n",
    "plt.plot([41.66 for i in range(len(integral))],label='Real Value=%3.4f'%(125/3))\n",
    "plt.legend()"
   ]
  },
  {
   "cell_type": "markdown",
   "metadata": {
    "colab_type": "text",
    "id": "VNm9BlykWV20"
   },
   "source": [
    "## Better way"
   ]
  },
  {
   "cell_type": "code",
   "execution_count": 5,
   "metadata": {
    "colab": {},
    "colab_type": "code",
    "id": "bj_93iVRWcaF"
   },
   "outputs": [],
   "source": [
    "line = np.arange(0,5,0.01)\n",
    "value = 2"
   ]
  },
  {
   "cell_type": "code",
   "execution_count": 6,
   "metadata": {
    "colab": {},
    "colab_type": "code",
    "id": "fdcHaJuxWcTl"
   },
   "outputs": [],
   "source": [
    "predicted_ratio = 2/5"
   ]
  },
  {
   "cell_type": "code",
   "execution_count": 51,
   "metadata": {
    "colab": {},
    "colab_type": "code",
    "id": "HUnoqyONWcIm"
   },
   "outputs": [],
   "source": [
    "counter=0\n",
    "N = 5000\n",
    "N_list = [i**2 for i in range(0,27)]\n",
    "ratio_values = []\n",
    "for N in N_list:\n",
    "    counter =0\n",
    "    for i in range(N):\n",
    "        rand  = np.random.random()*5\n",
    "        if rand<value:\n",
    "            counter+=1\n",
    "    ratio_values.append((N,counter/(N+1)))"
   ]
  },
  {
   "cell_type": "code",
   "execution_count": null,
   "metadata": {
    "colab": {
     "base_uri": "https://localhost:8080/",
     "height": 51
    },
    "colab_type": "code",
    "id": "AAuVFDoBXZGV",
    "outputId": "aefbe5c1-3db0-4cb0-eb72-98120b9ffeea"
   },
   "outputs": [],
   "source": []
  },
  {
   "cell_type": "code",
   "execution_count": 52,
   "metadata": {},
   "outputs": [],
   "source": [
    "ratio_values = np.array(ratio_values)"
   ]
  },
  {
   "cell_type": "code",
   "execution_count": 56,
   "metadata": {},
   "outputs": [
    {
     "data": {
      "text/plain": [
       "<matplotlib.legend.Legend at 0x7fda72e5ae80>"
      ]
     },
     "execution_count": 56,
     "metadata": {},
     "output_type": "execute_result"
    },
    {
     "data": {
      "image/png": "[encoded data removed]",
      "text/plain": [
       "<Figure size 432x288 with 1 Axes>"
      ]
     },
     "metadata": {
      "needs_background": "light"
     },
     "output_type": "display_data"
    }
   ],
   "source": [
    "plt.plot(ratio_values[:,0],ratio_values[:,1],label='Predicted Ratio')\n",
    "plt.plot(ratio_values[:,0],ratio_values[:,1],'8')\n",
    "plt.plot([2/5 for i in range(int(ratio_values[:,0][-1]))],label='Ratio={}'.format(2/5))\n",
    "plt.legend()"
   ]
  },
  {
   "cell_type": "code",
   "execution_count": null,
   "metadata": {},
   "outputs": [],
   "source": []
  },
  {
   "cell_type": "code",
   "execution_count": 70,
   "metadata": {},
   "outputs": [],
   "source": [
    "counter=0\n",
    "N =1000\n",
    "integral = []\n",
    "for many_values in range(10):\n",
    "    counter=0\n",
    "    for i in range(N):\n",
    "        rand_x = np.random.random()*5\n",
    "        counter+=y(rand_x)/25\n",
    "    integral.append(counter/1000 * 25*5)"
   ]
  },
  {
   "cell_type": "code",
   "execution_count": 72,
   "metadata": {},
   "outputs": [],
   "source": [
    "mean = np.array(integral).mean()"
   ]
  },
  {
   "cell_type": "code",
   "execution_count": 79,
   "metadata": {},
   "outputs": [
    {
     "data": {
      "text/plain": [
       "<matplotlib.legend.Legend at 0x7fda726685c0>"
      ]
     },
     "execution_count": 79,
     "metadata": {},
     "output_type": "execute_result"
    },
    {
     "data": {
      "image/png": "[encoded data removed]",
      "text/plain": [
       "<Figure size 432x288 with 1 Axes>"
      ]
     },
     "metadata": {
      "needs_background": "light"
     },
     "output_type": "display_data"
    }
   ],
   "source": [
    "plt.plot(integral)\n",
    "plt.plot(integral,'8',label=\"Calculated values\")\n",
    "plt.plot([mean for i in range(len(integral))],label='Mean=%3.4f'%(mean))\n",
    "plt.legend()"
   ]
  },
  {
   "cell_type": "code",
   "execution_count": null,
   "metadata": {},
   "outputs": [],
   "source": []
  },
  {
   "cell_type": "markdown",
   "metadata": {
    "colab_type": "text",
    "id": "ncMfMSJRU1eT"
   },
   "source": [
    "# Important Sampeling"
   ]
  },
  {
   "cell_type": "code",
   "execution_count": 91,
   "metadata": {
    "colab": {},
    "colab_type": "code",
    "id": "FQvD_gXRQB2K"
   },
   "outputs": [],
   "source": [
    "def Guassian(x,std,mean):\n",
    "    return 1/(2*np.pi*std**2)**0.5 * np.exp(-(x-mean)**2/(2*std**2))"
   ]
  },
  {
   "cell_type": "code",
   "execution_count": 81,
   "metadata": {
    "colab": {
     "base_uri": "https://localhost:8080/",
     "height": 282
    },
    "colab_type": "code",
    "id": "vW7UFh49R6JJ",
    "outputId": "1fad676f-6f9f-4d85-845d-8c43c8f35417"
   },
   "outputs": [
    {
     "data": {
      "text/plain": [
       "[<matplotlib.lines.Line2D at 0x7fda725cc630>]"
      ]
     },
     "execution_count": 81,
     "metadata": {},
     "output_type": "execute_result"
    },
    {
     "data": {
      "image/png": "[encoded data removed]",
      "text/plain": [
       "<Figure size 432x288 with 1 Axes>"
      ]
     },
     "metadata": {
      "needs_background": "light"
     },
     "output_type": "display_data"
    }
   ],
   "source": [
    "x = np.arange(-5,5,0.01)\n",
    "y = Guassian(x,1,0)\n",
    "plt.plot(x,y)"
   ]
  },
  {
   "cell_type": "markdown",
   "metadata": {
    "colab_type": "text",
    "id": "YlnycQSRSPQ1"
   },
   "source": [
    "Calculaing the integral -4 to +4"
   ]
  },
  {
   "cell_type": "code",
   "execution_count": 82,
   "metadata": {
    "colab": {
     "base_uri": "https://localhost:8080/",
     "height": 51
    },
    "colab_type": "code",
    "id": "49twmg7PSFWq",
    "outputId": "051f8dbf-3959-4d3d-ca83-83fe35f4033e"
   },
   "outputs": [
    {
     "name": "stdout",
     "output_type": "stream",
     "text": [
      "the result of integral is :1.0014727853373246\n",
      "The Real Value of the integral is :0.999936658\n"
     ]
    }
   ],
   "source": [
    "N = 100000\n",
    "Guassian_0 = Guassian(0,1,0)\n",
    "integral = []\n",
    "for many_values in range(10):\n",
    "  counter  = 0\n",
    "  for sample in range(N):\n",
    "    rand_x = np.random.random()*8 -4\n",
    "    rand_y = np.random.random()* Guassian_0\n",
    "    if rand_y<Guassian(rand_x,1,0):\n",
    "      counter+=1\n",
    "  integral.append(counter/N * 8*Guassian_0)\n",
    "print('the result of integral is :{}'.format(counter/N * 8*Guassian_0))\n",
    "print(\"The Real Value of the integral is :{}\".format(0.999936658))\n"
   ]
  },
  {
   "cell_type": "code",
   "execution_count": null,
   "metadata": {},
   "outputs": [],
   "source": [
    "print('the result of integral is :{}'.format(counter/N * 8*Guassian_0))\n",
    "print(\"The Real Value of the integral is :{}\".format(0.999936658))"
   ]
  },
  {
   "cell_type": "code",
   "execution_count": 83,
   "metadata": {
    "colab": {},
    "colab_type": "code",
    "id": "M_eOdHOWVq1n"
   },
   "outputs": [],
   "source": [
    "mean = np.array(integral).mean()"
   ]
  },
  {
   "cell_type": "code",
   "execution_count": 89,
   "metadata": {
    "colab": {
     "base_uri": "https://localhost:8080/",
     "height": 282
    },
    "colab_type": "code",
    "id": "OSnhgDZWSjC0",
    "outputId": "97522e42-397e-4d20-aedb-4cad25306743"
   },
   "outputs": [
    {
     "data": {
      "text/plain": [
       "<matplotlib.legend.Legend at 0x7fda7235fcf8>"
      ]
     },
     "execution_count": 89,
     "metadata": {},
     "output_type": "execute_result"
    },
    {
     "data": {
      "image/png": "[encoded data removed]",
      "text/plain": [
       "<Figure size 432x288 with 1 Axes>"
      ]
     },
     "metadata": {
      "needs_background": "light"
     },
     "output_type": "display_data"
    }
   ],
   "source": [
    "plt.plot(integral)\n",
    "plt.plot(integral,'8',label='Calculated Values')\n",
    "plt.plot([mean for i in range(len(integral))],label='Mean=%3.4f'%(mean))\n",
    "plt.legend()"
   ]
  },
  {
   "cell_type": "code",
   "execution_count": 0,
   "metadata": {
    "colab": {},
    "colab_type": "code",
    "id": "aDXXSN09Sk-E"
   },
   "outputs": [],
   "source": [
    "1/(2*pi)^0.5 * exp(-(x)^2/(2))"
   ]
  },
  {
   "cell_type": "markdown",
   "metadata": {
    "colab_type": "text",
    "id": "rjs8IhAVWfAf"
   },
   "source": [
    "## Better way"
   ]
  },
  {
   "cell_type": "code",
   "execution_count": 100,
   "metadata": {
    "colab": {},
    "colab_type": "code",
    "id": "bImRbISDWeXg"
   },
   "outputs": [],
   "source": [
    "N = 100000\n",
    "Guassian_0 = Guassian(0,1,0)\n",
    "integral = []\n",
    "for many_values in range(10):\n",
    "    counter  = 0\n",
    "    for sample in range(N):\n",
    "        rand_x = np.random.random()*8 -4\n",
    "        counter+=Guassian(rand_x,1,0)/Guassian_0\n",
    "    integral.append(counter/N*8*Guassian_0)\n"
   ]
  },
  {
   "cell_type": "code",
   "execution_count": 102,
   "metadata": {},
   "outputs": [
    {
     "name": "stdout",
     "output_type": "stream",
     "text": [
      "the result of integral is :1.0023984582973926\n",
      "The Real Value of the integral is :0.999936658\n"
     ]
    }
   ],
   "source": [
    "print('the result of integral is :{}'.format(integral[1]))\n",
    "print(\"The Real Value of the integral is :{}\".format(0.999936658))\n"
   ]
  },
  {
   "cell_type": "code",
   "execution_count": 106,
   "metadata": {},
   "outputs": [],
   "source": [
    "mean = np.array(integral).mean()"
   ]
  },
  {
   "cell_type": "code",
   "execution_count": 110,
   "metadata": {},
   "outputs": [
    {
     "data": {
      "text/plain": [
       "<matplotlib.legend.Legend at 0x7fda720c7710>"
      ]
     },
     "execution_count": 110,
     "metadata": {},
     "output_type": "execute_result"
    },
    {
     "data": {
      "image/png": "[encoded data removed]",
      "text/plain": [
       "<Figure size 432x288 with 1 Axes>"
      ]
     },
     "metadata": {
      "needs_background": "light"
     },
     "output_type": "display_data"
    }
   ],
   "source": [
    "plt.plot(integral)\n",
    "plt.plot(integral,'8',label='Calculated integral')\n",
    "plt.plot([mean for i in range(len(integral))],label ='Mean=%3.4f'%(mean))\n",
    "plt.legend()"
   ]
  },
  {
   "cell_type": "code",
   "execution_count": null,
   "metadata": {},
   "outputs": [],
   "source": []
  },
  {
   "cell_type": "code",
   "execution_count": null,
   "metadata": {},
   "outputs": [],
   "source": []
  },
  {
   "cell_type": "code",
   "execution_count": null,
   "metadata": {},
   "outputs": [],
   "source": []
  },
  {
   "cell_type": "code",
   "execution_count": null,
   "metadata": {},
   "outputs": [],
   "source": []
  },
  {
   "cell_type": "code",
   "execution_count": null,
   "metadata": {},
   "outputs": [],
   "source": []
  },
  {
   "cell_type": "code",
   "execution_count": null,
   "metadata": {},
   "outputs": [],
   "source": []
  },
  {
   "cell_type": "code",
   "execution_count": 68,
   "metadata": {},
   "outputs": [
    {
     "data": {
      "text/plain": [
       "(array([167., 147., 122.,  68.,  75.,  64.,  53.,  50.,  38.,  40.,  20.,\n",
       "         31.,  22.,  17.,  18.,  12.,   9.,   5.,   9.,   8.,   5.,   2.,\n",
       "          4.,   3.,   0.,   1.,   2.,   1.,   1.,   0.,   2.,   0.,   1.,\n",
       "          0.,   0.,   1.,   0.,   1.,   0.,   1.]),\n",
       " array([1.20797559e-03, 1.73543049e-01, 3.45878122e-01, 5.18213195e-01,\n",
       "        6.90548268e-01, 8.62883340e-01, 1.03521841e+00, 1.20755349e+00,\n",
       "        1.37988856e+00, 1.55222363e+00, 1.72455871e+00, 1.89689378e+00,\n",
       "        2.06922885e+00, 2.24156392e+00, 2.41389900e+00, 2.58623407e+00,\n",
       "        2.75856914e+00, 2.93090422e+00, 3.10323929e+00, 3.27557436e+00,\n",
       "        3.44790944e+00, 3.62024451e+00, 3.79257958e+00, 3.96491465e+00,\n",
       "        4.13724973e+00, 4.30958480e+00, 4.48191987e+00, 4.65425495e+00,\n",
       "        4.82659002e+00, 4.99892509e+00, 5.17126016e+00, 5.34359524e+00,\n",
       "        5.51593031e+00, 5.68826538e+00, 5.86060046e+00, 6.03293553e+00,\n",
       "        6.20527060e+00, 6.37760568e+00, 6.54994075e+00, 6.72227582e+00,\n",
       "        6.89461089e+00]),\n",
       " <a list of 40 Patch objects>)"
      ]
     },
     "execution_count": 68,
     "metadata": {},
     "output_type": "execute_result"
    },
    {
     "data": {
      "image/png": "[encoded data removed]",
      "text/plain": [
       "<Figure size 432x288 with 1 Axes>"
      ]
     },
     "metadata": {
      "needs_background": "light"
     },
     "output_type": "display_data"
    }
   ],
   "source": [
    "rand = np.random.random(1000)\n",
    "rand = -np.log(rand)\n",
    "plt.hist(rand,bins=40)"
   ]
  },
  {
   "cell_type": "code",
   "execution_count": null,
   "metadata": {},
   "outputs": [],
   "source": []
  },
  {
   "cell_type": "code",
   "execution_count": null,
   "metadata": {},
   "outputs": [],
   "source": []
  }
 ],
 "metadata": {
  "colab": {
   "collapsed_sections": [],
   "name": "Integral.ipynb",
   "provenance": []
  },
  "kernelspec": {
   "display_name": "Python 3",
   "language": "python",
   "name": "python3"
  },
  "language_info": {
   "codemirror_mode": {
    "name": "ipython",
    "version": 3
   },
   "file_extension": ".py",
   "mimetype": "text/x-python",
   "name": "python",
   "nbconvert_exporter": "python",
   "pygments_lexer": "ipython3",
   "version": "3.7.3"
  }
 },
 "nbformat": 4,
 "nbformat_minor": 1
}
