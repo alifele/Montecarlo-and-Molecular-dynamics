{
  "nbformat": 4,
  "nbformat_minor": 0,
  "metadata": {
    "colab": {
      "name": "Random Serp.ipynb",
      "provenance": [],
      "machine_shape": "hm",
      "include_colab_link": true
    },
    "kernelspec": {
      "name": "python3",
      "display_name": "Python 3"
    }
  },
  "cells": [
    {
      "cell_type": "markdown",
      "metadata": {
        "id": "view-in-github",
        "colab_type": "text"
      },
      "source": [
        "<a href=\"https://colab.research.google.com/github/alifele/Simulation-Methods/blob/master/Python/Fractals/Random_Serp.ipynb\" target=\"_parent\"><img src=\"https://colab.research.google.com/assets/colab-badge.svg\" alt=\"Open In Colab\"/></a>"
      ]
    },
    {
      "cell_type": "code",
      "metadata": {
        "id": "mVh8yrfSa75R",
        "colab_type": "code",
        "colab": {}
      },
      "source": [
        "import matplotlib.pyplot as plt\n",
        "import numpy as np"
      ],
      "execution_count": 0,
      "outputs": []
    },
    {
      "cell_type": "code",
      "metadata": {
        "id": "3IjBIt4ZbBcX",
        "colab_type": "code",
        "colab": {}
      },
      "source": [
        "class Serp:\n",
        "  \n",
        "  def __init__(self, arr):\n",
        "    self.arr = arr\n",
        "    self.points = arr\n",
        "  def scale(self):\n",
        "    self.arr = self.arr/2\n",
        "  \n",
        "  def tran1(self):\n",
        "    self.arr = self.arr /2\n",
        "    self.arr = self.arr + np.array([0.5*np.cos(np.pi/3), 0.5*np.sin(np.pi/3)])\n",
        "    \n",
        "  def tran2(self):\n",
        "    self.arr = self.arr /2\n",
        "    self.arr = self.arr + np.array([0.5,0])\n",
        "  \n",
        "  #ef end(self):\n",
        "   #self.points = np.vstack((self.points, self.arr))\n",
        "   #self.arr = self.points\n",
        "    \n",
        "  def display(self):\n",
        "    plt.plot(self.arr[0], self.arr[1], 'or')"
      ],
      "execution_count": 0,
      "outputs": []
    },
    {
      "cell_type": "code",
      "metadata": {
        "id": "38ZoSpfJb8Iw",
        "colab_type": "code",
        "outputId": "9d7c3142-c3e8-4566-f9c0-d9c356efa23c",
        "colab": {
          "base_uri": "https://localhost:8080/",
          "height": 269
        }
      },
      "source": [
        "serp = Serp(np.array([0.32, 0.58]))\n",
        "for k in range(500):\n",
        "  serp.arr = np.random.random((2,))  \n",
        "  #serp.scale()  \n",
        "  #if np.mod(k,6)==0:\n",
        "    #print(k, serp.arr.shape)\n",
        "  for i in range(50):\n",
        "    rand = np.random.random()\n",
        "    if rand >0 and rand <1/3:\n",
        "      serp.scale()\n",
        "\n",
        "    elif rand >1/3 and rand <2/3:\n",
        "      serp.tran1()\n",
        "\n",
        "    elif rand > 2/3  and rand<1:\n",
        "      serp.tran2()\n",
        "      \n",
        "  #serp.end()  \n",
        "      \n",
        "  serp.display()"
      ],
      "execution_count": 31,
      "outputs": [
        {
          "output_type": "display_data",
          "data": {
            "image/png": "[encoded data removed]",
            "text/plain": [
              "<Figure size 432x288 with 1 Axes>"
            ]
          },
          "metadata": {
            "tags": []
          }
        }
      ]
    }
  ]
}