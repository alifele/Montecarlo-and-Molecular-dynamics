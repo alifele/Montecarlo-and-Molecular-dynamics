{
  "nbformat": 4,
  "nbformat_minor": 0,
  "metadata": {
    "colab": {
      "name": "Khayam-Pascal .ipynb",
      "provenance": [],
      "include_colab_link": true
    },
    "kernelspec": {
      "name": "python3",
      "display_name": "Python 3"
    }
  },
  "cells": [
    {
      "cell_type": "markdown",
      "metadata": {
        "id": "view-in-github",
        "colab_type": "text"
      },
      "source": [
        "<a href=\"https://colab.research.google.com/github/alifele/Simulation-Methods/blob/master/Simulation-Methods/Python/Fractals/Khayam-Pascal/Khayam_Pascal.ipynb\" target=\"_parent\"><img src=\"https://colab.research.google.com/assets/colab-badge.svg\" alt=\"Open In Colab\"/></a>"
      ]
    },
    {
      "cell_type": "code",
      "metadata": {
        "id": "LRr9TqnNrH5H",
        "colab_type": "code",
        "colab": {}
      },
      "source": [
        "import numpy as np\n",
        "import matplotlib.pyplot as plt\n"
      ],
      "execution_count": 0,
      "outputs": []
    },
    {
      "cell_type": "markdown",
      "metadata": {
        "id": "sEJHe0W4-L5l",
        "colab_type": "text"
      },
      "source": [
        "# Making the khayam-pascal mtrix"
      ]
    },
    {
      "cell_type": "code",
      "metadata": {
        "id": "B__MAwJer-Am",
        "colab_type": "code",
        "colab": {}
      },
      "source": [
        "n = 220\n",
        "data = np.zeros((n,2*n+1), dtype = int)"
      ],
      "execution_count": 0,
      "outputs": []
    },
    {
      "cell_type": "code",
      "metadata": {
        "id": "uH9lJQ4txtS3",
        "colab_type": "code",
        "colab": {
          "base_uri": "https://localhost:8080/",
          "height": 34
        },
        "outputId": "4737bd43-f650-491a-9890-1f38aaf39dc4"
      },
      "source": [
        "data.shape"
      ],
      "execution_count": 162,
      "outputs": [
        {
          "output_type": "execute_result",
          "data": {
            "text/plain": [
              "(220, 441)"
            ]
          },
          "metadata": {
            "tags": []
          },
          "execution_count": 162
        }
      ]
    },
    {
      "cell_type": "code",
      "metadata": {
        "id": "c8pEAdQOxt9h",
        "colab_type": "code",
        "colab": {
          "base_uri": "https://localhost:8080/",
          "height": 51
        },
        "outputId": "53b30a31-d451-4393-d146-5b99fecd25f0"
      },
      "source": [
        "for i in range(n):\n",
        "  if i == 0 :\n",
        "    for j in range(2*n+1):\n",
        "      data[i,j]=0\n",
        "      if j==n:\n",
        "        data[i,j] = 1\n",
        "      \n",
        "      \n",
        "  else: \n",
        "    data[i,0] = data[i,2*n] = 0\n",
        "    for j in range(1,2*n):\n",
        "        data[i,j] = data[i-1,j-1] + data[i-1,j+1]\n",
        "     \n"
      ],
      "execution_count": 163,
      "outputs": [
        {
          "output_type": "stream",
          "text": [
            "/usr/local/lib/python3.6/dist-packages/ipykernel_launcher.py:12: RuntimeWarning: overflow encountered in long_scalars\n",
            "  if sys.path[0] == '':\n"
          ],
          "name": "stderr"
        }
      ]
    },
    {
      "cell_type": "markdown",
      "metadata": {
        "id": "zTONvduy-DJW",
        "colab_type": "text"
      },
      "source": [
        "# Better way to visualize"
      ]
    },
    {
      "cell_type": "code",
      "metadata": {
        "id": "FFNC7TF92OPK",
        "colab_type": "code",
        "colab": {}
      },
      "source": [
        "for i in range(data.shape[0]):\n",
        "  for j in range(data.shape[1]):\n",
        "    if np.mod(data[i,j],2)==0:\n",
        "      data[i,j] = 0\n",
        "    else:\n",
        "      data[i,j] =1\n",
        "      "
      ],
      "execution_count": 0,
      "outputs": []
    },
    {
      "cell_type": "code",
      "metadata": {
        "id": "eW5u6TRq4OHp",
        "colab_type": "code",
        "colab": {
          "base_uri": "https://localhost:8080/",
          "height": 236
        },
        "outputId": "b2b47687-1cc1-46f1-e7ab-2732b2aa24a3"
      },
      "source": [
        "plt.imshow(data)"
      ],
      "execution_count": 165,
      "outputs": [
        {
          "output_type": "execute_result",
          "data": {
            "text/plain": [
              "<matplotlib.image.AxesImage at 0x7ff7cbf182b0>"
            ]
          },
          "metadata": {
            "tags": []
          },
          "execution_count": 165
        },
        {
          "output_type": "display_data",
          "data": {
            "image/png": "[encoded data removed]",
            "text/plain": [
              "<Figure size 432x288 with 1 Axes>"
            ]
          },
          "metadata": {
            "tags": []
          }
        }
      ]
    },
    {
      "cell_type": "code",
      "metadata": {
        "id": "cxUb232a5OA5",
        "colab_type": "code",
        "colab": {
          "base_uri": "https://localhost:8080/",
          "height": 34
        },
        "outputId": "14834e0c-1686-4507-d7e5-5117e7f8e720"
      },
      "source": [
        "data.dtype"
      ],
      "execution_count": 160,
      "outputs": [
        {
          "output_type": "execute_result",
          "data": {
            "text/plain": [
              "dtype('int64')"
            ]
          },
          "metadata": {
            "tags": []
          },
          "execution_count": 160
        }
      ]
    },
    {
      "cell_type": "code",
      "metadata": {
        "id": "RC6taJXU5hwT",
        "colab_type": "code",
        "colab": {}
      },
      "source": [
        ""
      ],
      "execution_count": 0,
      "outputs": []
    },
    {
      "cell_type": "markdown",
      "metadata": {
        "id": "u7ieFWti-VG9",
        "colab_type": "text"
      },
      "source": [
        "# Visualizing using the scatter"
      ]
    },
    {
      "cell_type": "code",
      "metadata": {
        "id": "9uUciYT-0Yaa",
        "colab_type": "code",
        "colab": {
          "base_uri": "https://localhost:8080/",
          "height": 269
        },
        "outputId": "f573d96d-3d62-4752-89a1-f6b0e1151672"
      },
      "source": [
        "for i in range(data.shape[0]):\n",
        "  for j in range(data.shape[1]):\n",
        "    if np.mod(data[i,j],2)==0:\n",
        "      plt.scatter(j,-i, c='red')\n",
        "    else:\n",
        "      plt.scatter(j,-i, c='blue')\n",
        "      "
      ],
      "execution_count": 94,
      "outputs": [
        {
          "output_type": "display_data",
          "data": {
            "image/png": "[encoded data removed]",
            "text/plain": [
              "<Figure size 432x288 with 1 Axes>"
            ]
          },
          "metadata": {
            "tags": []
          }
        }
      ]
    }
  ]
}