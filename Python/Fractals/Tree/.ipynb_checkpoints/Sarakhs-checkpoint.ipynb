{
 "cells": [
  {
   "cell_type": "code",
   "execution_count": 1,
   "metadata": {},
   "outputs": [],
   "source": [
    "import numpy as np\n",
    "import matplotlib.pyplot as plt"
   ]
  },
  {
   "cell_type": "code",
   "execution_count": 12,
   "metadata": {},
   "outputs": [],
   "source": [
    "points = np.array([])\n"
   ]
  },
  {
   "cell_type": "code",
   "execution_count": 13,
   "metadata": {},
   "outputs": [],
   "source": [
    "def rot1(points ,th, a, b):\n",
    "    M = np.array([[0, 0,a],[0, 0.16 ,b],[0,0,1]])\n",
    "    points = M @ points\n",
    "    return points"
   ]
  },
  {
   "cell_type": "code",
   "execution_count": 14,
   "metadata": {},
   "outputs": [],
   "source": [
    "def rot2(points ,th, a, b):\n",
    "    \n",
    "    M = np.array([[0.85, 0.04,a],[-0.4,0.85,b],[0,0,1]])\n",
    "    points = M @ points\n",
    "    return points"
   ]
  },
  {
   "cell_type": "code",
   "execution_count": 15,
   "metadata": {},
   "outputs": [],
   "source": [
    "def rot3(points ,th, a, b):\n",
    "    M = np.array([[0.2, -0.26,a],[0.23, 0.22 ,b],[0,0,1]])\n",
    "    points = M @ points\n",
    "    return points"
   ]
  },
  {
   "cell_type": "code",
   "execution_count": 41,
   "metadata": {},
   "outputs": [],
   "source": [
    "def rot4(points ,th, a, b):\n",
    " \n",
    "    \n",
    "    M = np.array([[-0.15, -0.28,a],[0.26, 0.24 ,b],[0,0,1]])\n",
    "    points = M @ points\n",
    "    return points"
   ]
  },
  {
   "cell_type": "code",
   "execution_count": 179,
   "metadata": {},
   "outputs": [
    {
     "data": {
      "text/plain": [
       "[<matplotlib.lines.Line2D at 0x7fc5c76026d8>]"
      ]
     },
     "execution_count": 179,
     "metadata": {},
     "output_type": "execute_result"
    },
    {
     "data": {
      "image/png": "[encoded data removed]",
      "text/plain": [
       "<Figure size 432x288 with 1 Axes>"
      ]
     },
     "metadata": {
      "needs_background": "light"
     },
     "output_type": "display_data"
    }
   ],
   "source": [
    "points = np.zeros((3,))\n",
    "points[2] = 1\n",
    "data = []\n",
    "for i in range(100000):\n",
    "   \n",
    "    rand = np.random.random()\n",
    "    \n",
    "    if rand > 0 and rand <0.01:\n",
    "        M = np.array([[0, 0,0],[0, 0.16 ,0],[0,0,1]])\n",
    "        points = M @ points\n",
    "        \n",
    "    elif rand >0.01 and rand < 0.86 :\n",
    "        M = np.array([[0.85, 0.03, 0],[-0.03, 0.85, 2.6],[0,0,1]])\n",
    "        points = M @ points\n",
    "        \n",
    "    elif rand > 0.86 and rand <0.93:\n",
    "        M = np.array([[0.1, -0.26,0],[0.23, 0.22 ,1.6],[0,0,1]])\n",
    "        points = M @ points\n",
    "    else :\n",
    "        M = np.array([[-0.02, 0.28 ,0],[0.22, 0.24 ,0.84],[0,0,1]])\n",
    "        points = M @ points\n",
    "        \n",
    "    data.append(points)\n",
    "    \n",
    "    \n",
    "data = np.array(data)   \n",
    "plt.plot(85*data[:,0], 57*data[:,1], 'b,')"
   ]
  },
  {
   "cell_type": "code",
   "execution_count": 129,
   "metadata": {},
   "outputs": [
    {
     "data": {
      "text/plain": [
       "(100, 3)"
      ]
     },
     "execution_count": 129,
     "metadata": {},
     "output_type": "execute_result"
    }
   ],
   "source": [
    "data.shape"
   ]
  },
  {
   "cell_type": "code",
   "execution_count": 59,
   "metadata": {},
   "outputs": [],
   "source": [
    "a,b = 1,2\n",
    "M = np.array([[0.2, -0.26,a],[0.23, 0.22 ,b],[0,0,1]])"
   ]
  },
  {
   "cell_type": "code",
   "execution_count": 69,
   "metadata": {},
   "outputs": [
    {
     "data": {
      "text/plain": [
       "array([[ 0.2 , -0.26,  1.  ],\n",
       "       [ 0.23,  0.22,  2.  ],\n",
       "       [ 0.  ,  0.  ,  1.  ]])"
      ]
     },
     "execution_count": 69,
     "metadata": {},
     "output_type": "execute_result"
    }
   ],
   "source": [
    "M"
   ]
  },
  {
   "cell_type": "code",
   "execution_count": 73,
   "metadata": {},
   "outputs": [
    {
     "data": {
      "text/plain": [
       "array([0., 0., 1.])"
      ]
     },
     "execution_count": 73,
     "metadata": {},
     "output_type": "execute_result"
    }
   ],
   "source": [
    "points = np.zeros((3,))\n",
    "points[2]=1\n",
    "points"
   ]
  },
  {
   "cell_type": "code",
   "execution_count": 95,
   "metadata": {},
   "outputs": [
    {
     "data": {
      "text/plain": [
       "array([0.56673416, 2.56383744, 1.        ])"
      ]
     },
     "execution_count": 95,
     "metadata": {},
     "output_type": "execute_result"
    }
   ],
   "source": [
    "M @ points"
   ]
  },
  {
   "cell_type": "code",
   "execution_count": null,
   "metadata": {
    "scrolled": true
   },
   "outputs": [],
   "source": []
  },
  {
   "cell_type": "code",
   "execution_count": null,
   "metadata": {},
   "outputs": [],
   "source": []
  }
 ],
 "metadata": {
  "kernelspec": {
   "display_name": "Python 3",
   "language": "python",
   "name": "python3"
  },
  "language_info": {
   "codemirror_mode": {
    "name": "ipython",
    "version": 3
   },
   "file_extension": ".py",
   "mimetype": "text/x-python",
   "name": "python",
   "nbconvert_exporter": "python",
   "pygments_lexer": "ipython3",
   "version": "3.7.3"
  }
 },
 "nbformat": 4,
 "nbformat_minor": 2
}
