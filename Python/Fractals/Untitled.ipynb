{
 "cells": [
  {
   "cell_type": "code",
   "execution_count": 1,
   "metadata": {},
   "outputs": [],
   "source": [
    "import numpy as np\n",
    "import matplotlib.pyplot as plt"
   ]
  },
  {
   "cell_type": "code",
   "execution_count": null,
   "metadata": {},
   "outputs": [],
   "source": [
    "class Serp:\n",
    "    \n",
    "    def __init__(self, arr):\n",
    "        self.arr = arr\n",
    "        self.points = arr\n",
    "        \n",
    "    def scale(self):\n",
    "        self.arr = self.arr/2\n",
    "        \n",
    "    def tran1(self):\n",
    "        self.arr = self.arr + np.array([0.5*np.cos(np.pi/3), 0.5*np.sin(np.pi/3)])\n",
    "        \n",
    "    def tran2(self):\n",
    "        self.arr = self.arr + np.array([0.5, 0])\n",
    "    \n",
    "    def end(self):\n",
    "        self.arr = np"
   ]
  }
 ],
 "metadata": {
  "kernelspec": {
   "display_name": "Python 3",
   "language": "python",
   "name": "python3"
  },
  "language_info": {
   "codemirror_mode": {
    "name": "ipython",
    "version": 3
   },
   "file_extension": ".py",
   "mimetype": "text/x-python",
   "name": "python",
   "nbconvert_exporter": "python",
   "pygments_lexer": "ipython3",
   "version": "3.7.3"
  }
 },
 "nbformat": 4,
 "nbformat_minor": 2
}
