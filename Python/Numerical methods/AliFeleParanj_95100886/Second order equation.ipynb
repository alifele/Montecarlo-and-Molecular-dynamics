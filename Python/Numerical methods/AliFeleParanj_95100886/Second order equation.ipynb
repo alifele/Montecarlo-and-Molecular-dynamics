{
 "cells": [
  {
   "cell_type": "code",
   "execution_count": 1,
   "metadata": {},
   "outputs": [],
   "source": [
    "import numpy as np\n",
    "import matplotlib.pyplot as plt"
   ]
  },
  {
   "cell_type": "code",
   "execution_count": 20,
   "metadata": {},
   "outputs": [],
   "source": [
    "y = []\n",
    "y_0 = 0\n",
    "y_1 = 1\n",
    "h = 0.1\n",
    "x_stop = 2\n",
    "x = 0\n",
    "y.append((x,y_0))"
   ]
  },
  {
   "cell_type": "code",
   "execution_count": 15,
   "metadata": {},
   "outputs": [],
   "source": [
    "def F(x):\n",
    "    return 100*x -5*x**2 + 990*(np.exp(-0.1*x)-1)"
   ]
  },
  {
   "cell_type": "code",
   "execution_count": 21,
   "metadata": {},
   "outputs": [],
   "source": [
    "for i in range(int(x_stop/h)):\n",
    "    y_0 = y_0 + y_1 * h\n",
    "    y_1 = y_1 + h*(-0.1*y_1-x)\n",
    "    x+=h\n",
    "    y.append((x,y_0))\n"
   ]
  },
  {
   "cell_type": "code",
   "execution_count": 25,
   "metadata": {},
   "outputs": [
    {
     "data": {
      "image/png": "[encoded data removed]",
      "text/plain": [
       "<Figure size 432x288 with 1 Axes>"
      ]
     },
     "metadata": {
      "needs_background": "light"
     },
     "output_type": "display_data"
    }
   ],
   "source": [
    "data  = np.array(y)\n",
    "plt.plot(data[:,0],data[:,1],'o',label  ='the numerical results',markersize=5)\n",
    "plt.plot(data[:,0],F(data[:,0]),label='the actual values')\n",
    "plt.legend()\n",
    "plt.grid('ON')"
   ]
  },
  {
   "cell_type": "markdown",
   "metadata": {},
   "source": [
    "# How is that possible"
   ]
  },
  {
   "cell_type": "markdown",
   "metadata": {},
   "source": [
    "the problem is :\n",
    "\n",
    "$y'' = -0.1y' - x$ , \n",
    "\n",
    "$y(0) = 0$, $y'(0) =1$"
   ]
  },
  {
   "cell_type": "markdown",
   "metadata": {},
   "source": [
    "with a good change of variable will have:\n",
    "\n",
    "$y_0 = y , y_1 = y', y_2 = y'' = -0.1y_1 - x$\n",
    "\n",
    "so that we can write:\n",
    "\n",
    "$y_0' = y_1 , y_1' = y_2$\n",
    "\n",
    "using the taylor expansion we can write:\n",
    "\n",
    "$y_0[n+1] = y_0[n]+ y_0'[n]*h = y_0[n] + y_1[n]*h$\n",
    "\n",
    "$y_1[n+1] = y_1[n] + y_1'[n]*h = y_1[n] + y_2[n]*h = y_1[n]+ h*(-0.1y_1[n]-x[n])$\n",
    " \n",
    "and as the final summary, for solving the problem we can write:\n",
    "\n",
    "$y_0[n+1] = y_0[n] + y_1[n]*h$\n",
    "\n",
    "$y_1[n+1]  = y_1[n]+ (-0.1y_1[n]-x[n])*h$\n"
   ]
  },
  {
   "cell_type": "markdown",
   "metadata": {},
   "source": [
    "So if we write the above equation in algorithm we will have:\n",
    "\n",
    "$y_0[1] = y_0[0] + y_1[0]*h$\n",
    "\n",
    "$y_0[2] = y_0[1] + y_1[1]*h$\n",
    "\n",
    "but what is $y_1[1]$ ?\n",
    "\n",
    "we can use the secon equation to find the $y_1[1]$\n",
    "\n",
    "$y_1[1] = y_1[0] + (-0.1y_1[0] - x[0])*h$\n",
    "\n",
    "and so on ..."
   ]
  },
  {
   "cell_type": "code",
   "execution_count": null,
   "metadata": {},
   "outputs": [],
   "source": []
  }
 ],
 "metadata": {
  "kernelspec": {
   "display_name": "Python 3",
   "language": "python",
   "name": "python3"
  },
  "language_info": {
   "codemirror_mode": {
    "name": "ipython",
    "version": 3
   },
   "file_extension": ".py",
   "mimetype": "text/x-python",
   "name": "python",
   "nbconvert_exporter": "python",
   "pygments_lexer": "ipython3",
   "version": "3.7.3"
  }
 },
 "nbformat": 4,
 "nbformat_minor": 2
}
