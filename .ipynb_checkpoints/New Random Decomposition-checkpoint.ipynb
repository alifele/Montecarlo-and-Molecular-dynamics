{
 "cells": [
  {
   "cell_type": "code",
   "execution_count": 1,
   "metadata": {},
   "outputs": [],
   "source": [
    "import matplotlib.pyplot as plt\n",
    "import numpy as np\n"
   ]
  },
  {
   "cell_type": "markdown",
   "metadata": {},
   "source": [
    "# useful functions"
   ]
  },
  {
   "cell_type": "code",
   "execution_count": 218,
   "metadata": {},
   "outputs": [],
   "source": [
    "def surface_generator(subsurface, t):\n",
    "    '''\n",
    "    this function generates a new layer with zero as its sublayer.\n",
    "    inorder to mount the new layer on the last layer simply just add the output of this\n",
    "    function with sublayer\n",
    "    '''\n",
    "    \n",
    "    surface = subsurface\n",
    "    L = int(subsurface.shape[0])\n",
    "    for i in range(t):\n",
    "        rand = int(np.random.random()*L)\n",
    "\n",
    "\n",
    "\n",
    "        if rand == L-1:\n",
    "            a = rand-1\n",
    "            b = rand\n",
    "            c = 0\n",
    "            shift = np.argmin([surface[a], surface[b], surface[c]])\n",
    "            if shift==2:\n",
    "                surface[c]+=1\n",
    "            else:\n",
    "                surface[shift+rand-1]+=1\n",
    "\n",
    "        elif rand == 0:\n",
    "            a = L-1\n",
    "            b = rand\n",
    "            c = rand+1\n",
    "            shift = np.argmin([surface[a], surface[b], surface[c]])\n",
    "            if shift == 0:\n",
    "                surface[a] +=1\n",
    "            else:\n",
    "                surface[shift+rand-1]+=1\n",
    "\n",
    "        else:\n",
    "            a = rand-1\n",
    "            b = rand\n",
    "            c = rand+1\n",
    "            shift = np.argmin([surface[a], surface[b], surface[c]])\n",
    "\n",
    "            surface[shift-1 + rand] +=1 \n",
    "\n",
    "    return surface\n",
    "\n",
    "\n"
   ]
  },
  {
   "cell_type": "code",
   "execution_count": 260,
   "metadata": {},
   "outputs": [],
   "source": [
    "surface = np.zeros((100,))"
   ]
  },
  {
   "cell_type": "code",
   "execution_count": 275,
   "metadata": {},
   "outputs": [],
   "source": [
    "surface = surface_generator(surface,100)\n",
    "#plt.plot(surface)\n",
    "#subsurface_points = np.array([(i,0) for i in range(10)])\n",
    "#points = display(subsurface_points, surface, 's')\n",
    "#subsurface = surface\n",
    "#surface = surface_generator(subsurface, 100)\n",
    "#points = display(points, surface, 'rs')"
   ]
  },
  {
   "cell_type": "code",
   "execution_count": 276,
   "metadata": {},
   "outputs": [
    {
     "data": {
      "text/plain": [
       "array([7., 6., 8., 8., 8., 7., 7., 6., 8., 8., 9., 9., 8., 8., 8., 7., 8.,\n",
       "       7., 8., 7., 7., 7., 7., 7., 6., 6., 6., 6., 7., 6., 7., 7., 7., 6.,\n",
       "       7., 7., 7., 6., 6., 6., 6., 6., 7., 6., 6., 8., 7., 7., 8., 7., 8.,\n",
       "       7., 7., 7., 6., 6., 6., 6., 6., 7., 6., 6., 6., 5., 5., 7., 6., 6.,\n",
       "       6., 6., 7., 7., 7., 6., 8., 8., 7., 8., 8., 8., 8., 7., 7., 8., 7.,\n",
       "       7., 7., 7., 7., 6., 8., 8., 8., 9., 8., 8., 8., 8., 7., 7.])"
      ]
     },
     "execution_count": 276,
     "metadata": {},
     "output_type": "execute_result"
    }
   ],
   "source": [
    "surface"
   ]
  },
  {
   "cell_type": "code",
   "execution_count": 273,
   "metadata": {},
   "outputs": [],
   "source": [
    "def display(subsurface_points, surface, marker):\n",
    "  points = []\n",
    "  for i in range(surface.shape[0]):\n",
    "    \n",
    "    for j in range(int(surface[i])):\n",
    "      points.append((i,j + subsurface_points[subsurface_points[:,0]==i][-1][1] ))\n",
    "    \n",
    "  points = np.array(points)\n",
    "  plt.plot(points[:,0], points[:,1], marker)\n",
    "  return points\n",
    "  "
   ]
  },
  {
   "cell_type": "code",
   "execution_count": 277,
   "metadata": {},
   "outputs": [],
   "source": [
    "def surface_accumulator_analyzer(subsurface, step, upperlimit):   \n",
    "    '''\n",
    "    will get a subsurface and add particles to it\n",
    "    '''\n",
    "    #subsurface = np.zeros((L,))\n",
    "    L = subsurface.shape[0]\n",
    "    surface = surface_generator(subsurface, 2) #+ subsurface\n",
    "    N_total = 2\n",
    "    std_list = []\n",
    "\n",
    "    particle_release_range= [step**i for i in range(2,upperlimit)]\n",
    "    for i in particle_release_range:\n",
    "        std_list.append((N_total, surface.std()))\n",
    "        subsurface = surface\n",
    "        surface = surface_generator(subsurface,i) #+ subsurface\n",
    "        N_total +=i\n",
    "    return np.array(std_list)"
   ]
  },
  {
   "cell_type": "code",
   "execution_count": 278,
   "metadata": {},
   "outputs": [],
   "source": [
    "def Experiment_runner(subsurface,step, upperlimit,number_of_experiments):\n",
    "    std_of_experiments = []\n",
    "    #number_of_experiments = 5\n",
    "    for i in range(number_of_experiments):\n",
    "        data = surface_accumulator_analyzer(subsurface,step,upperlimit)\n",
    "        std_of_experiments.append(data)\n",
    "        print('experiment number {} is running'.format(i+1))\n",
    "    return std_of_experiments"
   ]
  },
  {
   "cell_type": "code",
   "execution_count": 279,
   "metadata": {},
   "outputs": [],
   "source": [
    "def mean_std_calculator(std_of_experiments, number_of_experiments):\n",
    "    \n",
    "    mean_std = np.zeros(std_of_experiments[0].shape)\n",
    "    for i in range(number_of_experiments):\n",
    "        mean_std += std_of_experiments[i]\n",
    "    mean_std[:,1]/= number_of_experiments\n",
    "    mean_std[:,0] = std_of_experiments[0][:,0] \n",
    "    \n",
    "    return mean_std"
   ]
  },
  {
   "cell_type": "markdown",
   "metadata": {},
   "source": [
    "# Some plots"
   ]
  },
  {
   "cell_type": "code",
   "execution_count": 281,
   "metadata": {},
   "outputs": [],
   "source": [
    "L = 1000\n",
    "subsurface = np.zeros((L,))\n",
    "data1 = surface_accumulator_analyzer(subsurface,2, 20)\n",
    "#data2 = surface_accumulator_analyzer(subsurface,t,1.5,15)\n",
    "#data3 = surface_accumulator_analyzer(subsurface,t,1.6,15)"
   ]
  },
  {
   "cell_type": "code",
   "execution_count": 282,
   "metadata": {},
   "outputs": [
    {
     "data": {
      "text/plain": [
       "<matplotlib.legend.Legend at 0x7fc917c04f60>"
      ]
     },
     "execution_count": 282,
     "metadata": {},
     "output_type": "execute_result"
    },
    {
     "data": {
      "image/png": "[encoded data removed]",
      "text/plain": [
       "<Figure size 1152x576 with 1 Axes>"
      ]
     },
     "metadata": {
      "needs_background": "light"
     },
     "output_type": "display_data"
    }
   ],
   "source": [
    "fig = plt.figure(figsize=(16,8))\n",
    "ax = fig.add_subplot(111)\n",
    "ax.loglog(data1[:,0], data1[:,1],'8', label='1.2')\n",
    "#ax.loglog(data2[:,0], data2[:,1],'8', label='1.5')\n",
    "#ax.loglog(data3[:,0], data3[:,1],'8', label='1.6')\n",
    "ax.legend()"
   ]
  },
  {
   "cell_type": "markdown",
   "metadata": {},
   "source": [
    "# Running experiments"
   ]
  },
  {
   "cell_type": "code",
   "execution_count": null,
   "metadata": {},
   "outputs": [],
   "source": []
  },
  {
   "cell_type": "code",
   "execution_count": 284,
   "metadata": {},
   "outputs": [
    {
     "ename": "KeyboardInterrupt",
     "evalue": "",
     "output_type": "error",
     "traceback": [
      "\u001b[0;31m---------------------------------------------------------------------------\u001b[0m",
      "\u001b[0;31mKeyboardInterrupt\u001b[0m                         Traceback (most recent call last)",
      "\u001b[0;32m<ipython-input-284-b083a4eb96a2>\u001b[0m in \u001b[0;36m<module>\u001b[0;34m\u001b[0m\n\u001b[1;32m      5\u001b[0m \u001b[0mnumber_of_experiments\u001b[0m \u001b[0;34m=\u001b[0m \u001b[0;36m1\u001b[0m\u001b[0;34m\u001b[0m\u001b[0;34m\u001b[0m\u001b[0m\n\u001b[1;32m      6\u001b[0m \u001b[0;31m#std_of_experiments = Experiment_runner(subdurface,t,step, upperlimit, number_of_experiments)\u001b[0m\u001b[0;34m\u001b[0m\u001b[0;34m\u001b[0m\u001b[0;34m\u001b[0m\u001b[0m\n\u001b[0;32m----> 7\u001b[0;31m \u001b[0mdata\u001b[0m \u001b[0;34m=\u001b[0m \u001b[0msurface_accumulator_analyzer\u001b[0m\u001b[0;34m(\u001b[0m\u001b[0msubsurface\u001b[0m\u001b[0;34m,\u001b[0m\u001b[0;36m2\u001b[0m\u001b[0;34m,\u001b[0m\u001b[0;36m23\u001b[0m\u001b[0;34m)\u001b[0m\u001b[0;34m\u001b[0m\u001b[0;34m\u001b[0m\u001b[0m\n\u001b[0m",
      "\u001b[0;32m<ipython-input-277-2b5e71c2aa13>\u001b[0m in \u001b[0;36msurface_accumulator_analyzer\u001b[0;34m(subsurface, step, upperlimit)\u001b[0m\n\u001b[1;32m     13\u001b[0m         \u001b[0mstd_list\u001b[0m\u001b[0;34m.\u001b[0m\u001b[0mappend\u001b[0m\u001b[0;34m(\u001b[0m\u001b[0;34m(\u001b[0m\u001b[0mN_total\u001b[0m\u001b[0;34m,\u001b[0m \u001b[0msurface\u001b[0m\u001b[0;34m.\u001b[0m\u001b[0mstd\u001b[0m\u001b[0;34m(\u001b[0m\u001b[0;34m)\u001b[0m\u001b[0;34m)\u001b[0m\u001b[0;34m)\u001b[0m\u001b[0;34m\u001b[0m\u001b[0;34m\u001b[0m\u001b[0m\n\u001b[1;32m     14\u001b[0m         \u001b[0msubsurface\u001b[0m \u001b[0;34m=\u001b[0m \u001b[0msurface\u001b[0m\u001b[0;34m\u001b[0m\u001b[0;34m\u001b[0m\u001b[0m\n\u001b[0;32m---> 15\u001b[0;31m         \u001b[0msurface\u001b[0m \u001b[0;34m=\u001b[0m \u001b[0msurface_generator\u001b[0m\u001b[0;34m(\u001b[0m\u001b[0msubsurface\u001b[0m\u001b[0;34m,\u001b[0m\u001b[0mi\u001b[0m\u001b[0;34m)\u001b[0m \u001b[0;31m#+ subsurface\u001b[0m\u001b[0;34m\u001b[0m\u001b[0;34m\u001b[0m\u001b[0m\n\u001b[0m\u001b[1;32m     16\u001b[0m         \u001b[0mN_total\u001b[0m \u001b[0;34m+=\u001b[0m\u001b[0mi\u001b[0m\u001b[0;34m\u001b[0m\u001b[0;34m\u001b[0m\u001b[0m\n\u001b[1;32m     17\u001b[0m     \u001b[0;32mreturn\u001b[0m \u001b[0mnp\u001b[0m\u001b[0;34m.\u001b[0m\u001b[0marray\u001b[0m\u001b[0;34m(\u001b[0m\u001b[0mstd_list\u001b[0m\u001b[0;34m)\u001b[0m\u001b[0;34m\u001b[0m\u001b[0;34m\u001b[0m\u001b[0m\n",
      "\u001b[0;32m<ipython-input-218-3d2660e34261>\u001b[0m in \u001b[0;36msurface_generator\u001b[0;34m(subsurface, t)\u001b[0m\n\u001b[1;32m     39\u001b[0m             \u001b[0mshift\u001b[0m \u001b[0;34m=\u001b[0m \u001b[0mnp\u001b[0m\u001b[0;34m.\u001b[0m\u001b[0margmin\u001b[0m\u001b[0;34m(\u001b[0m\u001b[0;34m[\u001b[0m\u001b[0msurface\u001b[0m\u001b[0;34m[\u001b[0m\u001b[0ma\u001b[0m\u001b[0;34m]\u001b[0m\u001b[0;34m,\u001b[0m \u001b[0msurface\u001b[0m\u001b[0;34m[\u001b[0m\u001b[0mb\u001b[0m\u001b[0;34m]\u001b[0m\u001b[0;34m,\u001b[0m \u001b[0msurface\u001b[0m\u001b[0;34m[\u001b[0m\u001b[0mc\u001b[0m\u001b[0;34m]\u001b[0m\u001b[0;34m]\u001b[0m\u001b[0;34m)\u001b[0m\u001b[0;34m\u001b[0m\u001b[0;34m\u001b[0m\u001b[0m\n\u001b[1;32m     40\u001b[0m \u001b[0;34m\u001b[0m\u001b[0m\n\u001b[0;32m---> 41\u001b[0;31m             \u001b[0msurface\u001b[0m\u001b[0;34m[\u001b[0m\u001b[0mshift\u001b[0m\u001b[0;34m-\u001b[0m\u001b[0;36m1\u001b[0m \u001b[0;34m+\u001b[0m \u001b[0mrand\u001b[0m\u001b[0;34m]\u001b[0m \u001b[0;34m+=\u001b[0m\u001b[0;36m1\u001b[0m\u001b[0;34m\u001b[0m\u001b[0;34m\u001b[0m\u001b[0m\n\u001b[0m\u001b[1;32m     42\u001b[0m \u001b[0;34m\u001b[0m\u001b[0m\n\u001b[1;32m     43\u001b[0m     \u001b[0;32mreturn\u001b[0m \u001b[0msurface\u001b[0m\u001b[0;34m\u001b[0m\u001b[0;34m\u001b[0m\u001b[0m\n",
      "\u001b[0;31mKeyboardInterrupt\u001b[0m: "
     ]
    }
   ],
   "source": [
    "L = 5000\n",
    "subsurface = np.zeros((L,))\n",
    "step = 1.6\n",
    "upperlimit = 45\n",
    "number_of_experiments = 1\n",
    "#std_of_experiments = Experiment_runner(subdurface,t,step, upperlimit, number_of_experiments)\n",
    "data = surface_accumulator_analyzer(subsurface,2,23)"
   ]
  },
  {
   "cell_type": "code",
   "execution_count": 206,
   "metadata": {},
   "outputs": [
    {
     "data": {
      "text/plain": [
       "[<matplotlib.lines.Line2D at 0x7fc917dde208>]"
      ]
     },
     "execution_count": 206,
     "metadata": {},
     "output_type": "execute_result"
    },
    {
     "data": {
      "image/png": "[encoded data removed]",
      "text/plain": [
       "<Figure size 432x288 with 1 Axes>"
      ]
     },
     "metadata": {
      "needs_background": "light"
     },
     "output_type": "display_data"
    }
   ],
   "source": [
    "plt.loglog(data[:,0], data[:,1],'8', label='1.2')"
   ]
  },
  {
   "cell_type": "code",
   "execution_count": 163,
   "metadata": {},
   "outputs": [],
   "source": [
    "mean_std = mean_std_calculator(std_of_experiments, number_of_experiments)"
   ]
  },
  {
   "cell_type": "code",
   "execution_count": 164,
   "metadata": {},
   "outputs": [
    {
     "data": {
      "image/png": "[encoded data removed]",
      "text/plain": [
       "<Figure size 432x288 with 1 Axes>"
      ]
     },
     "metadata": {
      "needs_background": "light"
     },
     "output_type": "display_data"
    }
   ],
   "source": [
    "plt.loglog(mean_std[:,0], mean_std[:,1], linewidth=5)\n",
    "for i in range(number_of_experiments):\n",
    "    plt.loglog(std_of_experiments[i][:,0], std_of_experiments[i][:,1],'o',alpha=0.4)\n",
    "#plt.errorbar(std_of_experiments[0][:,0], std_of_experiments[0][:,1],yerr=1)\n",
    "\n"
   ]
  },
  {
   "cell_type": "code",
   "execution_count": null,
   "metadata": {},
   "outputs": [],
   "source": []
  },
  {
   "cell_type": "code",
   "execution_count": null,
   "metadata": {},
   "outputs": [],
   "source": []
  },
  {
   "cell_type": "code",
   "execution_count": null,
   "metadata": {},
   "outputs": [],
   "source": []
  },
  {
   "cell_type": "code",
   "execution_count": null,
   "metadata": {},
   "outputs": [],
   "source": []
  },
  {
   "cell_type": "code",
   "execution_count": 209,
   "metadata": {},
   "outputs": [
    {
     "data": {
      "text/plain": [
       "[<matplotlib.lines.Line2D at 0x7f1b7b529128>,\n",
       " <matplotlib.lines.Line2D at 0x7f1b7a3f8320>]"
      ]
     },
     "execution_count": 209,
     "metadata": {},
     "output_type": "execute_result"
    },
    {
     "data": {
      "image/png": "[encoded data removed]",
      "text/plain": [
       "<Figure size 432x288 with 1 Axes>"
      ]
     },
     "metadata": {
      "needs_background": "light"
     },
     "output_type": "display_data"
    }
   ],
   "source": []
  },
  {
   "cell_type": "code",
   "execution_count": 128,
   "metadata": {},
   "outputs": [
    {
     "data": {
      "text/plain": [
       "(10,)"
      ]
     },
     "execution_count": 128,
     "metadata": {},
     "output_type": "execute_result"
    }
   ],
   "source": [
    "std_of_experiments[0][:,0].shape"
   ]
  },
  {
   "cell_type": "code",
   "execution_count": 129,
   "metadata": {},
   "outputs": [
    {
     "data": {
      "text/plain": [
       "(10, 2)"
      ]
     },
     "execution_count": 129,
     "metadata": {},
     "output_type": "execute_result"
    }
   ],
   "source": [
    "mean_std.shape"
   ]
  },
  {
   "cell_type": "code",
   "execution_count": null,
   "metadata": {},
   "outputs": [],
   "source": []
  }
 ],
 "metadata": {
  "kernelspec": {
   "display_name": "Python 3",
   "language": "python",
   "name": "python3"
  },
  "language_info": {
   "codemirror_mode": {
    "name": "ipython",
    "version": 3
   },
   "file_extension": ".py",
   "mimetype": "text/x-python",
   "name": "python",
   "nbconvert_exporter": "python",
   "pygments_lexer": "ipython3",
   "version": "3.7.3"
  }
 },
 "nbformat": 4,
 "nbformat_minor": 2
}
