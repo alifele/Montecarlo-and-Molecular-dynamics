{
 "cells": [
  {
   "cell_type": "code",
   "execution_count": 1,
   "metadata": {},
   "outputs": [],
   "source": [
    "import matplotlib.pyplot as plt\n",
    "import numpy as np\n"
   ]
  },
  {
   "cell_type": "markdown",
   "metadata": {},
   "source": [
    "# useful functions"
   ]
  },
  {
   "cell_type": "code",
   "execution_count": 316,
   "metadata": {},
   "outputs": [],
   "source": [
    "def surface_generator(subsurface, t):\n",
    "    '''\n",
    "    this function generates a new layer with zero as its sublayer.\n",
    "    inorder to mount the new layer on the last layer simply just add the output of this\n",
    "    function with sublayer\n",
    "    '''\n",
    "    \n",
    "    surface = subsurface\n",
    "    L = int(subsurface.shape[0])\n",
    "    for i in range(t):\n",
    "        rand = int(np.random.random()*L)\n",
    "\n",
    "\n",
    "\n",
    "        if rand == L-1:\n",
    "            a = rand-1\n",
    "            b = rand\n",
    "            c = 0\n",
    "            shift = np.argmin([surface[a], surface[b], surface[c]])\n",
    "            if shift==2:\n",
    "                surface[c]+=1\n",
    "            else:\n",
    "                surface[shift+rand-1]+=1\n",
    "\n",
    "        elif rand == 0:\n",
    "            a = L-1\n",
    "            b = rand\n",
    "            c = rand+1\n",
    "            shift = np.argmin([surface[a], surface[b], surface[c]])\n",
    "            if shift == 0:\n",
    "                surface[a] +=1\n",
    "            else:\n",
    "                surface[shift+rand-1]+=1\n",
    "\n",
    "        else:\n",
    "            a = rand-1\n",
    "            b = rand\n",
    "            c = rand+1\n",
    "            shift = np.argmin([surface[a], surface[b], surface[c]])\n",
    "\n",
    "            surface[shift-1 + rand] +=1 \n",
    "\n",
    "    return surface\n",
    "\n",
    "\n"
   ]
  },
  {
   "cell_type": "code",
   "execution_count": 326,
   "metadata": {},
   "outputs": [],
   "source": [
    "surface = np.zeros((100,))\n",
    "surface[50] = 100"
   ]
  },
  {
   "cell_type": "code",
   "execution_count": 327,
   "metadata": {},
   "outputs": [],
   "source": [
    "surface = surface_generator(surface,1000)\n",
    "#plt.plot(surface)\n",
    "#subsurface_points = np.array([(i,0) for i in range(10)])\n",
    "#points = display(subsurface_points, surface, 's')\n",
    "#subsurface = surface\n",
    "#surface = surface_generator(subsurface, 100)\n",
    "#points = display(points, surface, 'rs')"
   ]
  },
  {
   "cell_type": "code",
   "execution_count": 328,
   "metadata": {},
   "outputs": [
    {
     "data": {
      "text/plain": [
       "[<matplotlib.lines.Line2D at 0x7fc917ca2e48>]"
      ]
     },
     "execution_count": 328,
     "metadata": {},
     "output_type": "execute_result"
    },
    {
     "data": {
      "image/png": "[encoded data removed]",
      "text/plain": [
       "<Figure size 432x288 with 1 Axes>"
      ]
     },
     "metadata": {
      "needs_background": "light"
     },
     "output_type": "display_data"
    }
   ],
   "source": [
    "surface\n",
    "plt.plot(surface)"
   ]
  },
  {
   "cell_type": "code",
   "execution_count": 329,
   "metadata": {},
   "outputs": [],
   "source": [
    "def display(subsurface_points, surface, marker):\n",
    "  points = []\n",
    "  for i in range(surface.shape[0]):\n",
    "    \n",
    "    for j in range(int(surface[i])):\n",
    "      points.append((i,j + subsurface_points[subsurface_points[:,0]==i][-1][1] ))\n",
    "    \n",
    "  points = np.array(points)\n",
    "  plt.plot(points[:,0], points[:,1], marker)\n",
    "  return points\n",
    "  "
   ]
  },
  {
   "cell_type": "code",
   "execution_count": 330,
   "metadata": {},
   "outputs": [
    {
     "data": {
      "image/png": "[encoded data removed]",
      "text/plain": [
       "<Figure size 432x288 with 1 Axes>"
      ]
     },
     "metadata": {
      "needs_background": "light"
     },
     "output_type": "display_data"
    }
   ],
   "source": [
    "subsurface_points = np.array([(i,0) for i in range(100)])\n",
    "points = display(subsurface_points, surface, 's')"
   ]
  },
  {
   "cell_type": "code",
   "execution_count": 337,
   "metadata": {},
   "outputs": [],
   "source": [
    "def surface_accumulator_analyzer(subsurface, step, upperlimit):   \n",
    "    '''\n",
    "    will get a subsurface and add particles to it\n",
    "    '''\n",
    "    #subsurface = np.zeros((L,))\n",
    "    L = subsurface.shape[0]\n",
    "    surface = surface_generator(subsurface, 2) #+ subsurface\n",
    "    N_total = 2\n",
    "    std_list = []\n",
    "\n",
    "    particle_release_range= [step**i for i in range(2,upperlimit)]\n",
    "    for i in particle_release_range:\n",
    "        std_list.append((N_total, surface.std()))\n",
    "        subsurface = surface\n",
    "        surface = surface_generator(subsurface,i) #+ subsurface\n",
    "        N_total +=i\n",
    "        print(np.log2(i))\n",
    "    return np.array(std_list)"
   ]
  },
  {
   "cell_type": "code",
   "execution_count": 338,
   "metadata": {},
   "outputs": [],
   "source": [
    "def Experiment_runner(subsurface,step, upperlimit,number_of_experiments):\n",
    "    std_of_experiments = []\n",
    "    #number_of_experiments = 5\n",
    "    for i in range(number_of_experiments):\n",
    "        data = surface_accumulator_analyzer(subsurface,step,upperlimit)\n",
    "        std_of_experiments.append(data)\n",
    "        print('experiment number {} is running'.format(i+1))\n",
    "    return std_of_experiments"
   ]
  },
  {
   "cell_type": "code",
   "execution_count": 339,
   "metadata": {},
   "outputs": [],
   "source": [
    "def mean_std_calculator(std_of_experiments, number_of_experiments):\n",
    "    \n",
    "    mean_std = np.zeros(std_of_experiments[0].shape)\n",
    "    for i in range(number_of_experiments):\n",
    "        mean_std += std_of_experiments[i]\n",
    "    mean_std[:,1]/= number_of_experiments\n",
    "    mean_std[:,0] = std_of_experiments[0][:,0] \n",
    "    \n",
    "    return mean_std"
   ]
  },
  {
   "cell_type": "markdown",
   "metadata": {},
   "source": [
    "# Some plots"
   ]
  },
  {
   "cell_type": "code",
   "execution_count": 343,
   "metadata": {},
   "outputs": [
    {
     "name": "stdout",
     "output_type": "stream",
     "text": [
      "2.0\n",
      "3.0\n",
      "4.0\n",
      "5.0\n",
      "6.0\n",
      "7.0\n",
      "8.0\n",
      "9.0\n",
      "10.0\n",
      "11.0\n",
      "12.0\n",
      "13.0\n",
      "14.0\n",
      "15.0\n",
      "16.0\n",
      "17.0\n",
      "18.0\n",
      "19.0\n",
      "20.0\n",
      "21.0\n",
      "22.0\n"
     ]
    }
   ],
   "source": [
    "L = 1000\n",
    "subsurface = np.zeros((L,))\n",
    "data1 = surface_accumulator_analyzer(subsurface,2, 23)\n",
    "#data2 = surface_accumulator_analyzer(subsurface,t,1.5,15)\n",
    "#data3 = surface_accumulator_analyzer(subsurface,t,1.6,15)"
   ]
  },
  {
   "cell_type": "code",
   "execution_count": 347,
   "metadata": {},
   "outputs": [
    {
     "data": {
      "text/plain": [
       "<matplotlib.legend.Legend at 0x7fc917881eb8>"
      ]
     },
     "execution_count": 347,
     "metadata": {},
     "output_type": "execute_result"
    },
    {
     "data": {
      "image/png": "[encoded data removed]",
      "text/plain": [
       "<Figure size 432x288 with 1 Axes>"
      ]
     },
     "metadata": {
      "needs_background": "light"
     },
     "output_type": "display_data"
    }
   ],
   "source": [
    "fig = plt.figure()\n",
    "ax = fig.add_subplot(111)\n",
    "ax.loglog(data1[:,0], data1[:,1],'8', label='2')\n",
    "#ax.loglog(data2[:,0], data2[:,1],'8', label='1.5')\n",
    "#ax.loglog(data3[:,0], data3[:,1],'8', label='1.6')\n",
    "ax.legend()"
   ]
  },
  {
   "cell_type": "markdown",
   "metadata": {},
   "source": [
    "# Running experiments"
   ]
  },
  {
   "cell_type": "code",
   "execution_count": null,
   "metadata": {},
   "outputs": [],
   "source": []
  },
  {
   "cell_type": "code",
   "execution_count": 345,
   "metadata": {},
   "outputs": [
    {
     "name": "stdout",
     "output_type": "stream",
     "text": [
      "2.0\n",
      "3.0\n",
      "4.0\n",
      "5.0\n",
      "6.0\n",
      "7.0\n",
      "8.0\n",
      "9.0\n",
      "10.0\n",
      "11.0\n",
      "12.0\n",
      "13.0\n",
      "14.0\n",
      "15.0\n",
      "16.0\n",
      "17.0\n",
      "18.0\n",
      "19.0\n",
      "20.0\n",
      "21.0\n",
      "22.0\n"
     ]
    }
   ],
   "source": [
    "L = 5000\n",
    "subsurface = np.zeros((L,))\n",
    "step = 1.6\n",
    "upperlimit = 20\n",
    "number_of_experiments = 1\n",
    "#std_of_experiments = Experiment_runner(subdurface,t,step, upperlimit, number_of_experiments)\n",
    "data = surface_accumulator_analyzer(subsurface,2,23)"
   ]
  },
  {
   "cell_type": "code",
   "execution_count": 346,
   "metadata": {},
   "outputs": [
    {
     "data": {
      "text/plain": [
       "[<matplotlib.lines.Line2D at 0x7fc9174d4ef0>]"
      ]
     },
     "execution_count": 346,
     "metadata": {},
     "output_type": "execute_result"
    },
    {
     "data": {
      "image/png": "[encoded data removed]",
      "text/plain": [
       "<Figure size 432x288 with 1 Axes>"
      ]
     },
     "metadata": {
      "needs_background": "light"
     },
     "output_type": "display_data"
    }
   ],
   "source": [
    "plt.loglog(data[:,0], data[:,1],'8', label='1.2')"
   ]
  },
  {
   "cell_type": "markdown",
   "metadata": {},
   "source": [
    "# Experiments"
   ]
  },
  {
   "cell_type": "code",
   "execution_count": 384,
   "metadata": {},
   "outputs": [
    {
     "name": "stdout",
     "output_type": "stream",
     "text": [
      "2.0\n",
      "3.0\n",
      "4.0\n",
      "5.0\n",
      "6.0\n",
      "7.0\n",
      "8.0\n",
      "9.0\n",
      "10.0\n",
      "11.0\n",
      "12.0\n",
      "13.0\n",
      "14.0\n",
      "15.0\n",
      "16.0\n",
      "17.0\n",
      "18.0\n",
      "19.0\n",
      "20.0\n",
      "21.0\n",
      "experiment number 1 is running\n",
      "2.0\n",
      "3.0\n",
      "4.0\n",
      "5.0\n",
      "6.0\n",
      "7.0\n",
      "8.0\n",
      "9.0\n",
      "10.0\n",
      "11.0\n",
      "12.0\n",
      "13.0\n",
      "14.0\n",
      "15.0\n",
      "16.0\n",
      "17.0\n",
      "18.0\n",
      "19.0\n",
      "20.0\n",
      "21.0\n",
      "experiment number 2 is running\n",
      "2.0\n",
      "3.0\n",
      "4.0\n",
      "5.0\n",
      "6.0\n",
      "7.0\n",
      "8.0\n",
      "9.0\n",
      "10.0\n",
      "11.0\n",
      "12.0\n",
      "13.0\n",
      "14.0\n",
      "15.0\n",
      "16.0\n",
      "17.0\n",
      "18.0\n",
      "19.0\n",
      "20.0\n",
      "21.0\n",
      "experiment number 3 is running\n",
      "2.0\n",
      "3.0\n",
      "4.0\n",
      "5.0\n",
      "6.0\n",
      "7.0\n",
      "8.0\n",
      "9.0\n",
      "10.0\n",
      "11.0\n",
      "12.0\n",
      "13.0\n",
      "14.0\n",
      "15.0\n",
      "16.0\n",
      "17.0\n",
      "18.0\n",
      "19.0\n",
      "20.0\n",
      "21.0\n",
      "experiment number 4 is running\n",
      "2.0\n",
      "3.0\n",
      "4.0\n",
      "5.0\n",
      "6.0\n",
      "7.0\n",
      "8.0\n",
      "9.0\n",
      "10.0\n",
      "11.0\n",
      "12.0\n",
      "13.0\n",
      "14.0\n",
      "15.0\n",
      "16.0\n",
      "17.0\n",
      "18.0\n",
      "19.0\n",
      "20.0\n",
      "21.0\n",
      "experiment number 5 is running\n",
      "2.0\n",
      "3.0\n",
      "4.0\n",
      "5.0\n",
      "6.0\n",
      "7.0\n",
      "8.0\n",
      "9.0\n",
      "10.0\n",
      "11.0\n",
      "12.0\n",
      "13.0\n",
      "14.0\n",
      "15.0\n",
      "16.0\n",
      "17.0\n",
      "18.0\n",
      "19.0\n",
      "20.0\n",
      "21.0\n",
      "experiment number 6 is running\n",
      "2.0\n",
      "3.0\n",
      "4.0\n",
      "5.0\n",
      "6.0\n",
      "7.0\n",
      "8.0\n",
      "9.0\n",
      "10.0\n",
      "11.0\n",
      "12.0\n",
      "13.0\n",
      "14.0\n",
      "15.0\n",
      "16.0\n",
      "17.0\n",
      "18.0\n",
      "19.0\n",
      "20.0\n",
      "21.0\n",
      "experiment number 7 is running\n"
     ]
    }
   ],
   "source": [
    "L = 100\n",
    "std_of_experiments = Experiment_runner(np.zeros((L,)), 2,22,7)"
   ]
  },
  {
   "cell_type": "code",
   "execution_count": 385,
   "metadata": {},
   "outputs": [
    {
     "data": {
      "text/plain": [
       "[array([[2.00000000e+00, 1.40000000e-01],\n",
       "        [6.00000000e+00, 2.37486842e-01],\n",
       "        [1.40000000e+01, 3.46987031e-01],\n",
       "        [3.00000000e+01, 5.00000000e-01],\n",
       "        [6.20000000e+01, 6.12862138e-01],\n",
       "        [1.26000000e+02, 7.15821207e-01],\n",
       "        [2.54000000e+02, 1.02391406e+00],\n",
       "        [5.10000000e+02, 1.10905365e+00],\n",
       "        [1.02200000e+03, 1.37535450e+00],\n",
       "        [2.04600000e+03, 1.26822711e+00],\n",
       "        [4.09400000e+03, 1.67224400e+00],\n",
       "        [8.19000000e+03, 1.75783958e+00],\n",
       "        [1.63820000e+04, 1.55164429e+00],\n",
       "        [3.27660000e+04, 1.35070352e+00],\n",
       "        [6.55340000e+04, 2.19189416e+00],\n",
       "        [1.31070000e+05, 1.27671453e+00],\n",
       "        [2.62142000e+05, 1.42253295e+00],\n",
       "        [5.24286000e+05, 1.78336760e+00],\n",
       "        [1.04857400e+06, 2.97193540e+00],\n",
       "        [2.09715000e+06, 2.03224014e+00]]),\n",
       " array([[2.00000000e+00, 2.51364277e+00],\n",
       "        [6.00000000e+00, 2.54039367e+00],\n",
       "        [1.40000000e+01, 2.56015625e+00],\n",
       "        [3.00000000e+01, 2.57246963e+00],\n",
       "        [6.20000000e+01, 2.55937492e+00],\n",
       "        [1.26000000e+02, 2.49831944e+00],\n",
       "        [2.54000000e+02, 2.53503452e+00],\n",
       "        [5.10000000e+02, 2.31637648e+00],\n",
       "        [1.02200000e+03, 2.13597753e+00],\n",
       "        [2.04600000e+03, 2.59799923e+00],\n",
       "        [4.09400000e+03, 2.78539046e+00],\n",
       "        [8.19000000e+03, 2.25690053e+00],\n",
       "        [1.63820000e+04, 2.33974358e+00],\n",
       "        [3.27660000e+04, 1.92810788e+00],\n",
       "        [6.55340000e+04, 1.52656477e+00],\n",
       "        [1.31070000e+05, 1.66781294e+00],\n",
       "        [2.62142000e+05, 1.32151428e+00],\n",
       "        [5.24286000e+05, 2.79742739e+00],\n",
       "        [1.04857400e+06, 1.82822318e+00],\n",
       "        [2.09715000e+06, 2.11414285e+00]]),\n",
       " array([[2.00000000e+00, 2.88034720e+00],\n",
       "        [6.00000000e+00, 2.86879766e+00],\n",
       "        [1.40000000e+01, 2.85440011e+00],\n",
       "        [3.00000000e+01, 2.91279934e+00],\n",
       "        [6.20000000e+01, 2.91623044e+00],\n",
       "        [1.26000000e+02, 2.86530976e+00],\n",
       "        [2.54000000e+02, 2.75746260e+00],\n",
       "        [5.10000000e+02, 3.02991749e+00],\n",
       "        [1.02200000e+03, 2.88312331e+00],\n",
       "        [2.04600000e+03, 3.03479818e+00],\n",
       "        [4.09400000e+03, 3.55522151e+00],\n",
       "        [8.19000000e+03, 3.92127530e+00],\n",
       "        [1.63820000e+04, 4.88880353e+00],\n",
       "        [3.27660000e+04, 2.84780617e+00],\n",
       "        [6.55340000e+04, 1.68392399e+00],\n",
       "        [1.31070000e+05, 1.53375357e+00],\n",
       "        [2.62142000e+05, 2.58232453e+00],\n",
       "        [5.24286000e+05, 1.86815417e+00],\n",
       "        [1.04857400e+06, 1.36073510e+00],\n",
       "        [2.09715000e+06, 2.80862956e+00]]),\n",
       " array([[2.00000000e+00, 2.13391659e+00],\n",
       "        [6.00000000e+00, 2.13672647e+00],\n",
       "        [1.40000000e+01, 2.11187121e+00],\n",
       "        [3.00000000e+01, 2.10009524e+00],\n",
       "        [6.20000000e+01, 2.06339526e+00],\n",
       "        [1.26000000e+02, 1.95386796e+00],\n",
       "        [2.54000000e+02, 1.93907194e+00],\n",
       "        [5.10000000e+02, 2.05776578e+00],\n",
       "        [1.02200000e+03, 1.90305018e+00],\n",
       "        [2.04600000e+03, 2.06630104e+00],\n",
       "        [4.09400000e+03, 2.28035085e+00],\n",
       "        [8.19000000e+03, 2.09723628e+00],\n",
       "        [1.63820000e+04, 3.43010204e+00],\n",
       "        [3.27660000e+04, 2.89855136e+00],\n",
       "        [6.55340000e+04, 2.21810730e+00],\n",
       "        [1.31070000e+05, 1.28934092e+00],\n",
       "        [2.62142000e+05, 1.97220689e+00],\n",
       "        [5.24286000e+05, 3.13904444e+00],\n",
       "        [1.04857400e+06, 1.87616630e+00],\n",
       "        [2.09715000e+06, 3.46502525e+00]]),\n",
       " array([[2.00000000e+00, 1.75214155e+00],\n",
       "        [6.00000000e+00, 1.77775139e+00],\n",
       "        [1.40000000e+01, 1.80875648e+00],\n",
       "        [3.00000000e+01, 1.88562987e+00],\n",
       "        [6.20000000e+01, 1.97737199e+00],\n",
       "        [1.26000000e+02, 1.86665476e+00],\n",
       "        [2.54000000e+02, 1.99889970e+00],\n",
       "        [5.10000000e+02, 1.84596858e+00],\n",
       "        [1.02200000e+03, 1.87882942e+00],\n",
       "        [2.04600000e+03, 1.83532014e+00],\n",
       "        [4.09400000e+03, 2.03460070e+00],\n",
       "        [8.19000000e+03, 2.74583321e+00],\n",
       "        [1.63820000e+04, 2.26936114e+00],\n",
       "        [3.27660000e+04, 1.23790145e+00],\n",
       "        [6.55340000e+04, 1.82307433e+00],\n",
       "        [1.31070000e+05, 1.68273587e+00],\n",
       "        [2.62142000e+05, 1.78605711e+00],\n",
       "        [5.24286000e+05, 1.70774705e+00],\n",
       "        [1.04857400e+06, 1.89409609e+00],\n",
       "        [2.09715000e+06, 2.73195900e+00]]),\n",
       " array([[2.00000000e+00, 2.25512749e+00],\n",
       "        [6.00000000e+00, 2.21684460e+00],\n",
       "        [1.40000000e+01, 2.25441788e+00],\n",
       "        [3.00000000e+01, 2.29346899e+00],\n",
       "        [6.20000000e+01, 2.26750965e+00],\n",
       "        [1.26000000e+02, 2.22045040e+00],\n",
       "        [2.54000000e+02, 2.29137513e+00],\n",
       "        [5.10000000e+02, 2.37907545e+00],\n",
       "        [1.02200000e+03, 2.58023255e+00],\n",
       "        [2.04600000e+03, 2.48322371e+00],\n",
       "        [4.09400000e+03, 2.96620970e+00],\n",
       "        [8.19000000e+03, 2.68700577e+00],\n",
       "        [1.63820000e+04, 2.16185106e+00],\n",
       "        [3.27660000e+04, 1.67403704e+00],\n",
       "        [6.55340000e+04, 2.16018518e+00],\n",
       "        [1.31070000e+05, 2.31084400e+00],\n",
       "        [2.62142000e+05, 2.03214173e+00],\n",
       "        [5.24286000e+05, 1.73735431e+00],\n",
       "        [1.04857400e+06, 2.23928560e+00],\n",
       "        [2.09715000e+06, 2.40831892e+00]]),\n",
       " array([[2.00000000e+00, 1.77211738e+00],\n",
       "        [6.00000000e+00, 1.78538511e+00],\n",
       "        [1.40000000e+01, 1.73562669e+00],\n",
       "        [3.00000000e+01, 1.73885019e+00],\n",
       "        [6.20000000e+01, 1.70070574e+00],\n",
       "        [1.26000000e+02, 1.61728167e+00],\n",
       "        [2.54000000e+02, 1.76759724e+00],\n",
       "        [5.10000000e+02, 1.75259807e+00],\n",
       "        [1.02200000e+03, 1.68653491e+00],\n",
       "        [2.04600000e+03, 1.94000000e+00],\n",
       "        [4.09400000e+03, 1.50877434e+00],\n",
       "        [8.19000000e+03, 1.52957510e+00],\n",
       "        [1.63820000e+04, 2.88381692e+00],\n",
       "        [3.27660000e+04, 2.12405273e+00],\n",
       "        [6.55340000e+04, 1.25235778e+00],\n",
       "        [1.31070000e+05, 1.85137787e+00],\n",
       "        [2.62142000e+05, 1.49278264e+00],\n",
       "        [5.24286000e+05, 1.78874258e+00],\n",
       "        [1.04857400e+06, 2.23615742e+00],\n",
       "        [2.09715000e+06, 2.02869416e+00]])]"
      ]
     },
     "execution_count": 385,
     "metadata": {},
     "output_type": "execute_result"
    }
   ],
   "source": [
    "std_of_experiments\n"
   ]
  },
  {
   "cell_type": "code",
   "execution_count": 386,
   "metadata": {},
   "outputs": [],
   "source": [
    "mean_std = mean_std_calculator(std_of_experiments, number_of_experiments)"
   ]
  },
  {
   "cell_type": "code",
   "execution_count": 387,
   "metadata": {},
   "outputs": [
    {
     "data": {
      "text/plain": [
       "[<matplotlib.lines.Line2D at 0x7fc9164cb470>]"
      ]
     },
     "execution_count": 387,
     "metadata": {},
     "output_type": "execute_result"
    },
    {
     "data": {
      "image/png": "[encoded data removed]",
      "text/plain": [
       "<Figure size 432x288 with 1 Axes>"
      ]
     },
     "metadata": {
      "needs_background": "light"
     },
     "output_type": "display_data"
    }
   ],
   "source": [
    "plt.loglog(mean_std[:,0], mean_std[:,1], linewidth=5)\n",
    "plt.loglog(mean_std[:,0], mean_std[:,1], 'o')\n",
    "#for i in range(4):\n",
    " #   plt.loglog(std_of_experiments[i][:,0], std_of_experiments[i][:,1],'o',alpha=1)\n",
    "#plt.errorbar(std_of_experiments[0][:,0], std_of_experiments[0][:,1],yerr=1)\n",
    "\n"
   ]
  },
  {
   "cell_type": "code",
   "execution_count": null,
   "metadata": {},
   "outputs": [],
   "source": []
  },
  {
   "cell_type": "code",
   "execution_count": null,
   "metadata": {},
   "outputs": [],
   "source": []
  },
  {
   "cell_type": "code",
   "execution_count": null,
   "metadata": {},
   "outputs": [],
   "source": []
  },
  {
   "cell_type": "code",
   "execution_count": null,
   "metadata": {},
   "outputs": [],
   "source": []
  },
  {
   "cell_type": "code",
   "execution_count": null,
   "metadata": {},
   "outputs": [],
   "source": []
  },
  {
   "cell_type": "code",
   "execution_count": null,
   "metadata": {},
   "outputs": [],
   "source": []
  },
  {
   "cell_type": "code",
   "execution_count": null,
   "metadata": {},
   "outputs": [],
   "source": []
  },
  {
   "cell_type": "code",
   "execution_count": null,
   "metadata": {},
   "outputs": [],
   "source": []
  }
 ],
 "metadata": {
  "kernelspec": {
   "display_name": "Python 3",
   "language": "python",
   "name": "python3"
  },
  "language_info": {
   "codemirror_mode": {
    "name": "ipython",
    "version": 3
   },
   "file_extension": ".py",
   "mimetype": "text/x-python",
   "name": "python",
   "nbconvert_exporter": "python",
   "pygments_lexer": "ipython3",
   "version": "3.7.3"
  }
 },
 "nbformat": 4,
 "nbformat_minor": 2
}
